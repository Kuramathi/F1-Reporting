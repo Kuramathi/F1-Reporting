{
 "cells": [
  {
   "cell_type": "code",
   "execution_count": 30,
   "metadata": {
    "collapsed": true,
    "ExecuteTime": {
     "end_time": "2023-07-11T13:50:39.421819300Z",
     "start_time": "2023-07-11T13:50:39.155330400Z"
    }
   },
   "outputs": [],
   "source": [
    "import numpy as np  # linear algebra\n",
    "import pandas as pd  # data processing, CSV file I/O (e.g. pd.read_csv)\n",
    "import datetime as dt\n",
    "import matplotlib.pyplot as plt\n",
    "import seaborn as sns\n",
    "import plotly.graph_objects as go\n",
    "import plotly.express as px"
   ]
  },
  {
   "cell_type": "code",
   "execution_count": 31,
   "outputs": [],
   "source": [
    "#Read data from multiple CSV\n",
    "circuits = pd.read_csv('../data/circuits.csv', index_col=0, na_values=r'\\N')\n",
    "constructorResults = pd.read_csv('../data/constructor_results.csv', index_col=0, na_values=r'\\N')\n",
    "constructors = pd.read_csv('../data/constructors.csv', index_col=0, na_values=r'\\N')\n",
    "constructorStandings = pd.read_csv('../data/constructor_standings.csv', index_col=0, na_values=r'\\N')\n",
    "drivers = pd.read_csv('../data/drivers.csv', index_col=0, na_values=r'\\N')\n",
    "driverStandings = pd.read_csv('../data/driver_standings.csv', index_col=0, na_values=r'\\N')\n",
    "lapTimes = pd.read_csv('../data/lap_times.csv')\n",
    "pitStops = pd.read_csv('../data/pit_stops.csv')\n",
    "qualifying = pd.read_csv('../data/qualifying.csv', index_col=0, na_values=r'\\N')\n",
    "races = pd.read_csv('../data/races.csv', na_values=r'\\N')\n",
    "results = pd.read_csv('../data/results.csv', index_col=0, na_values=r'\\N')\n",
    "seasons = pd.read_csv('../data/seasons.csv', index_col=0, na_values=r'\\N')\n",
    "status = pd.read_csv('../data/status.csv', index_col=0, na_values=r'\\N')"
   ],
   "metadata": {
    "collapsed": false,
    "ExecuteTime": {
     "end_time": "2023-07-11T13:50:39.861816900Z",
     "start_time": "2023-07-11T13:50:39.155330400Z"
    }
   }
  },
  {
   "cell_type": "code",
   "execution_count": 32,
   "outputs": [],
   "source": [
    "constructor_color_map = {\n",
    "    'Toro Rosso': '#0000FF',\n",
    "    'Mercedes': '#6CD3BF',\n",
    "    'Red Bull': '#1E5BC6',\n",
    "    'Ferrari': '#ED1C24',\n",
    "    'Williams': '#37BEDD',\n",
    "    'Force India': '#FF80C7',\n",
    "    'Virgin': '#c82e37',\n",
    "    'Renault': '#FFD800',\n",
    "    'McLaren': '#F58020',\n",
    "    'Sauber': '#006EFF',\n",
    "    'Lotus': '#FFB800',\n",
    "    'HRT': '#b2945e',\n",
    "    'Caterham': '#0b361f',\n",
    "    'Lotus F1': '#FFB800',\n",
    "    'Marussia': '#6E0000',\n",
    "    'Manor Marussia': '#6E0000',\n",
    "    'Haas F1 Team': '#B6BABD',\n",
    "    'Racing Point': '#F596C8',\n",
    "    'Aston Martin': '#2D826D',\n",
    "    'Alfa Romeo': '#B12039',\n",
    "    'AlphaTauri': '#4E7C9B',\n",
    "    'Alpine F1 Team': '#2293D1'\n",
    "}"
   ],
   "metadata": {
    "collapsed": false,
    "ExecuteTime": {
     "end_time": "2023-07-11T13:50:39.877573Z",
     "start_time": "2023-07-11T13:50:39.861816900Z"
    }
   }
  },
  {
   "cell_type": "code",
   "execution_count": 33,
   "outputs": [],
   "source": [
    "drivers_color_map = {\n",
    "    'Lewis Hamilton': '#6CD3BF',\n",
    "    'George Russel': '#6CD3BF',\n",
    "    'Max Verstappen': '#1E5BC6',\n",
    "    'Checo Perez': '#1E5BC6',\n",
    "    'Charles Leclerc': '#ED1C24',\n",
    "    'Carlos Sainz': '#ED1C24',\n",
    "    'Lando Norris': '#F58020',\n",
    "    'Daniel Ricciardo': '#F58020',\n",
    "    'Fernando Alonso': '#2293D1',\n",
    "    'Esteban Ocon': '#2293D1'\n",
    "}"
   ],
   "metadata": {
    "collapsed": false,
    "ExecuteTime": {
     "end_time": "2023-07-11T13:50:39.908602100Z",
     "start_time": "2023-07-11T13:50:39.877573Z"
    }
   }
  },
  {
   "cell_type": "code",
   "execution_count": 34,
   "outputs": [],
   "source": [
    "# Post-reading formatting\n",
    "drivers = drivers.rename(columns={'nationality': 'driverNationality', 'url': 'driverUrl'})\n",
    "drivers['driverName'] = drivers['forename'] + ' ' + drivers['surname']\n",
    "\n",
    "constructors = constructors.rename(\n",
    "    columns={'name': 'constructorName', 'nationality': 'constructorNationality', 'url': 'constructorUrl'})\n",
    "\n",
    "races.set_index('raceId', inplace=True)\n",
    "races['date'] = races['date'].apply(lambda x: dt.datetime.strptime(x, '%Y-%m-%d'))\n",
    "\n",
    "pitStops = pitStops.rename(columns={'time': 'pitTime'})\n",
    "pitStops['seconds'] = pitStops['milliseconds'].apply(lambda x: x / 1000)\n",
    "\n",
    "results['seconds'] = results['milliseconds'].apply(lambda x: x / 1000)\n",
    "\n",
    "circuits = circuits.rename(\n",
    "    columns={'name': 'circuitName', 'location': 'circuitLocation', 'country': 'circuitCountry', 'url': 'circuitUrl'})"
   ],
   "metadata": {
    "collapsed": false,
    "ExecuteTime": {
     "end_time": "2023-07-11T13:50:39.955476700Z",
     "start_time": "2023-07-11T13:50:39.892970600Z"
    }
   }
  },
  {
   "cell_type": "code",
   "execution_count": 35,
   "outputs": [],
   "source": [
    "newResults = pd.merge(results, races, left_on='raceId', right_index=True, how='left')\n",
    "newResults = pd.merge(newResults, constructors, left_on='constructorId', right_index=True, how='left')\n",
    "newResults = pd.merge(newResults, drivers, left_on='driverId', right_index=True, how='left')\n",
    "newResults = pd.merge(newResults,circuits,left_on='circuitId',right_index=True,how='left')"
   ],
   "metadata": {
    "collapsed": false,
    "ExecuteTime": {
     "end_time": "2023-07-11T13:50:40.033688800Z",
     "start_time": "2023-07-11T13:50:39.955476700Z"
    }
   }
  },
  {
   "cell_type": "code",
   "execution_count": 36,
   "outputs": [],
   "source": [
    "newPitStops = pd.merge(pitStops, races, left_on='raceId', right_index=True, how='left')\n",
    "newPitStops = pd.merge(newPitStops, newResults[['raceId', 'driverId', 'driverName', 'constructorId', 'constructorName']], left_on=['raceId', 'driverId'], right_on=['raceId', 'driverId'])"
   ],
   "metadata": {
    "collapsed": false,
    "ExecuteTime": {
     "end_time": "2023-07-11T13:50:40.090013800Z",
     "start_time": "2023-07-11T13:50:40.033688800Z"
    }
   }
  },
  {
   "cell_type": "code",
   "execution_count": 37,
   "outputs": [
    {
     "data": {
      "text/plain": "                 driverName constructorName\nresultId                                   \n1            Lewis Hamilton         McLaren\n2             Nick Heidfeld      BMW Sauber\n3              Nico Rosberg        Williams\n4           Fernando Alonso         Renault\n5         Heikki Kovalainen         McLaren\n...                     ...             ...\n24974          Yuki Tsunoda      AlphaTauri\n24981       Mick Schumacher    Haas F1 Team\n24985        Nikita Mazepin    Haas F1 Team\n25415           Guanyu Zhou      Alfa Romeo\n25714         Nyck de Vries        Williams\n\n[855 rows x 2 columns]",
      "text/html": "<div>\n<style scoped>\n    .dataframe tbody tr th:only-of-type {\n        vertical-align: middle;\n    }\n\n    .dataframe tbody tr th {\n        vertical-align: top;\n    }\n\n    .dataframe thead th {\n        text-align: right;\n    }\n</style>\n<table border=\"1\" class=\"dataframe\">\n  <thead>\n    <tr style=\"text-align: right;\">\n      <th></th>\n      <th>driverName</th>\n      <th>constructorName</th>\n    </tr>\n    <tr>\n      <th>resultId</th>\n      <th></th>\n      <th></th>\n    </tr>\n  </thead>\n  <tbody>\n    <tr>\n      <th>1</th>\n      <td>Lewis Hamilton</td>\n      <td>McLaren</td>\n    </tr>\n    <tr>\n      <th>2</th>\n      <td>Nick Heidfeld</td>\n      <td>BMW Sauber</td>\n    </tr>\n    <tr>\n      <th>3</th>\n      <td>Nico Rosberg</td>\n      <td>Williams</td>\n    </tr>\n    <tr>\n      <th>4</th>\n      <td>Fernando Alonso</td>\n      <td>Renault</td>\n    </tr>\n    <tr>\n      <th>5</th>\n      <td>Heikki Kovalainen</td>\n      <td>McLaren</td>\n    </tr>\n    <tr>\n      <th>...</th>\n      <td>...</td>\n      <td>...</td>\n    </tr>\n    <tr>\n      <th>24974</th>\n      <td>Yuki Tsunoda</td>\n      <td>AlphaTauri</td>\n    </tr>\n    <tr>\n      <th>24981</th>\n      <td>Mick Schumacher</td>\n      <td>Haas F1 Team</td>\n    </tr>\n    <tr>\n      <th>24985</th>\n      <td>Nikita Mazepin</td>\n      <td>Haas F1 Team</td>\n    </tr>\n    <tr>\n      <th>25415</th>\n      <td>Guanyu Zhou</td>\n      <td>Alfa Romeo</td>\n    </tr>\n    <tr>\n      <th>25714</th>\n      <td>Nyck de Vries</td>\n      <td>Williams</td>\n    </tr>\n  </tbody>\n</table>\n<p>855 rows × 2 columns</p>\n</div>"
     },
     "execution_count": 37,
     "metadata": {},
     "output_type": "execute_result"
    }
   ],
   "source": [
    "df_drivers_and_constructors = newResults[['driverName', 'constructorName']]\n",
    "df_drivers_and_constructors = df_drivers_and_constructors.drop_duplicates(subset='driverName')"
   ],
   "metadata": {
    "collapsed": false,
    "ExecuteTime": {
     "end_time": "2023-07-11T13:50:40.152487900Z",
     "start_time": "2023-07-11T13:50:40.090013800Z"
    }
   }
  },
  {
   "cell_type": "code",
   "execution_count": 68,
   "outputs": [],
   "source": [
    "#Variables which will be used many times\n",
    "year = 2021\n",
    "champion = \"Max Verstappen\"\n",
    "focusedRace = 'French Grand Prix'\n",
    "driver_focused = ['Max Verstappen', 'Charles Leclerc', 'Lewis Hamilton']"
   ],
   "metadata": {
    "collapsed": false,
    "ExecuteTime": {
     "end_time": "2023-07-11T14:35:14.502889300Z",
     "start_time": "2023-07-11T14:35:14.471647100Z"
    }
   }
  },
  {
   "cell_type": "code",
   "execution_count": 39,
   "outputs": [
    {
     "name": "stderr",
     "output_type": "stream",
     "text": [
      "C:\\Users\\Thoma\\AppData\\Local\\Temp\\ipykernel_19848\\868017080.py:2: FutureWarning:\n",
      "\n",
      "The default value of numeric_only in DataFrameGroupBy.mean is deprecated. In a future version, numeric_only will default to False. Either specify numeric_only or select only columns which should be valid for the function.\n",
      "\n"
     ]
    },
    {
     "data": {
      "application/vnd.plotly.v1+json": {
       "data": [
        {
         "alignmentgroup": "True",
         "hovertemplate": "constructorName=%{x}<br>seconds=%{y}<extra></extra>",
         "legendgroup": "McLaren",
         "marker": {
          "color": "#F58020"
         },
         "name": "McLaren",
         "notched": false,
         "offsetgroup": "McLaren",
         "orientation": "v",
         "showlegend": true,
         "x": [
          "McLaren",
          "McLaren",
          "McLaren",
          "McLaren",
          "McLaren",
          "McLaren",
          "McLaren",
          "McLaren",
          "McLaren",
          "McLaren",
          "McLaren",
          "McLaren",
          "McLaren",
          "McLaren",
          "McLaren",
          "McLaren",
          "McLaren",
          "McLaren",
          "McLaren",
          "McLaren",
          "McLaren",
          "McLaren"
         ],
         "x0": " ",
         "xaxis": "x",
         "y": [
          17.853,
          19.412875,
          19.583333333333332,
          20.5165,
          21.6185,
          21.895333333333337,
          22.12525,
          22.349833333333333,
          22.4325,
          23.20675,
          23.31325,
          24.5925,
          24.985999999999997,
          25.07375,
          25.308166666666665,
          25.554000000000002,
          27.003500000000003,
          29.562400000000004,
          29.983999999999998,
          30.737000000000002,
          30.75225,
          36.9015
         ],
         "y0": " ",
         "yaxis": "y",
         "type": "box"
        },
        {
         "alignmentgroup": "True",
         "hovertemplate": "constructorName=%{x}<br>seconds=%{y}<extra></extra>",
         "legendgroup": "Red Bull",
         "marker": {
          "color": "#1E5BC6"
         },
         "name": "Red Bull",
         "notched": false,
         "offsetgroup": "Red Bull",
         "orientation": "v",
         "showlegend": true,
         "x": [
          "Red Bull",
          "Red Bull",
          "Red Bull",
          "Red Bull",
          "Red Bull",
          "Red Bull",
          "Red Bull",
          "Red Bull",
          "Red Bull",
          "Red Bull",
          "Red Bull",
          "Red Bull",
          "Red Bull",
          "Red Bull",
          "Red Bull",
          "Red Bull",
          "Red Bull",
          "Red Bull",
          "Red Bull",
          "Red Bull",
          "Red Bull",
          "Red Bull"
         ],
         "x0": " ",
         "xaxis": "x",
         "y": [
          17.8575,
          17.9935,
          18.583333333333332,
          20.606,
          21.216,
          21.820666666666668,
          21.90416666666667,
          21.9795,
          22.1165,
          22.55075,
          23.6895,
          23.71975,
          23.9605,
          24.733666666666664,
          24.814999999999998,
          25.721,
          26.081,
          26.549400000000002,
          29.577333333333332,
          29.984,
          30.5714,
          36.6635
         ],
         "y0": " ",
         "yaxis": "y",
         "type": "box"
        },
        {
         "alignmentgroup": "True",
         "hovertemplate": "constructorName=%{x}<br>seconds=%{y}<extra></extra>",
         "legendgroup": "Ferrari",
         "marker": {
          "color": "#ED1C24"
         },
         "name": "Ferrari",
         "notched": false,
         "offsetgroup": "Ferrari",
         "orientation": "v",
         "showlegend": true,
         "x": [
          "Ferrari",
          "Ferrari",
          "Ferrari",
          "Ferrari",
          "Ferrari",
          "Ferrari",
          "Ferrari",
          "Ferrari",
          "Ferrari",
          "Ferrari",
          "Ferrari",
          "Ferrari",
          "Ferrari",
          "Ferrari",
          "Ferrari",
          "Ferrari",
          "Ferrari",
          "Ferrari",
          "Ferrari",
          "Ferrari",
          "Ferrari",
          "Ferrari"
         ],
         "x0": " ",
         "xaxis": "x",
         "y": [
          17.973,
          20.30142857142857,
          20.88,
          21.2795,
          21.441,
          21.905,
          22.076,
          22.3134,
          22.831000000000003,
          23.2028,
          23.212,
          23.8814,
          24.0345,
          24.590500000000002,
          24.8135,
          25.098333333333333,
          25.899,
          26.136666666666667,
          28.604666666666663,
          31.3305,
          32.79866666666667,
          41.875
         ],
         "y0": " ",
         "yaxis": "y",
         "type": "box"
        },
        {
         "alignmentgroup": "True",
         "hovertemplate": "constructorName=%{x}<br>seconds=%{y}<extra></extra>",
         "legendgroup": "AlphaTauri",
         "marker": {
          "color": "#4E7C9B"
         },
         "name": "AlphaTauri",
         "notched": false,
         "offsetgroup": "AlphaTauri",
         "orientation": "v",
         "showlegend": true,
         "x": [
          "AlphaTauri",
          "AlphaTauri",
          "AlphaTauri",
          "AlphaTauri",
          "AlphaTauri",
          "AlphaTauri",
          "AlphaTauri",
          "AlphaTauri",
          "AlphaTauri",
          "AlphaTauri",
          "AlphaTauri",
          "AlphaTauri",
          "AlphaTauri",
          "AlphaTauri",
          "AlphaTauri",
          "AlphaTauri",
          "AlphaTauri",
          "AlphaTauri",
          "AlphaTauri",
          "AlphaTauri",
          "AlphaTauri",
          "AlphaTauri"
         ],
         "x0": " ",
         "xaxis": "x",
         "y": [
          18.016833333333334,
          18.6845,
          19.2595,
          21.777,
          21.902666666666665,
          22.82,
          23.332333333333334,
          23.394000000000002,
          23.4005,
          23.467,
          24.429666666666666,
          24.87925,
          24.92675,
          25.0166,
          25.817999999999998,
          27.6892,
          28.1222,
          29.093666666666667,
          30.3885,
          30.58,
          31.279666666666667,
          36.8085
         ],
         "y0": " ",
         "yaxis": "y",
         "type": "box"
        },
        {
         "alignmentgroup": "True",
         "hovertemplate": "constructorName=%{x}<br>seconds=%{y}<extra></extra>",
         "legendgroup": "Mercedes",
         "marker": {
          "color": "#6CD3BF"
         },
         "name": "Mercedes",
         "notched": false,
         "offsetgroup": "Mercedes",
         "orientation": "v",
         "showlegend": true,
         "x": [
          "Mercedes",
          "Mercedes",
          "Mercedes",
          "Mercedes",
          "Mercedes",
          "Mercedes",
          "Mercedes",
          "Mercedes",
          "Mercedes",
          "Mercedes",
          "Mercedes",
          "Mercedes",
          "Mercedes",
          "Mercedes",
          "Mercedes",
          "Mercedes",
          "Mercedes",
          "Mercedes",
          "Mercedes",
          "Mercedes",
          "Mercedes",
          "Mercedes"
         ],
         "x0": " ",
         "xaxis": "x",
         "y": [
          18.177999999999997,
          18.927500000000002,
          18.971500000000002,
          20.8415,
          21.6015,
          22.075,
          22.901,
          23.035666666666668,
          23.62425,
          23.73466666666667,
          23.9265,
          24.481333333333335,
          24.490333333333336,
          24.885,
          25.3982,
          25.562,
          26.41375,
          26.893500000000003,
          29.4165,
          31.9095,
          32.8428,
          37.733000000000004
         ],
         "y0": " ",
         "yaxis": "y",
         "type": "box"
        },
        {
         "alignmentgroup": "True",
         "hovertemplate": "constructorName=%{x}<br>seconds=%{y}<extra></extra>",
         "legendgroup": "Alfa Romeo",
         "marker": {
          "color": "#B12039"
         },
         "name": "Alfa Romeo",
         "notched": false,
         "offsetgroup": "Alfa Romeo",
         "orientation": "v",
         "showlegend": true,
         "x": [
          "Alfa Romeo",
          "Alfa Romeo",
          "Alfa Romeo",
          "Alfa Romeo",
          "Alfa Romeo",
          "Alfa Romeo",
          "Alfa Romeo",
          "Alfa Romeo",
          "Alfa Romeo",
          "Alfa Romeo",
          "Alfa Romeo",
          "Alfa Romeo",
          "Alfa Romeo",
          "Alfa Romeo",
          "Alfa Romeo",
          "Alfa Romeo",
          "Alfa Romeo",
          "Alfa Romeo",
          "Alfa Romeo",
          "Alfa Romeo",
          "Alfa Romeo"
         ],
         "x0": " ",
         "xaxis": "x",
         "y": [
          18.3965,
          19.614,
          20.014499999999998,
          21.990000000000002,
          22.722333333333335,
          22.879,
          23.527,
          23.554000000000002,
          24.0405,
          24.270333333333337,
          24.49175,
          24.566,
          24.62975,
          24.78333333333333,
          25.061999999999998,
          25.7295,
          25.784666666666666,
          25.933833333333336,
          32.167,
          36.58,
          36.93966666666667
         ],
         "y0": " ",
         "yaxis": "y",
         "type": "box"
        },
        {
         "alignmentgroup": "True",
         "hovertemplate": "constructorName=%{x}<br>seconds=%{y}<extra></extra>",
         "legendgroup": "Aston Martin",
         "marker": {
          "color": "#2D826D"
         },
         "name": "Aston Martin",
         "notched": false,
         "offsetgroup": "Aston Martin",
         "orientation": "v",
         "showlegend": true,
         "x": [
          "Aston Martin",
          "Aston Martin",
          "Aston Martin",
          "Aston Martin",
          "Aston Martin",
          "Aston Martin",
          "Aston Martin",
          "Aston Martin",
          "Aston Martin",
          "Aston Martin",
          "Aston Martin",
          "Aston Martin",
          "Aston Martin",
          "Aston Martin",
          "Aston Martin",
          "Aston Martin",
          "Aston Martin",
          "Aston Martin",
          "Aston Martin",
          "Aston Martin",
          "Aston Martin",
          "Aston Martin"
         ],
         "x0": " ",
         "xaxis": "x",
         "y": [
          18.535375,
          19.068,
          19.4675,
          21.154,
          21.7695,
          21.881999999999998,
          22.26733333333333,
          22.4565,
          23.0062,
          23.054000000000002,
          23.23975,
          23.87725,
          24.031000000000002,
          24.113,
          24.254,
          26.26,
          27.045799999999996,
          29.1995,
          29.293666666666667,
          29.7835,
          31.5755,
          38.2575
         ],
         "y0": " ",
         "yaxis": "y",
         "type": "box"
        },
        {
         "alignmentgroup": "True",
         "hovertemplate": "constructorName=%{x}<br>seconds=%{y}<extra></extra>",
         "legendgroup": "Alpine F1 Team",
         "marker": {
          "color": "#2293D1"
         },
         "name": "Alpine F1 Team",
         "notched": false,
         "offsetgroup": "Alpine F1 Team",
         "orientation": "v",
         "showlegend": true,
         "x": [
          "Alpine F1 Team",
          "Alpine F1 Team",
          "Alpine F1 Team",
          "Alpine F1 Team",
          "Alpine F1 Team",
          "Alpine F1 Team",
          "Alpine F1 Team",
          "Alpine F1 Team",
          "Alpine F1 Team",
          "Alpine F1 Team",
          "Alpine F1 Team",
          "Alpine F1 Team",
          "Alpine F1 Team",
          "Alpine F1 Team",
          "Alpine F1 Team",
          "Alpine F1 Team",
          "Alpine F1 Team",
          "Alpine F1 Team",
          "Alpine F1 Team",
          "Alpine F1 Team",
          "Alpine F1 Team"
         ],
         "x0": " ",
         "xaxis": "x",
         "y": [
          18.656499999999998,
          18.772666666666666,
          20.3285,
          21.342,
          21.6045,
          21.789666666666665,
          22.299,
          22.750999999999998,
          22.80316666666667,
          22.832,
          23.39925,
          24.336,
          24.467000000000002,
          24.63675,
          24.700499999999998,
          24.8872,
          25.81533333333333,
          28.276,
          29.305333333333333,
          31.409,
          40.6355
         ],
         "y0": " ",
         "yaxis": "y",
         "type": "box"
        },
        {
         "alignmentgroup": "True",
         "hovertemplate": "constructorName=%{x}<br>seconds=%{y}<extra></extra>",
         "legendgroup": "Williams",
         "marker": {
          "color": "#37BEDD"
         },
         "name": "Williams",
         "notched": false,
         "offsetgroup": "Williams",
         "orientation": "v",
         "showlegend": true,
         "x": [
          "Williams",
          "Williams",
          "Williams",
          "Williams",
          "Williams",
          "Williams",
          "Williams",
          "Williams",
          "Williams",
          "Williams",
          "Williams",
          "Williams",
          "Williams",
          "Williams",
          "Williams",
          "Williams",
          "Williams",
          "Williams",
          "Williams",
          "Williams",
          "Williams"
         ],
         "x0": " ",
         "xaxis": "x",
         "y": [
          18.673125,
          18.777666666666665,
          19.622,
          20.683,
          21.83775,
          22.796999999999997,
          23.00985714285714,
          23.682333333333332,
          24.61275,
          24.629,
          24.64525,
          24.785,
          24.898666666666667,
          25.072,
          25.224333333333334,
          25.347,
          26.2312,
          28.633499999999998,
          30.959,
          31.756600000000002,
          37.273
         ],
         "y0": " ",
         "yaxis": "y",
         "type": "box"
        },
        {
         "alignmentgroup": "True",
         "hovertemplate": "constructorName=%{x}<br>seconds=%{y}<extra></extra>",
         "legendgroup": "Haas F1 Team",
         "marker": {
          "color": "#B6BABD"
         },
         "name": "Haas F1 Team",
         "notched": false,
         "offsetgroup": "Haas F1 Team",
         "orientation": "v",
         "showlegend": true,
         "x": [
          "Haas F1 Team",
          "Haas F1 Team",
          "Haas F1 Team",
          "Haas F1 Team",
          "Haas F1 Team",
          "Haas F1 Team",
          "Haas F1 Team",
          "Haas F1 Team",
          "Haas F1 Team",
          "Haas F1 Team",
          "Haas F1 Team",
          "Haas F1 Team",
          "Haas F1 Team",
          "Haas F1 Team",
          "Haas F1 Team",
          "Haas F1 Team",
          "Haas F1 Team",
          "Haas F1 Team",
          "Haas F1 Team",
          "Haas F1 Team",
          "Haas F1 Team",
          "Haas F1 Team"
         ],
         "x0": " ",
         "xaxis": "x",
         "y": [
          19.075000000000003,
          20.673375,
          22.32325,
          22.374,
          22.730999999999998,
          23.30675,
          23.586333333333332,
          23.700499999999998,
          24.3034,
          24.8215,
          24.83775,
          25.05475,
          25.101,
          25.641,
          26.299666666666667,
          26.608999999999998,
          29.817333333333334,
          32.023,
          32.2455,
          34.44325,
          36.72225,
          38.262
         ],
         "y0": " ",
         "yaxis": "y",
         "type": "box"
        }
       ],
       "layout": {
        "template": {
         "data": {
          "histogram2dcontour": [
           {
            "type": "histogram2dcontour",
            "colorbar": {
             "outlinewidth": 0,
             "ticks": ""
            },
            "colorscale": [
             [
              0.0,
              "#0d0887"
             ],
             [
              0.1111111111111111,
              "#46039f"
             ],
             [
              0.2222222222222222,
              "#7201a8"
             ],
             [
              0.3333333333333333,
              "#9c179e"
             ],
             [
              0.4444444444444444,
              "#bd3786"
             ],
             [
              0.5555555555555556,
              "#d8576b"
             ],
             [
              0.6666666666666666,
              "#ed7953"
             ],
             [
              0.7777777777777778,
              "#fb9f3a"
             ],
             [
              0.8888888888888888,
              "#fdca26"
             ],
             [
              1.0,
              "#f0f921"
             ]
            ]
           }
          ],
          "choropleth": [
           {
            "type": "choropleth",
            "colorbar": {
             "outlinewidth": 0,
             "ticks": ""
            }
           }
          ],
          "histogram2d": [
           {
            "type": "histogram2d",
            "colorbar": {
             "outlinewidth": 0,
             "ticks": ""
            },
            "colorscale": [
             [
              0.0,
              "#0d0887"
             ],
             [
              0.1111111111111111,
              "#46039f"
             ],
             [
              0.2222222222222222,
              "#7201a8"
             ],
             [
              0.3333333333333333,
              "#9c179e"
             ],
             [
              0.4444444444444444,
              "#bd3786"
             ],
             [
              0.5555555555555556,
              "#d8576b"
             ],
             [
              0.6666666666666666,
              "#ed7953"
             ],
             [
              0.7777777777777778,
              "#fb9f3a"
             ],
             [
              0.8888888888888888,
              "#fdca26"
             ],
             [
              1.0,
              "#f0f921"
             ]
            ]
           }
          ],
          "heatmap": [
           {
            "type": "heatmap",
            "colorbar": {
             "outlinewidth": 0,
             "ticks": ""
            },
            "colorscale": [
             [
              0.0,
              "#0d0887"
             ],
             [
              0.1111111111111111,
              "#46039f"
             ],
             [
              0.2222222222222222,
              "#7201a8"
             ],
             [
              0.3333333333333333,
              "#9c179e"
             ],
             [
              0.4444444444444444,
              "#bd3786"
             ],
             [
              0.5555555555555556,
              "#d8576b"
             ],
             [
              0.6666666666666666,
              "#ed7953"
             ],
             [
              0.7777777777777778,
              "#fb9f3a"
             ],
             [
              0.8888888888888888,
              "#fdca26"
             ],
             [
              1.0,
              "#f0f921"
             ]
            ]
           }
          ],
          "heatmapgl": [
           {
            "type": "heatmapgl",
            "colorbar": {
             "outlinewidth": 0,
             "ticks": ""
            },
            "colorscale": [
             [
              0.0,
              "#0d0887"
             ],
             [
              0.1111111111111111,
              "#46039f"
             ],
             [
              0.2222222222222222,
              "#7201a8"
             ],
             [
              0.3333333333333333,
              "#9c179e"
             ],
             [
              0.4444444444444444,
              "#bd3786"
             ],
             [
              0.5555555555555556,
              "#d8576b"
             ],
             [
              0.6666666666666666,
              "#ed7953"
             ],
             [
              0.7777777777777778,
              "#fb9f3a"
             ],
             [
              0.8888888888888888,
              "#fdca26"
             ],
             [
              1.0,
              "#f0f921"
             ]
            ]
           }
          ],
          "contourcarpet": [
           {
            "type": "contourcarpet",
            "colorbar": {
             "outlinewidth": 0,
             "ticks": ""
            }
           }
          ],
          "contour": [
           {
            "type": "contour",
            "colorbar": {
             "outlinewidth": 0,
             "ticks": ""
            },
            "colorscale": [
             [
              0.0,
              "#0d0887"
             ],
             [
              0.1111111111111111,
              "#46039f"
             ],
             [
              0.2222222222222222,
              "#7201a8"
             ],
             [
              0.3333333333333333,
              "#9c179e"
             ],
             [
              0.4444444444444444,
              "#bd3786"
             ],
             [
              0.5555555555555556,
              "#d8576b"
             ],
             [
              0.6666666666666666,
              "#ed7953"
             ],
             [
              0.7777777777777778,
              "#fb9f3a"
             ],
             [
              0.8888888888888888,
              "#fdca26"
             ],
             [
              1.0,
              "#f0f921"
             ]
            ]
           }
          ],
          "surface": [
           {
            "type": "surface",
            "colorbar": {
             "outlinewidth": 0,
             "ticks": ""
            },
            "colorscale": [
             [
              0.0,
              "#0d0887"
             ],
             [
              0.1111111111111111,
              "#46039f"
             ],
             [
              0.2222222222222222,
              "#7201a8"
             ],
             [
              0.3333333333333333,
              "#9c179e"
             ],
             [
              0.4444444444444444,
              "#bd3786"
             ],
             [
              0.5555555555555556,
              "#d8576b"
             ],
             [
              0.6666666666666666,
              "#ed7953"
             ],
             [
              0.7777777777777778,
              "#fb9f3a"
             ],
             [
              0.8888888888888888,
              "#fdca26"
             ],
             [
              1.0,
              "#f0f921"
             ]
            ]
           }
          ],
          "mesh3d": [
           {
            "type": "mesh3d",
            "colorbar": {
             "outlinewidth": 0,
             "ticks": ""
            }
           }
          ],
          "scatter": [
           {
            "marker": {
             "line": {
              "color": "#283442"
             }
            },
            "type": "scatter"
           }
          ],
          "parcoords": [
           {
            "type": "parcoords",
            "line": {
             "colorbar": {
              "outlinewidth": 0,
              "ticks": ""
             }
            }
           }
          ],
          "scatterpolargl": [
           {
            "type": "scatterpolargl",
            "marker": {
             "colorbar": {
              "outlinewidth": 0,
              "ticks": ""
             }
            }
           }
          ],
          "bar": [
           {
            "error_x": {
             "color": "#f2f5fa"
            },
            "error_y": {
             "color": "#f2f5fa"
            },
            "marker": {
             "line": {
              "color": "rgb(17,17,17)",
              "width": 0.5
             },
             "pattern": {
              "fillmode": "overlay",
              "size": 10,
              "solidity": 0.2
             }
            },
            "type": "bar"
           }
          ],
          "scattergeo": [
           {
            "type": "scattergeo",
            "marker": {
             "colorbar": {
              "outlinewidth": 0,
              "ticks": ""
             }
            }
           }
          ],
          "scatterpolar": [
           {
            "type": "scatterpolar",
            "marker": {
             "colorbar": {
              "outlinewidth": 0,
              "ticks": ""
             }
            }
           }
          ],
          "histogram": [
           {
            "marker": {
             "pattern": {
              "fillmode": "overlay",
              "size": 10,
              "solidity": 0.2
             }
            },
            "type": "histogram"
           }
          ],
          "scattergl": [
           {
            "marker": {
             "line": {
              "color": "#283442"
             }
            },
            "type": "scattergl"
           }
          ],
          "scatter3d": [
           {
            "type": "scatter3d",
            "line": {
             "colorbar": {
              "outlinewidth": 0,
              "ticks": ""
             }
            },
            "marker": {
             "colorbar": {
              "outlinewidth": 0,
              "ticks": ""
             }
            }
           }
          ],
          "scattermapbox": [
           {
            "type": "scattermapbox",
            "marker": {
             "colorbar": {
              "outlinewidth": 0,
              "ticks": ""
             }
            }
           }
          ],
          "scatterternary": [
           {
            "type": "scatterternary",
            "marker": {
             "colorbar": {
              "outlinewidth": 0,
              "ticks": ""
             }
            }
           }
          ],
          "scattercarpet": [
           {
            "type": "scattercarpet",
            "marker": {
             "colorbar": {
              "outlinewidth": 0,
              "ticks": ""
             }
            }
           }
          ],
          "carpet": [
           {
            "aaxis": {
             "endlinecolor": "#A2B1C6",
             "gridcolor": "#506784",
             "linecolor": "#506784",
             "minorgridcolor": "#506784",
             "startlinecolor": "#A2B1C6"
            },
            "baxis": {
             "endlinecolor": "#A2B1C6",
             "gridcolor": "#506784",
             "linecolor": "#506784",
             "minorgridcolor": "#506784",
             "startlinecolor": "#A2B1C6"
            },
            "type": "carpet"
           }
          ],
          "table": [
           {
            "cells": {
             "fill": {
              "color": "#506784"
             },
             "line": {
              "color": "rgb(17,17,17)"
             }
            },
            "header": {
             "fill": {
              "color": "#2a3f5f"
             },
             "line": {
              "color": "rgb(17,17,17)"
             }
            },
            "type": "table"
           }
          ],
          "barpolar": [
           {
            "marker": {
             "line": {
              "color": "rgb(17,17,17)",
              "width": 0.5
             },
             "pattern": {
              "fillmode": "overlay",
              "size": 10,
              "solidity": 0.2
             }
            },
            "type": "barpolar"
           }
          ],
          "pie": [
           {
            "automargin": true,
            "type": "pie"
           }
          ]
         },
         "layout": {
          "autotypenumbers": "strict",
          "colorway": [
           "#636efa",
           "#EF553B",
           "#00cc96",
           "#ab63fa",
           "#FFA15A",
           "#19d3f3",
           "#FF6692",
           "#B6E880",
           "#FF97FF",
           "#FECB52"
          ],
          "font": {
           "color": "#f2f5fa"
          },
          "hovermode": "closest",
          "hoverlabel": {
           "align": "left"
          },
          "paper_bgcolor": "rgb(17,17,17)",
          "plot_bgcolor": "rgb(17,17,17)",
          "polar": {
           "bgcolor": "rgb(17,17,17)",
           "angularaxis": {
            "gridcolor": "#506784",
            "linecolor": "#506784",
            "ticks": ""
           },
           "radialaxis": {
            "gridcolor": "#506784",
            "linecolor": "#506784",
            "ticks": ""
           }
          },
          "ternary": {
           "bgcolor": "rgb(17,17,17)",
           "aaxis": {
            "gridcolor": "#506784",
            "linecolor": "#506784",
            "ticks": ""
           },
           "baxis": {
            "gridcolor": "#506784",
            "linecolor": "#506784",
            "ticks": ""
           },
           "caxis": {
            "gridcolor": "#506784",
            "linecolor": "#506784",
            "ticks": ""
           }
          },
          "coloraxis": {
           "colorbar": {
            "outlinewidth": 0,
            "ticks": ""
           }
          },
          "colorscale": {
           "sequential": [
            [
             0.0,
             "#0d0887"
            ],
            [
             0.1111111111111111,
             "#46039f"
            ],
            [
             0.2222222222222222,
             "#7201a8"
            ],
            [
             0.3333333333333333,
             "#9c179e"
            ],
            [
             0.4444444444444444,
             "#bd3786"
            ],
            [
             0.5555555555555556,
             "#d8576b"
            ],
            [
             0.6666666666666666,
             "#ed7953"
            ],
            [
             0.7777777777777778,
             "#fb9f3a"
            ],
            [
             0.8888888888888888,
             "#fdca26"
            ],
            [
             1.0,
             "#f0f921"
            ]
           ],
           "sequentialminus": [
            [
             0.0,
             "#0d0887"
            ],
            [
             0.1111111111111111,
             "#46039f"
            ],
            [
             0.2222222222222222,
             "#7201a8"
            ],
            [
             0.3333333333333333,
             "#9c179e"
            ],
            [
             0.4444444444444444,
             "#bd3786"
            ],
            [
             0.5555555555555556,
             "#d8576b"
            ],
            [
             0.6666666666666666,
             "#ed7953"
            ],
            [
             0.7777777777777778,
             "#fb9f3a"
            ],
            [
             0.8888888888888888,
             "#fdca26"
            ],
            [
             1.0,
             "#f0f921"
            ]
           ],
           "diverging": [
            [
             0,
             "#8e0152"
            ],
            [
             0.1,
             "#c51b7d"
            ],
            [
             0.2,
             "#de77ae"
            ],
            [
             0.3,
             "#f1b6da"
            ],
            [
             0.4,
             "#fde0ef"
            ],
            [
             0.5,
             "#f7f7f7"
            ],
            [
             0.6,
             "#e6f5d0"
            ],
            [
             0.7,
             "#b8e186"
            ],
            [
             0.8,
             "#7fbc41"
            ],
            [
             0.9,
             "#4d9221"
            ],
            [
             1,
             "#276419"
            ]
           ]
          },
          "xaxis": {
           "gridcolor": "#283442",
           "linecolor": "#506784",
           "ticks": "",
           "title": {
            "standoff": 15
           },
           "zerolinecolor": "#283442",
           "automargin": true,
           "zerolinewidth": 2
          },
          "yaxis": {
           "gridcolor": "#283442",
           "linecolor": "#506784",
           "ticks": "",
           "title": {
            "standoff": 15
           },
           "zerolinecolor": "#283442",
           "automargin": true,
           "zerolinewidth": 2
          },
          "scene": {
           "xaxis": {
            "backgroundcolor": "rgb(17,17,17)",
            "gridcolor": "#506784",
            "linecolor": "#506784",
            "showbackground": true,
            "ticks": "",
            "zerolinecolor": "#C8D4E3",
            "gridwidth": 2
           },
           "yaxis": {
            "backgroundcolor": "rgb(17,17,17)",
            "gridcolor": "#506784",
            "linecolor": "#506784",
            "showbackground": true,
            "ticks": "",
            "zerolinecolor": "#C8D4E3",
            "gridwidth": 2
           },
           "zaxis": {
            "backgroundcolor": "rgb(17,17,17)",
            "gridcolor": "#506784",
            "linecolor": "#506784",
            "showbackground": true,
            "ticks": "",
            "zerolinecolor": "#C8D4E3",
            "gridwidth": 2
           }
          },
          "shapedefaults": {
           "line": {
            "color": "#f2f5fa"
           }
          },
          "annotationdefaults": {
           "arrowcolor": "#f2f5fa",
           "arrowhead": 0,
           "arrowwidth": 1
          },
          "geo": {
           "bgcolor": "rgb(17,17,17)",
           "landcolor": "rgb(17,17,17)",
           "subunitcolor": "#506784",
           "showland": true,
           "showlakes": true,
           "lakecolor": "rgb(17,17,17)"
          },
          "title": {
           "x": 0.05
          },
          "updatemenudefaults": {
           "bgcolor": "#506784",
           "borderwidth": 0
          },
          "sliderdefaults": {
           "bgcolor": "#C8D4E3",
           "borderwidth": 1,
           "bordercolor": "rgb(17,17,17)",
           "tickwidth": 0
          },
          "mapbox": {
           "style": "dark"
          }
         }
        },
        "xaxis": {
         "anchor": "y",
         "domain": [
          0.0,
          1.0
         ],
         "title": {
          "text": "constructorName"
         },
         "categoryorder": "array",
         "categoryarray": [
          "McLaren",
          "Red Bull",
          "Ferrari",
          "AlphaTauri",
          "Mercedes",
          "Alfa Romeo",
          "Aston Martin",
          "Alpine F1 Team",
          "Williams",
          "Haas F1 Team"
         ]
        },
        "yaxis": {
         "anchor": "x",
         "domain": [
          0.0,
          1.0
         ],
         "title": {
          "text": "seconds"
         }
        },
        "legend": {
         "title": {
          "text": "constructorName"
         },
         "tracegroupgap": 0
        },
        "margin": {
         "t": 60
        },
        "boxmode": "overlay",
        "height": 500,
        "width": 1000,
        "title": {
         "text": "Pit Stop Durations by Constructor for 2022 Season"
        }
       },
       "config": {
        "plotlyServerURL": "https://plot.ly"
       }
      },
      "text/html": "<div>                            <div id=\"e8100c7b-e532-4400-89aa-9659db187cfc\" class=\"plotly-graph-div\" style=\"height:500px; width:1000px;\"></div>            <script type=\"text/javascript\">                require([\"plotly\"], function(Plotly) {                    window.PLOTLYENV=window.PLOTLYENV || {};                                    if (document.getElementById(\"e8100c7b-e532-4400-89aa-9659db187cfc\")) {                    Plotly.newPlot(                        \"e8100c7b-e532-4400-89aa-9659db187cfc\",                        [{\"alignmentgroup\":\"True\",\"hovertemplate\":\"constructorName=%{x}<br>seconds=%{y}<extra></extra>\",\"legendgroup\":\"McLaren\",\"marker\":{\"color\":\"#F58020\"},\"name\":\"McLaren\",\"notched\":false,\"offsetgroup\":\"McLaren\",\"orientation\":\"v\",\"showlegend\":true,\"x\":[\"McLaren\",\"McLaren\",\"McLaren\",\"McLaren\",\"McLaren\",\"McLaren\",\"McLaren\",\"McLaren\",\"McLaren\",\"McLaren\",\"McLaren\",\"McLaren\",\"McLaren\",\"McLaren\",\"McLaren\",\"McLaren\",\"McLaren\",\"McLaren\",\"McLaren\",\"McLaren\",\"McLaren\",\"McLaren\"],\"x0\":\" \",\"xaxis\":\"x\",\"y\":[17.853,19.412875,19.583333333333332,20.5165,21.6185,21.895333333333337,22.12525,22.349833333333333,22.4325,23.20675,23.31325,24.5925,24.985999999999997,25.07375,25.308166666666665,25.554000000000002,27.003500000000003,29.562400000000004,29.983999999999998,30.737000000000002,30.75225,36.9015],\"y0\":\" \",\"yaxis\":\"y\",\"type\":\"box\"},{\"alignmentgroup\":\"True\",\"hovertemplate\":\"constructorName=%{x}<br>seconds=%{y}<extra></extra>\",\"legendgroup\":\"Red Bull\",\"marker\":{\"color\":\"#1E5BC6\"},\"name\":\"Red Bull\",\"notched\":false,\"offsetgroup\":\"Red Bull\",\"orientation\":\"v\",\"showlegend\":true,\"x\":[\"Red Bull\",\"Red Bull\",\"Red Bull\",\"Red Bull\",\"Red Bull\",\"Red Bull\",\"Red Bull\",\"Red Bull\",\"Red Bull\",\"Red Bull\",\"Red Bull\",\"Red Bull\",\"Red Bull\",\"Red Bull\",\"Red Bull\",\"Red Bull\",\"Red Bull\",\"Red Bull\",\"Red Bull\",\"Red Bull\",\"Red Bull\",\"Red Bull\"],\"x0\":\" \",\"xaxis\":\"x\",\"y\":[17.8575,17.9935,18.583333333333332,20.606,21.216,21.820666666666668,21.90416666666667,21.9795,22.1165,22.55075,23.6895,23.71975,23.9605,24.733666666666664,24.814999999999998,25.721,26.081,26.549400000000002,29.577333333333332,29.984,30.5714,36.6635],\"y0\":\" \",\"yaxis\":\"y\",\"type\":\"box\"},{\"alignmentgroup\":\"True\",\"hovertemplate\":\"constructorName=%{x}<br>seconds=%{y}<extra></extra>\",\"legendgroup\":\"Ferrari\",\"marker\":{\"color\":\"#ED1C24\"},\"name\":\"Ferrari\",\"notched\":false,\"offsetgroup\":\"Ferrari\",\"orientation\":\"v\",\"showlegend\":true,\"x\":[\"Ferrari\",\"Ferrari\",\"Ferrari\",\"Ferrari\",\"Ferrari\",\"Ferrari\",\"Ferrari\",\"Ferrari\",\"Ferrari\",\"Ferrari\",\"Ferrari\",\"Ferrari\",\"Ferrari\",\"Ferrari\",\"Ferrari\",\"Ferrari\",\"Ferrari\",\"Ferrari\",\"Ferrari\",\"Ferrari\",\"Ferrari\",\"Ferrari\"],\"x0\":\" \",\"xaxis\":\"x\",\"y\":[17.973,20.30142857142857,20.88,21.2795,21.441,21.905,22.076,22.3134,22.831000000000003,23.2028,23.212,23.8814,24.0345,24.590500000000002,24.8135,25.098333333333333,25.899,26.136666666666667,28.604666666666663,31.3305,32.79866666666667,41.875],\"y0\":\" \",\"yaxis\":\"y\",\"type\":\"box\"},{\"alignmentgroup\":\"True\",\"hovertemplate\":\"constructorName=%{x}<br>seconds=%{y}<extra></extra>\",\"legendgroup\":\"AlphaTauri\",\"marker\":{\"color\":\"#4E7C9B\"},\"name\":\"AlphaTauri\",\"notched\":false,\"offsetgroup\":\"AlphaTauri\",\"orientation\":\"v\",\"showlegend\":true,\"x\":[\"AlphaTauri\",\"AlphaTauri\",\"AlphaTauri\",\"AlphaTauri\",\"AlphaTauri\",\"AlphaTauri\",\"AlphaTauri\",\"AlphaTauri\",\"AlphaTauri\",\"AlphaTauri\",\"AlphaTauri\",\"AlphaTauri\",\"AlphaTauri\",\"AlphaTauri\",\"AlphaTauri\",\"AlphaTauri\",\"AlphaTauri\",\"AlphaTauri\",\"AlphaTauri\",\"AlphaTauri\",\"AlphaTauri\",\"AlphaTauri\"],\"x0\":\" \",\"xaxis\":\"x\",\"y\":[18.016833333333334,18.6845,19.2595,21.777,21.902666666666665,22.82,23.332333333333334,23.394000000000002,23.4005,23.467,24.429666666666666,24.87925,24.92675,25.0166,25.817999999999998,27.6892,28.1222,29.093666666666667,30.3885,30.58,31.279666666666667,36.8085],\"y0\":\" \",\"yaxis\":\"y\",\"type\":\"box\"},{\"alignmentgroup\":\"True\",\"hovertemplate\":\"constructorName=%{x}<br>seconds=%{y}<extra></extra>\",\"legendgroup\":\"Mercedes\",\"marker\":{\"color\":\"#6CD3BF\"},\"name\":\"Mercedes\",\"notched\":false,\"offsetgroup\":\"Mercedes\",\"orientation\":\"v\",\"showlegend\":true,\"x\":[\"Mercedes\",\"Mercedes\",\"Mercedes\",\"Mercedes\",\"Mercedes\",\"Mercedes\",\"Mercedes\",\"Mercedes\",\"Mercedes\",\"Mercedes\",\"Mercedes\",\"Mercedes\",\"Mercedes\",\"Mercedes\",\"Mercedes\",\"Mercedes\",\"Mercedes\",\"Mercedes\",\"Mercedes\",\"Mercedes\",\"Mercedes\",\"Mercedes\"],\"x0\":\" \",\"xaxis\":\"x\",\"y\":[18.177999999999997,18.927500000000002,18.971500000000002,20.8415,21.6015,22.075,22.901,23.035666666666668,23.62425,23.73466666666667,23.9265,24.481333333333335,24.490333333333336,24.885,25.3982,25.562,26.41375,26.893500000000003,29.4165,31.9095,32.8428,37.733000000000004],\"y0\":\" \",\"yaxis\":\"y\",\"type\":\"box\"},{\"alignmentgroup\":\"True\",\"hovertemplate\":\"constructorName=%{x}<br>seconds=%{y}<extra></extra>\",\"legendgroup\":\"Alfa Romeo\",\"marker\":{\"color\":\"#B12039\"},\"name\":\"Alfa Romeo\",\"notched\":false,\"offsetgroup\":\"Alfa Romeo\",\"orientation\":\"v\",\"showlegend\":true,\"x\":[\"Alfa Romeo\",\"Alfa Romeo\",\"Alfa Romeo\",\"Alfa Romeo\",\"Alfa Romeo\",\"Alfa Romeo\",\"Alfa Romeo\",\"Alfa Romeo\",\"Alfa Romeo\",\"Alfa Romeo\",\"Alfa Romeo\",\"Alfa Romeo\",\"Alfa Romeo\",\"Alfa Romeo\",\"Alfa Romeo\",\"Alfa Romeo\",\"Alfa Romeo\",\"Alfa Romeo\",\"Alfa Romeo\",\"Alfa Romeo\",\"Alfa Romeo\"],\"x0\":\" \",\"xaxis\":\"x\",\"y\":[18.3965,19.614,20.014499999999998,21.990000000000002,22.722333333333335,22.879,23.527,23.554000000000002,24.0405,24.270333333333337,24.49175,24.566,24.62975,24.78333333333333,25.061999999999998,25.7295,25.784666666666666,25.933833333333336,32.167,36.58,36.93966666666667],\"y0\":\" \",\"yaxis\":\"y\",\"type\":\"box\"},{\"alignmentgroup\":\"True\",\"hovertemplate\":\"constructorName=%{x}<br>seconds=%{y}<extra></extra>\",\"legendgroup\":\"Aston Martin\",\"marker\":{\"color\":\"#2D826D\"},\"name\":\"Aston Martin\",\"notched\":false,\"offsetgroup\":\"Aston Martin\",\"orientation\":\"v\",\"showlegend\":true,\"x\":[\"Aston Martin\",\"Aston Martin\",\"Aston Martin\",\"Aston Martin\",\"Aston Martin\",\"Aston Martin\",\"Aston Martin\",\"Aston Martin\",\"Aston Martin\",\"Aston Martin\",\"Aston Martin\",\"Aston Martin\",\"Aston Martin\",\"Aston Martin\",\"Aston Martin\",\"Aston Martin\",\"Aston Martin\",\"Aston Martin\",\"Aston Martin\",\"Aston Martin\",\"Aston Martin\",\"Aston Martin\"],\"x0\":\" \",\"xaxis\":\"x\",\"y\":[18.535375,19.068,19.4675,21.154,21.7695,21.881999999999998,22.26733333333333,22.4565,23.0062,23.054000000000002,23.23975,23.87725,24.031000000000002,24.113,24.254,26.26,27.045799999999996,29.1995,29.293666666666667,29.7835,31.5755,38.2575],\"y0\":\" \",\"yaxis\":\"y\",\"type\":\"box\"},{\"alignmentgroup\":\"True\",\"hovertemplate\":\"constructorName=%{x}<br>seconds=%{y}<extra></extra>\",\"legendgroup\":\"Alpine F1 Team\",\"marker\":{\"color\":\"#2293D1\"},\"name\":\"Alpine F1 Team\",\"notched\":false,\"offsetgroup\":\"Alpine F1 Team\",\"orientation\":\"v\",\"showlegend\":true,\"x\":[\"Alpine F1 Team\",\"Alpine F1 Team\",\"Alpine F1 Team\",\"Alpine F1 Team\",\"Alpine F1 Team\",\"Alpine F1 Team\",\"Alpine F1 Team\",\"Alpine F1 Team\",\"Alpine F1 Team\",\"Alpine F1 Team\",\"Alpine F1 Team\",\"Alpine F1 Team\",\"Alpine F1 Team\",\"Alpine F1 Team\",\"Alpine F1 Team\",\"Alpine F1 Team\",\"Alpine F1 Team\",\"Alpine F1 Team\",\"Alpine F1 Team\",\"Alpine F1 Team\",\"Alpine F1 Team\"],\"x0\":\" \",\"xaxis\":\"x\",\"y\":[18.656499999999998,18.772666666666666,20.3285,21.342,21.6045,21.789666666666665,22.299,22.750999999999998,22.80316666666667,22.832,23.39925,24.336,24.467000000000002,24.63675,24.700499999999998,24.8872,25.81533333333333,28.276,29.305333333333333,31.409,40.6355],\"y0\":\" \",\"yaxis\":\"y\",\"type\":\"box\"},{\"alignmentgroup\":\"True\",\"hovertemplate\":\"constructorName=%{x}<br>seconds=%{y}<extra></extra>\",\"legendgroup\":\"Williams\",\"marker\":{\"color\":\"#37BEDD\"},\"name\":\"Williams\",\"notched\":false,\"offsetgroup\":\"Williams\",\"orientation\":\"v\",\"showlegend\":true,\"x\":[\"Williams\",\"Williams\",\"Williams\",\"Williams\",\"Williams\",\"Williams\",\"Williams\",\"Williams\",\"Williams\",\"Williams\",\"Williams\",\"Williams\",\"Williams\",\"Williams\",\"Williams\",\"Williams\",\"Williams\",\"Williams\",\"Williams\",\"Williams\",\"Williams\"],\"x0\":\" \",\"xaxis\":\"x\",\"y\":[18.673125,18.777666666666665,19.622,20.683,21.83775,22.796999999999997,23.00985714285714,23.682333333333332,24.61275,24.629,24.64525,24.785,24.898666666666667,25.072,25.224333333333334,25.347,26.2312,28.633499999999998,30.959,31.756600000000002,37.273],\"y0\":\" \",\"yaxis\":\"y\",\"type\":\"box\"},{\"alignmentgroup\":\"True\",\"hovertemplate\":\"constructorName=%{x}<br>seconds=%{y}<extra></extra>\",\"legendgroup\":\"Haas F1 Team\",\"marker\":{\"color\":\"#B6BABD\"},\"name\":\"Haas F1 Team\",\"notched\":false,\"offsetgroup\":\"Haas F1 Team\",\"orientation\":\"v\",\"showlegend\":true,\"x\":[\"Haas F1 Team\",\"Haas F1 Team\",\"Haas F1 Team\",\"Haas F1 Team\",\"Haas F1 Team\",\"Haas F1 Team\",\"Haas F1 Team\",\"Haas F1 Team\",\"Haas F1 Team\",\"Haas F1 Team\",\"Haas F1 Team\",\"Haas F1 Team\",\"Haas F1 Team\",\"Haas F1 Team\",\"Haas F1 Team\",\"Haas F1 Team\",\"Haas F1 Team\",\"Haas F1 Team\",\"Haas F1 Team\",\"Haas F1 Team\",\"Haas F1 Team\",\"Haas F1 Team\"],\"x0\":\" \",\"xaxis\":\"x\",\"y\":[19.075000000000003,20.673375,22.32325,22.374,22.730999999999998,23.30675,23.586333333333332,23.700499999999998,24.3034,24.8215,24.83775,25.05475,25.101,25.641,26.299666666666667,26.608999999999998,29.817333333333334,32.023,32.2455,34.44325,36.72225,38.262],\"y0\":\" \",\"yaxis\":\"y\",\"type\":\"box\"}],                        {\"template\":{\"data\":{\"histogram2dcontour\":[{\"type\":\"histogram2dcontour\",\"colorbar\":{\"outlinewidth\":0,\"ticks\":\"\"},\"colorscale\":[[0.0,\"#0d0887\"],[0.1111111111111111,\"#46039f\"],[0.2222222222222222,\"#7201a8\"],[0.3333333333333333,\"#9c179e\"],[0.4444444444444444,\"#bd3786\"],[0.5555555555555556,\"#d8576b\"],[0.6666666666666666,\"#ed7953\"],[0.7777777777777778,\"#fb9f3a\"],[0.8888888888888888,\"#fdca26\"],[1.0,\"#f0f921\"]]}],\"choropleth\":[{\"type\":\"choropleth\",\"colorbar\":{\"outlinewidth\":0,\"ticks\":\"\"}}],\"histogram2d\":[{\"type\":\"histogram2d\",\"colorbar\":{\"outlinewidth\":0,\"ticks\":\"\"},\"colorscale\":[[0.0,\"#0d0887\"],[0.1111111111111111,\"#46039f\"],[0.2222222222222222,\"#7201a8\"],[0.3333333333333333,\"#9c179e\"],[0.4444444444444444,\"#bd3786\"],[0.5555555555555556,\"#d8576b\"],[0.6666666666666666,\"#ed7953\"],[0.7777777777777778,\"#fb9f3a\"],[0.8888888888888888,\"#fdca26\"],[1.0,\"#f0f921\"]]}],\"heatmap\":[{\"type\":\"heatmap\",\"colorbar\":{\"outlinewidth\":0,\"ticks\":\"\"},\"colorscale\":[[0.0,\"#0d0887\"],[0.1111111111111111,\"#46039f\"],[0.2222222222222222,\"#7201a8\"],[0.3333333333333333,\"#9c179e\"],[0.4444444444444444,\"#bd3786\"],[0.5555555555555556,\"#d8576b\"],[0.6666666666666666,\"#ed7953\"],[0.7777777777777778,\"#fb9f3a\"],[0.8888888888888888,\"#fdca26\"],[1.0,\"#f0f921\"]]}],\"heatmapgl\":[{\"type\":\"heatmapgl\",\"colorbar\":{\"outlinewidth\":0,\"ticks\":\"\"},\"colorscale\":[[0.0,\"#0d0887\"],[0.1111111111111111,\"#46039f\"],[0.2222222222222222,\"#7201a8\"],[0.3333333333333333,\"#9c179e\"],[0.4444444444444444,\"#bd3786\"],[0.5555555555555556,\"#d8576b\"],[0.6666666666666666,\"#ed7953\"],[0.7777777777777778,\"#fb9f3a\"],[0.8888888888888888,\"#fdca26\"],[1.0,\"#f0f921\"]]}],\"contourcarpet\":[{\"type\":\"contourcarpet\",\"colorbar\":{\"outlinewidth\":0,\"ticks\":\"\"}}],\"contour\":[{\"type\":\"contour\",\"colorbar\":{\"outlinewidth\":0,\"ticks\":\"\"},\"colorscale\":[[0.0,\"#0d0887\"],[0.1111111111111111,\"#46039f\"],[0.2222222222222222,\"#7201a8\"],[0.3333333333333333,\"#9c179e\"],[0.4444444444444444,\"#bd3786\"],[0.5555555555555556,\"#d8576b\"],[0.6666666666666666,\"#ed7953\"],[0.7777777777777778,\"#fb9f3a\"],[0.8888888888888888,\"#fdca26\"],[1.0,\"#f0f921\"]]}],\"surface\":[{\"type\":\"surface\",\"colorbar\":{\"outlinewidth\":0,\"ticks\":\"\"},\"colorscale\":[[0.0,\"#0d0887\"],[0.1111111111111111,\"#46039f\"],[0.2222222222222222,\"#7201a8\"],[0.3333333333333333,\"#9c179e\"],[0.4444444444444444,\"#bd3786\"],[0.5555555555555556,\"#d8576b\"],[0.6666666666666666,\"#ed7953\"],[0.7777777777777778,\"#fb9f3a\"],[0.8888888888888888,\"#fdca26\"],[1.0,\"#f0f921\"]]}],\"mesh3d\":[{\"type\":\"mesh3d\",\"colorbar\":{\"outlinewidth\":0,\"ticks\":\"\"}}],\"scatter\":[{\"marker\":{\"line\":{\"color\":\"#283442\"}},\"type\":\"scatter\"}],\"parcoords\":[{\"type\":\"parcoords\",\"line\":{\"colorbar\":{\"outlinewidth\":0,\"ticks\":\"\"}}}],\"scatterpolargl\":[{\"type\":\"scatterpolargl\",\"marker\":{\"colorbar\":{\"outlinewidth\":0,\"ticks\":\"\"}}}],\"bar\":[{\"error_x\":{\"color\":\"#f2f5fa\"},\"error_y\":{\"color\":\"#f2f5fa\"},\"marker\":{\"line\":{\"color\":\"rgb(17,17,17)\",\"width\":0.5},\"pattern\":{\"fillmode\":\"overlay\",\"size\":10,\"solidity\":0.2}},\"type\":\"bar\"}],\"scattergeo\":[{\"type\":\"scattergeo\",\"marker\":{\"colorbar\":{\"outlinewidth\":0,\"ticks\":\"\"}}}],\"scatterpolar\":[{\"type\":\"scatterpolar\",\"marker\":{\"colorbar\":{\"outlinewidth\":0,\"ticks\":\"\"}}}],\"histogram\":[{\"marker\":{\"pattern\":{\"fillmode\":\"overlay\",\"size\":10,\"solidity\":0.2}},\"type\":\"histogram\"}],\"scattergl\":[{\"marker\":{\"line\":{\"color\":\"#283442\"}},\"type\":\"scattergl\"}],\"scatter3d\":[{\"type\":\"scatter3d\",\"line\":{\"colorbar\":{\"outlinewidth\":0,\"ticks\":\"\"}},\"marker\":{\"colorbar\":{\"outlinewidth\":0,\"ticks\":\"\"}}}],\"scattermapbox\":[{\"type\":\"scattermapbox\",\"marker\":{\"colorbar\":{\"outlinewidth\":0,\"ticks\":\"\"}}}],\"scatterternary\":[{\"type\":\"scatterternary\",\"marker\":{\"colorbar\":{\"outlinewidth\":0,\"ticks\":\"\"}}}],\"scattercarpet\":[{\"type\":\"scattercarpet\",\"marker\":{\"colorbar\":{\"outlinewidth\":0,\"ticks\":\"\"}}}],\"carpet\":[{\"aaxis\":{\"endlinecolor\":\"#A2B1C6\",\"gridcolor\":\"#506784\",\"linecolor\":\"#506784\",\"minorgridcolor\":\"#506784\",\"startlinecolor\":\"#A2B1C6\"},\"baxis\":{\"endlinecolor\":\"#A2B1C6\",\"gridcolor\":\"#506784\",\"linecolor\":\"#506784\",\"minorgridcolor\":\"#506784\",\"startlinecolor\":\"#A2B1C6\"},\"type\":\"carpet\"}],\"table\":[{\"cells\":{\"fill\":{\"color\":\"#506784\"},\"line\":{\"color\":\"rgb(17,17,17)\"}},\"header\":{\"fill\":{\"color\":\"#2a3f5f\"},\"line\":{\"color\":\"rgb(17,17,17)\"}},\"type\":\"table\"}],\"barpolar\":[{\"marker\":{\"line\":{\"color\":\"rgb(17,17,17)\",\"width\":0.5},\"pattern\":{\"fillmode\":\"overlay\",\"size\":10,\"solidity\":0.2}},\"type\":\"barpolar\"}],\"pie\":[{\"automargin\":true,\"type\":\"pie\"}]},\"layout\":{\"autotypenumbers\":\"strict\",\"colorway\":[\"#636efa\",\"#EF553B\",\"#00cc96\",\"#ab63fa\",\"#FFA15A\",\"#19d3f3\",\"#FF6692\",\"#B6E880\",\"#FF97FF\",\"#FECB52\"],\"font\":{\"color\":\"#f2f5fa\"},\"hovermode\":\"closest\",\"hoverlabel\":{\"align\":\"left\"},\"paper_bgcolor\":\"rgb(17,17,17)\",\"plot_bgcolor\":\"rgb(17,17,17)\",\"polar\":{\"bgcolor\":\"rgb(17,17,17)\",\"angularaxis\":{\"gridcolor\":\"#506784\",\"linecolor\":\"#506784\",\"ticks\":\"\"},\"radialaxis\":{\"gridcolor\":\"#506784\",\"linecolor\":\"#506784\",\"ticks\":\"\"}},\"ternary\":{\"bgcolor\":\"rgb(17,17,17)\",\"aaxis\":{\"gridcolor\":\"#506784\",\"linecolor\":\"#506784\",\"ticks\":\"\"},\"baxis\":{\"gridcolor\":\"#506784\",\"linecolor\":\"#506784\",\"ticks\":\"\"},\"caxis\":{\"gridcolor\":\"#506784\",\"linecolor\":\"#506784\",\"ticks\":\"\"}},\"coloraxis\":{\"colorbar\":{\"outlinewidth\":0,\"ticks\":\"\"}},\"colorscale\":{\"sequential\":[[0.0,\"#0d0887\"],[0.1111111111111111,\"#46039f\"],[0.2222222222222222,\"#7201a8\"],[0.3333333333333333,\"#9c179e\"],[0.4444444444444444,\"#bd3786\"],[0.5555555555555556,\"#d8576b\"],[0.6666666666666666,\"#ed7953\"],[0.7777777777777778,\"#fb9f3a\"],[0.8888888888888888,\"#fdca26\"],[1.0,\"#f0f921\"]],\"sequentialminus\":[[0.0,\"#0d0887\"],[0.1111111111111111,\"#46039f\"],[0.2222222222222222,\"#7201a8\"],[0.3333333333333333,\"#9c179e\"],[0.4444444444444444,\"#bd3786\"],[0.5555555555555556,\"#d8576b\"],[0.6666666666666666,\"#ed7953\"],[0.7777777777777778,\"#fb9f3a\"],[0.8888888888888888,\"#fdca26\"],[1.0,\"#f0f921\"]],\"diverging\":[[0,\"#8e0152\"],[0.1,\"#c51b7d\"],[0.2,\"#de77ae\"],[0.3,\"#f1b6da\"],[0.4,\"#fde0ef\"],[0.5,\"#f7f7f7\"],[0.6,\"#e6f5d0\"],[0.7,\"#b8e186\"],[0.8,\"#7fbc41\"],[0.9,\"#4d9221\"],[1,\"#276419\"]]},\"xaxis\":{\"gridcolor\":\"#283442\",\"linecolor\":\"#506784\",\"ticks\":\"\",\"title\":{\"standoff\":15},\"zerolinecolor\":\"#283442\",\"automargin\":true,\"zerolinewidth\":2},\"yaxis\":{\"gridcolor\":\"#283442\",\"linecolor\":\"#506784\",\"ticks\":\"\",\"title\":{\"standoff\":15},\"zerolinecolor\":\"#283442\",\"automargin\":true,\"zerolinewidth\":2},\"scene\":{\"xaxis\":{\"backgroundcolor\":\"rgb(17,17,17)\",\"gridcolor\":\"#506784\",\"linecolor\":\"#506784\",\"showbackground\":true,\"ticks\":\"\",\"zerolinecolor\":\"#C8D4E3\",\"gridwidth\":2},\"yaxis\":{\"backgroundcolor\":\"rgb(17,17,17)\",\"gridcolor\":\"#506784\",\"linecolor\":\"#506784\",\"showbackground\":true,\"ticks\":\"\",\"zerolinecolor\":\"#C8D4E3\",\"gridwidth\":2},\"zaxis\":{\"backgroundcolor\":\"rgb(17,17,17)\",\"gridcolor\":\"#506784\",\"linecolor\":\"#506784\",\"showbackground\":true,\"ticks\":\"\",\"zerolinecolor\":\"#C8D4E3\",\"gridwidth\":2}},\"shapedefaults\":{\"line\":{\"color\":\"#f2f5fa\"}},\"annotationdefaults\":{\"arrowcolor\":\"#f2f5fa\",\"arrowhead\":0,\"arrowwidth\":1},\"geo\":{\"bgcolor\":\"rgb(17,17,17)\",\"landcolor\":\"rgb(17,17,17)\",\"subunitcolor\":\"#506784\",\"showland\":true,\"showlakes\":true,\"lakecolor\":\"rgb(17,17,17)\"},\"title\":{\"x\":0.05},\"updatemenudefaults\":{\"bgcolor\":\"#506784\",\"borderwidth\":0},\"sliderdefaults\":{\"bgcolor\":\"#C8D4E3\",\"borderwidth\":1,\"bordercolor\":\"rgb(17,17,17)\",\"tickwidth\":0},\"mapbox\":{\"style\":\"dark\"}}},\"xaxis\":{\"anchor\":\"y\",\"domain\":[0.0,1.0],\"title\":{\"text\":\"constructorName\"},\"categoryorder\":\"array\",\"categoryarray\":[\"McLaren\",\"Red Bull\",\"Ferrari\",\"AlphaTauri\",\"Mercedes\",\"Alfa Romeo\",\"Aston Martin\",\"Alpine F1 Team\",\"Williams\",\"Haas F1 Team\"]},\"yaxis\":{\"anchor\":\"x\",\"domain\":[0.0,1.0],\"title\":{\"text\":\"seconds\"}},\"legend\":{\"title\":{\"text\":\"constructorName\"},\"tracegroupgap\":0},\"margin\":{\"t\":60},\"boxmode\":\"overlay\",\"height\":500,\"width\":1000,\"title\":{\"text\":\"Pit Stop Durations by Constructor for 2022 Season\"}},                        {\"responsive\": true}                    ).then(function(){\n                            \nvar gd = document.getElementById('e8100c7b-e532-4400-89aa-9659db187cfc');\nvar x = new MutationObserver(function (mutations, observer) {{\n        var display = window.getComputedStyle(gd).display;\n        if (!display || display === 'none') {{\n            console.log([gd, 'removed!']);\n            Plotly.purge(gd);\n            observer.disconnect();\n        }}\n}});\n\n// Listen for the removal of the full notebook cells\nvar notebookContainer = gd.closest('#notebook-container');\nif (notebookContainer) {{\n    x.observe(notebookContainer, {childList: true});\n}}\n\n// Listen for the clearing of the current output cell\nvar outputEl = gd.closest('.output');\nif (outputEl) {{\n    x.observe(outputEl, {childList: true});\n}}\n\n                        })                };                });            </script>        </div>"
     },
     "metadata": {},
     "output_type": "display_data"
    }
   ],
   "source": [
    "#Pit stop duration by constructor\n",
    "fig = px.box(newPitStops[(newPitStops['seconds'] < 50) & (newPitStops['year'] == year)].groupby(\n",
    "    by=['raceId', 'name', 'date', 'constructorName']).mean().reset_index().sort_values(by='seconds', ascending=True),\n",
    "             x='constructorName',\n",
    "             y='seconds',\n",
    "             color='constructorName',\n",
    "             color_discrete_map=constructor_color_map,\n",
    "             width=1000,\n",
    "             height=500\n",
    "             )\n",
    "fig.update_layout(\n",
    "    title_text=f'Pit Stop Durations by Constructor for {year} Season',\n",
    ")\n",
    "fig.show()\n"
   ],
   "metadata": {
    "collapsed": false,
    "ExecuteTime": {
     "end_time": "2023-07-11T13:50:40.490804100Z",
     "start_time": "2023-07-11T13:50:40.136858100Z"
    }
   }
  },
  {
   "cell_type": "code",
   "execution_count": 40,
   "outputs": [
    {
     "name": "stderr",
     "output_type": "stream",
     "text": [
      "C:\\Users\\Thoma\\AppData\\Local\\Temp\\ipykernel_19848\\557472804.py:3: SettingWithCopyWarning:\n",
      "\n",
      "\n",
      "A value is trying to be set on a copy of a slice from a DataFrame.\n",
      "Try using .loc[row_indexer,col_indexer] = value instead\n",
      "\n",
      "See the caveats in the documentation: https://pandas.pydata.org/pandas-docs/stable/user_guide/indexing.html#returning-a-view-versus-a-copy\n",
      "\n"
     ]
    }
   ],
   "source": [
    "df_driver_focus = newResults[(newResults['driverName'].isin(driver_focused)) & (newResults['year'] == year)]\n",
    "df_pos_max = newResults[(newResults['year'] == year)]\n",
    "df_driver_focus[\"position\"] = df_driver_focus[\"position\"].fillna(df_pos_max[\"position\"].max())"
   ],
   "metadata": {
    "collapsed": false,
    "ExecuteTime": {
     "end_time": "2023-07-11T13:50:40.490804100Z",
     "start_time": "2023-07-11T13:50:40.381422300Z"
    }
   }
  },
  {
   "cell_type": "code",
   "execution_count": 71,
   "outputs": [
    {
     "data": {
      "application/vnd.plotly.v1+json": {
       "data": [
        {
         "hovertemplate": "driverName=Charles Leclerc<br>name=%{x}<br>position=%{y}<extra></extra>",
         "legendgroup": "Charles Leclerc",
         "line": {
          "color": "#ED1C24",
          "dash": "solid"
         },
         "marker": {
          "symbol": "circle"
         },
         "mode": "lines",
         "name": "Charles Leclerc",
         "orientation": "v",
         "showlegend": true,
         "x": [
          "Bahrain Grand Prix",
          "Saudi Arabian Grand Prix",
          "Australian Grand Prix",
          "Emilia Romagna Grand Prix",
          "Miami Grand Prix",
          "Spanish Grand Prix",
          "Monaco Grand Prix",
          "Azerbaijan Grand Prix",
          "Canadian Grand Prix",
          "British Grand Prix",
          "Austrian Grand Prix",
          "French Grand Prix",
          "Hungarian Grand Prix",
          "Belgian Grand Prix",
          "Dutch Grand Prix",
          "Italian Grand Prix",
          "Singapore Grand Prix",
          "Japanese Grand Prix",
          "United States Grand Prix",
          "Mexico City Grand Prix",
          "Brazilian Grand Prix",
          "Abu Dhabi Grand Prix"
         ],
         "xaxis": "x",
         "y": [
          1.0,
          2.0,
          1.0,
          6.0,
          2.0,
          20.0,
          4.0,
          20.0,
          5.0,
          4.0,
          1.0,
          20.0,
          6.0,
          6.0,
          3.0,
          2.0,
          2.0,
          3.0,
          3.0,
          6.0,
          4.0,
          2.0
         ],
         "yaxis": "y",
         "type": "scatter"
        },
        {
         "hovertemplate": "driverName=Lewis Hamilton<br>name=%{x}<br>position=%{y}<extra></extra>",
         "legendgroup": "Lewis Hamilton",
         "line": {
          "color": "#6CD3BF",
          "dash": "solid"
         },
         "marker": {
          "symbol": "circle"
         },
         "mode": "lines",
         "name": "Lewis Hamilton",
         "orientation": "v",
         "showlegend": true,
         "x": [
          "Bahrain Grand Prix",
          "Saudi Arabian Grand Prix",
          "Australian Grand Prix",
          "Emilia Romagna Grand Prix",
          "Miami Grand Prix",
          "Spanish Grand Prix",
          "Monaco Grand Prix",
          "Azerbaijan Grand Prix",
          "Canadian Grand Prix",
          "British Grand Prix",
          "Austrian Grand Prix",
          "French Grand Prix",
          "Hungarian Grand Prix",
          "Belgian Grand Prix",
          "Dutch Grand Prix",
          "Italian Grand Prix",
          "Singapore Grand Prix",
          "Japanese Grand Prix",
          "United States Grand Prix",
          "Mexico City Grand Prix",
          "Brazilian Grand Prix",
          "Abu Dhabi Grand Prix"
         ],
         "xaxis": "x",
         "y": [
          3.0,
          10.0,
          4.0,
          13.0,
          6.0,
          5.0,
          8.0,
          4.0,
          3.0,
          3.0,
          3.0,
          2.0,
          2.0,
          20.0,
          4.0,
          5.0,
          9.0,
          5.0,
          2.0,
          2.0,
          2.0,
          18.0
         ],
         "yaxis": "y",
         "type": "scatter"
        },
        {
         "hovertemplate": "driverName=Max Verstappen<br>name=%{x}<br>position=%{y}<extra></extra>",
         "legendgroup": "Max Verstappen",
         "line": {
          "color": "#1E5BC6",
          "dash": "solid"
         },
         "marker": {
          "symbol": "circle"
         },
         "mode": "lines",
         "name": "Max Verstappen",
         "orientation": "v",
         "showlegend": true,
         "x": [
          "Bahrain Grand Prix",
          "Saudi Arabian Grand Prix",
          "Australian Grand Prix",
          "Emilia Romagna Grand Prix",
          "Miami Grand Prix",
          "Spanish Grand Prix",
          "Monaco Grand Prix",
          "Azerbaijan Grand Prix",
          "Canadian Grand Prix",
          "British Grand Prix",
          "Austrian Grand Prix",
          "French Grand Prix",
          "Hungarian Grand Prix",
          "Belgian Grand Prix",
          "Dutch Grand Prix",
          "Italian Grand Prix",
          "Singapore Grand Prix",
          "Japanese Grand Prix",
          "United States Grand Prix",
          "Mexico City Grand Prix",
          "Brazilian Grand Prix",
          "Abu Dhabi Grand Prix"
         ],
         "xaxis": "x",
         "y": [
          19.0,
          1.0,
          20.0,
          1.0,
          1.0,
          1.0,
          3.0,
          1.0,
          1.0,
          7.0,
          2.0,
          1.0,
          1.0,
          1.0,
          1.0,
          1.0,
          7.0,
          1.0,
          1.0,
          1.0,
          6.0,
          1.0
         ],
         "yaxis": "y",
         "type": "scatter"
        }
       ],
       "layout": {
        "template": {
         "data": {
          "histogram2dcontour": [
           {
            "type": "histogram2dcontour",
            "colorbar": {
             "outlinewidth": 0,
             "ticks": ""
            },
            "colorscale": [
             [
              0.0,
              "#0d0887"
             ],
             [
              0.1111111111111111,
              "#46039f"
             ],
             [
              0.2222222222222222,
              "#7201a8"
             ],
             [
              0.3333333333333333,
              "#9c179e"
             ],
             [
              0.4444444444444444,
              "#bd3786"
             ],
             [
              0.5555555555555556,
              "#d8576b"
             ],
             [
              0.6666666666666666,
              "#ed7953"
             ],
             [
              0.7777777777777778,
              "#fb9f3a"
             ],
             [
              0.8888888888888888,
              "#fdca26"
             ],
             [
              1.0,
              "#f0f921"
             ]
            ]
           }
          ],
          "choropleth": [
           {
            "type": "choropleth",
            "colorbar": {
             "outlinewidth": 0,
             "ticks": ""
            }
           }
          ],
          "histogram2d": [
           {
            "type": "histogram2d",
            "colorbar": {
             "outlinewidth": 0,
             "ticks": ""
            },
            "colorscale": [
             [
              0.0,
              "#0d0887"
             ],
             [
              0.1111111111111111,
              "#46039f"
             ],
             [
              0.2222222222222222,
              "#7201a8"
             ],
             [
              0.3333333333333333,
              "#9c179e"
             ],
             [
              0.4444444444444444,
              "#bd3786"
             ],
             [
              0.5555555555555556,
              "#d8576b"
             ],
             [
              0.6666666666666666,
              "#ed7953"
             ],
             [
              0.7777777777777778,
              "#fb9f3a"
             ],
             [
              0.8888888888888888,
              "#fdca26"
             ],
             [
              1.0,
              "#f0f921"
             ]
            ]
           }
          ],
          "heatmap": [
           {
            "type": "heatmap",
            "colorbar": {
             "outlinewidth": 0,
             "ticks": ""
            },
            "colorscale": [
             [
              0.0,
              "#0d0887"
             ],
             [
              0.1111111111111111,
              "#46039f"
             ],
             [
              0.2222222222222222,
              "#7201a8"
             ],
             [
              0.3333333333333333,
              "#9c179e"
             ],
             [
              0.4444444444444444,
              "#bd3786"
             ],
             [
              0.5555555555555556,
              "#d8576b"
             ],
             [
              0.6666666666666666,
              "#ed7953"
             ],
             [
              0.7777777777777778,
              "#fb9f3a"
             ],
             [
              0.8888888888888888,
              "#fdca26"
             ],
             [
              1.0,
              "#f0f921"
             ]
            ]
           }
          ],
          "heatmapgl": [
           {
            "type": "heatmapgl",
            "colorbar": {
             "outlinewidth": 0,
             "ticks": ""
            },
            "colorscale": [
             [
              0.0,
              "#0d0887"
             ],
             [
              0.1111111111111111,
              "#46039f"
             ],
             [
              0.2222222222222222,
              "#7201a8"
             ],
             [
              0.3333333333333333,
              "#9c179e"
             ],
             [
              0.4444444444444444,
              "#bd3786"
             ],
             [
              0.5555555555555556,
              "#d8576b"
             ],
             [
              0.6666666666666666,
              "#ed7953"
             ],
             [
              0.7777777777777778,
              "#fb9f3a"
             ],
             [
              0.8888888888888888,
              "#fdca26"
             ],
             [
              1.0,
              "#f0f921"
             ]
            ]
           }
          ],
          "contourcarpet": [
           {
            "type": "contourcarpet",
            "colorbar": {
             "outlinewidth": 0,
             "ticks": ""
            }
           }
          ],
          "contour": [
           {
            "type": "contour",
            "colorbar": {
             "outlinewidth": 0,
             "ticks": ""
            },
            "colorscale": [
             [
              0.0,
              "#0d0887"
             ],
             [
              0.1111111111111111,
              "#46039f"
             ],
             [
              0.2222222222222222,
              "#7201a8"
             ],
             [
              0.3333333333333333,
              "#9c179e"
             ],
             [
              0.4444444444444444,
              "#bd3786"
             ],
             [
              0.5555555555555556,
              "#d8576b"
             ],
             [
              0.6666666666666666,
              "#ed7953"
             ],
             [
              0.7777777777777778,
              "#fb9f3a"
             ],
             [
              0.8888888888888888,
              "#fdca26"
             ],
             [
              1.0,
              "#f0f921"
             ]
            ]
           }
          ],
          "surface": [
           {
            "type": "surface",
            "colorbar": {
             "outlinewidth": 0,
             "ticks": ""
            },
            "colorscale": [
             [
              0.0,
              "#0d0887"
             ],
             [
              0.1111111111111111,
              "#46039f"
             ],
             [
              0.2222222222222222,
              "#7201a8"
             ],
             [
              0.3333333333333333,
              "#9c179e"
             ],
             [
              0.4444444444444444,
              "#bd3786"
             ],
             [
              0.5555555555555556,
              "#d8576b"
             ],
             [
              0.6666666666666666,
              "#ed7953"
             ],
             [
              0.7777777777777778,
              "#fb9f3a"
             ],
             [
              0.8888888888888888,
              "#fdca26"
             ],
             [
              1.0,
              "#f0f921"
             ]
            ]
           }
          ],
          "mesh3d": [
           {
            "type": "mesh3d",
            "colorbar": {
             "outlinewidth": 0,
             "ticks": ""
            }
           }
          ],
          "scatter": [
           {
            "marker": {
             "line": {
              "color": "#283442"
             }
            },
            "type": "scatter"
           }
          ],
          "parcoords": [
           {
            "type": "parcoords",
            "line": {
             "colorbar": {
              "outlinewidth": 0,
              "ticks": ""
             }
            }
           }
          ],
          "scatterpolargl": [
           {
            "type": "scatterpolargl",
            "marker": {
             "colorbar": {
              "outlinewidth": 0,
              "ticks": ""
             }
            }
           }
          ],
          "bar": [
           {
            "error_x": {
             "color": "#f2f5fa"
            },
            "error_y": {
             "color": "#f2f5fa"
            },
            "marker": {
             "line": {
              "color": "rgb(17,17,17)",
              "width": 0.5
             },
             "pattern": {
              "fillmode": "overlay",
              "size": 10,
              "solidity": 0.2
             }
            },
            "type": "bar"
           }
          ],
          "scattergeo": [
           {
            "type": "scattergeo",
            "marker": {
             "colorbar": {
              "outlinewidth": 0,
              "ticks": ""
             }
            }
           }
          ],
          "scatterpolar": [
           {
            "type": "scatterpolar",
            "marker": {
             "colorbar": {
              "outlinewidth": 0,
              "ticks": ""
             }
            }
           }
          ],
          "histogram": [
           {
            "marker": {
             "pattern": {
              "fillmode": "overlay",
              "size": 10,
              "solidity": 0.2
             }
            },
            "type": "histogram"
           }
          ],
          "scattergl": [
           {
            "marker": {
             "line": {
              "color": "#283442"
             }
            },
            "type": "scattergl"
           }
          ],
          "scatter3d": [
           {
            "type": "scatter3d",
            "line": {
             "colorbar": {
              "outlinewidth": 0,
              "ticks": ""
             }
            },
            "marker": {
             "colorbar": {
              "outlinewidth": 0,
              "ticks": ""
             }
            }
           }
          ],
          "scattermapbox": [
           {
            "type": "scattermapbox",
            "marker": {
             "colorbar": {
              "outlinewidth": 0,
              "ticks": ""
             }
            }
           }
          ],
          "scatterternary": [
           {
            "type": "scatterternary",
            "marker": {
             "colorbar": {
              "outlinewidth": 0,
              "ticks": ""
             }
            }
           }
          ],
          "scattercarpet": [
           {
            "type": "scattercarpet",
            "marker": {
             "colorbar": {
              "outlinewidth": 0,
              "ticks": ""
             }
            }
           }
          ],
          "carpet": [
           {
            "aaxis": {
             "endlinecolor": "#A2B1C6",
             "gridcolor": "#506784",
             "linecolor": "#506784",
             "minorgridcolor": "#506784",
             "startlinecolor": "#A2B1C6"
            },
            "baxis": {
             "endlinecolor": "#A2B1C6",
             "gridcolor": "#506784",
             "linecolor": "#506784",
             "minorgridcolor": "#506784",
             "startlinecolor": "#A2B1C6"
            },
            "type": "carpet"
           }
          ],
          "table": [
           {
            "cells": {
             "fill": {
              "color": "#506784"
             },
             "line": {
              "color": "rgb(17,17,17)"
             }
            },
            "header": {
             "fill": {
              "color": "#2a3f5f"
             },
             "line": {
              "color": "rgb(17,17,17)"
             }
            },
            "type": "table"
           }
          ],
          "barpolar": [
           {
            "marker": {
             "line": {
              "color": "rgb(17,17,17)",
              "width": 0.5
             },
             "pattern": {
              "fillmode": "overlay",
              "size": 10,
              "solidity": 0.2
             }
            },
            "type": "barpolar"
           }
          ],
          "pie": [
           {
            "automargin": true,
            "type": "pie"
           }
          ]
         },
         "layout": {
          "autotypenumbers": "strict",
          "colorway": [
           "#636efa",
           "#EF553B",
           "#00cc96",
           "#ab63fa",
           "#FFA15A",
           "#19d3f3",
           "#FF6692",
           "#B6E880",
           "#FF97FF",
           "#FECB52"
          ],
          "font": {
           "color": "#f2f5fa"
          },
          "hovermode": "closest",
          "hoverlabel": {
           "align": "left"
          },
          "paper_bgcolor": "rgb(17,17,17)",
          "plot_bgcolor": "rgb(17,17,17)",
          "polar": {
           "bgcolor": "rgb(17,17,17)",
           "angularaxis": {
            "gridcolor": "#506784",
            "linecolor": "#506784",
            "ticks": ""
           },
           "radialaxis": {
            "gridcolor": "#506784",
            "linecolor": "#506784",
            "ticks": ""
           }
          },
          "ternary": {
           "bgcolor": "rgb(17,17,17)",
           "aaxis": {
            "gridcolor": "#506784",
            "linecolor": "#506784",
            "ticks": ""
           },
           "baxis": {
            "gridcolor": "#506784",
            "linecolor": "#506784",
            "ticks": ""
           },
           "caxis": {
            "gridcolor": "#506784",
            "linecolor": "#506784",
            "ticks": ""
           }
          },
          "coloraxis": {
           "colorbar": {
            "outlinewidth": 0,
            "ticks": ""
           }
          },
          "colorscale": {
           "sequential": [
            [
             0.0,
             "#0d0887"
            ],
            [
             0.1111111111111111,
             "#46039f"
            ],
            [
             0.2222222222222222,
             "#7201a8"
            ],
            [
             0.3333333333333333,
             "#9c179e"
            ],
            [
             0.4444444444444444,
             "#bd3786"
            ],
            [
             0.5555555555555556,
             "#d8576b"
            ],
            [
             0.6666666666666666,
             "#ed7953"
            ],
            [
             0.7777777777777778,
             "#fb9f3a"
            ],
            [
             0.8888888888888888,
             "#fdca26"
            ],
            [
             1.0,
             "#f0f921"
            ]
           ],
           "sequentialminus": [
            [
             0.0,
             "#0d0887"
            ],
            [
             0.1111111111111111,
             "#46039f"
            ],
            [
             0.2222222222222222,
             "#7201a8"
            ],
            [
             0.3333333333333333,
             "#9c179e"
            ],
            [
             0.4444444444444444,
             "#bd3786"
            ],
            [
             0.5555555555555556,
             "#d8576b"
            ],
            [
             0.6666666666666666,
             "#ed7953"
            ],
            [
             0.7777777777777778,
             "#fb9f3a"
            ],
            [
             0.8888888888888888,
             "#fdca26"
            ],
            [
             1.0,
             "#f0f921"
            ]
           ],
           "diverging": [
            [
             0,
             "#8e0152"
            ],
            [
             0.1,
             "#c51b7d"
            ],
            [
             0.2,
             "#de77ae"
            ],
            [
             0.3,
             "#f1b6da"
            ],
            [
             0.4,
             "#fde0ef"
            ],
            [
             0.5,
             "#f7f7f7"
            ],
            [
             0.6,
             "#e6f5d0"
            ],
            [
             0.7,
             "#b8e186"
            ],
            [
             0.8,
             "#7fbc41"
            ],
            [
             0.9,
             "#4d9221"
            ],
            [
             1,
             "#276419"
            ]
           ]
          },
          "xaxis": {
           "gridcolor": "#283442",
           "linecolor": "#506784",
           "ticks": "",
           "title": {
            "standoff": 15
           },
           "zerolinecolor": "#283442",
           "automargin": true,
           "zerolinewidth": 2
          },
          "yaxis": {
           "gridcolor": "#283442",
           "linecolor": "#506784",
           "ticks": "",
           "title": {
            "standoff": 15
           },
           "zerolinecolor": "#283442",
           "automargin": true,
           "zerolinewidth": 2
          },
          "scene": {
           "xaxis": {
            "backgroundcolor": "rgb(17,17,17)",
            "gridcolor": "#506784",
            "linecolor": "#506784",
            "showbackground": true,
            "ticks": "",
            "zerolinecolor": "#C8D4E3",
            "gridwidth": 2
           },
           "yaxis": {
            "backgroundcolor": "rgb(17,17,17)",
            "gridcolor": "#506784",
            "linecolor": "#506784",
            "showbackground": true,
            "ticks": "",
            "zerolinecolor": "#C8D4E3",
            "gridwidth": 2
           },
           "zaxis": {
            "backgroundcolor": "rgb(17,17,17)",
            "gridcolor": "#506784",
            "linecolor": "#506784",
            "showbackground": true,
            "ticks": "",
            "zerolinecolor": "#C8D4E3",
            "gridwidth": 2
           }
          },
          "shapedefaults": {
           "line": {
            "color": "#f2f5fa"
           }
          },
          "annotationdefaults": {
           "arrowcolor": "#f2f5fa",
           "arrowhead": 0,
           "arrowwidth": 1
          },
          "geo": {
           "bgcolor": "rgb(17,17,17)",
           "landcolor": "rgb(17,17,17)",
           "subunitcolor": "#506784",
           "showland": true,
           "showlakes": true,
           "lakecolor": "rgb(17,17,17)"
          },
          "title": {
           "x": 0.05
          },
          "updatemenudefaults": {
           "bgcolor": "#506784",
           "borderwidth": 0
          },
          "sliderdefaults": {
           "bgcolor": "#C8D4E3",
           "borderwidth": 1,
           "bordercolor": "rgb(17,17,17)",
           "tickwidth": 0
          },
          "mapbox": {
           "style": "dark"
          }
         }
        },
        "xaxis": {
         "anchor": "y",
         "domain": [
          0.0,
          1.0
         ],
         "title": {
          "text": "name"
         },
         "nticks": 22
        },
        "yaxis": {
         "anchor": "x",
         "domain": [
          0.0,
          1.0
         ],
         "title": {
          "text": "position"
         },
         "nticks": 20,
         "range": [
          20.0,
          1
         ]
        },
        "legend": {
         "title": {
          "text": "driverName"
         },
         "tracegroupgap": 0
        },
        "title": {
         "text": "Positions per race during the 2021 season"
        },
        "height": 500,
        "width": 1000
       },
       "config": {
        "plotlyServerURL": "https://plot.ly"
       }
      },
      "text/html": "<div>                            <div id=\"51c4b0b8-24fe-4eff-b501-8142f1e6368d\" class=\"plotly-graph-div\" style=\"height:500px; width:1000px;\"></div>            <script type=\"text/javascript\">                require([\"plotly\"], function(Plotly) {                    window.PLOTLYENV=window.PLOTLYENV || {};                                    if (document.getElementById(\"51c4b0b8-24fe-4eff-b501-8142f1e6368d\")) {                    Plotly.newPlot(                        \"51c4b0b8-24fe-4eff-b501-8142f1e6368d\",                        [{\"hovertemplate\":\"driverName=Charles Leclerc<br>name=%{x}<br>position=%{y}<extra></extra>\",\"legendgroup\":\"Charles Leclerc\",\"line\":{\"color\":\"#ED1C24\",\"dash\":\"solid\"},\"marker\":{\"symbol\":\"circle\"},\"mode\":\"lines\",\"name\":\"Charles Leclerc\",\"orientation\":\"v\",\"showlegend\":true,\"x\":[\"Bahrain Grand Prix\",\"Saudi Arabian Grand Prix\",\"Australian Grand Prix\",\"Emilia Romagna Grand Prix\",\"Miami Grand Prix\",\"Spanish Grand Prix\",\"Monaco Grand Prix\",\"Azerbaijan Grand Prix\",\"Canadian Grand Prix\",\"British Grand Prix\",\"Austrian Grand Prix\",\"French Grand Prix\",\"Hungarian Grand Prix\",\"Belgian Grand Prix\",\"Dutch Grand Prix\",\"Italian Grand Prix\",\"Singapore Grand Prix\",\"Japanese Grand Prix\",\"United States Grand Prix\",\"Mexico City Grand Prix\",\"Brazilian Grand Prix\",\"Abu Dhabi Grand Prix\"],\"xaxis\":\"x\",\"y\":[1.0,2.0,1.0,6.0,2.0,20.0,4.0,20.0,5.0,4.0,1.0,20.0,6.0,6.0,3.0,2.0,2.0,3.0,3.0,6.0,4.0,2.0],\"yaxis\":\"y\",\"type\":\"scatter\"},{\"hovertemplate\":\"driverName=Lewis Hamilton<br>name=%{x}<br>position=%{y}<extra></extra>\",\"legendgroup\":\"Lewis Hamilton\",\"line\":{\"color\":\"#6CD3BF\",\"dash\":\"solid\"},\"marker\":{\"symbol\":\"circle\"},\"mode\":\"lines\",\"name\":\"Lewis Hamilton\",\"orientation\":\"v\",\"showlegend\":true,\"x\":[\"Bahrain Grand Prix\",\"Saudi Arabian Grand Prix\",\"Australian Grand Prix\",\"Emilia Romagna Grand Prix\",\"Miami Grand Prix\",\"Spanish Grand Prix\",\"Monaco Grand Prix\",\"Azerbaijan Grand Prix\",\"Canadian Grand Prix\",\"British Grand Prix\",\"Austrian Grand Prix\",\"French Grand Prix\",\"Hungarian Grand Prix\",\"Belgian Grand Prix\",\"Dutch Grand Prix\",\"Italian Grand Prix\",\"Singapore Grand Prix\",\"Japanese Grand Prix\",\"United States Grand Prix\",\"Mexico City Grand Prix\",\"Brazilian Grand Prix\",\"Abu Dhabi Grand Prix\"],\"xaxis\":\"x\",\"y\":[3.0,10.0,4.0,13.0,6.0,5.0,8.0,4.0,3.0,3.0,3.0,2.0,2.0,20.0,4.0,5.0,9.0,5.0,2.0,2.0,2.0,18.0],\"yaxis\":\"y\",\"type\":\"scatter\"},{\"hovertemplate\":\"driverName=Max Verstappen<br>name=%{x}<br>position=%{y}<extra></extra>\",\"legendgroup\":\"Max Verstappen\",\"line\":{\"color\":\"#1E5BC6\",\"dash\":\"solid\"},\"marker\":{\"symbol\":\"circle\"},\"mode\":\"lines\",\"name\":\"Max Verstappen\",\"orientation\":\"v\",\"showlegend\":true,\"x\":[\"Bahrain Grand Prix\",\"Saudi Arabian Grand Prix\",\"Australian Grand Prix\",\"Emilia Romagna Grand Prix\",\"Miami Grand Prix\",\"Spanish Grand Prix\",\"Monaco Grand Prix\",\"Azerbaijan Grand Prix\",\"Canadian Grand Prix\",\"British Grand Prix\",\"Austrian Grand Prix\",\"French Grand Prix\",\"Hungarian Grand Prix\",\"Belgian Grand Prix\",\"Dutch Grand Prix\",\"Italian Grand Prix\",\"Singapore Grand Prix\",\"Japanese Grand Prix\",\"United States Grand Prix\",\"Mexico City Grand Prix\",\"Brazilian Grand Prix\",\"Abu Dhabi Grand Prix\"],\"xaxis\":\"x\",\"y\":[19.0,1.0,20.0,1.0,1.0,1.0,3.0,1.0,1.0,7.0,2.0,1.0,1.0,1.0,1.0,1.0,7.0,1.0,1.0,1.0,6.0,1.0],\"yaxis\":\"y\",\"type\":\"scatter\"}],                        {\"template\":{\"data\":{\"histogram2dcontour\":[{\"type\":\"histogram2dcontour\",\"colorbar\":{\"outlinewidth\":0,\"ticks\":\"\"},\"colorscale\":[[0.0,\"#0d0887\"],[0.1111111111111111,\"#46039f\"],[0.2222222222222222,\"#7201a8\"],[0.3333333333333333,\"#9c179e\"],[0.4444444444444444,\"#bd3786\"],[0.5555555555555556,\"#d8576b\"],[0.6666666666666666,\"#ed7953\"],[0.7777777777777778,\"#fb9f3a\"],[0.8888888888888888,\"#fdca26\"],[1.0,\"#f0f921\"]]}],\"choropleth\":[{\"type\":\"choropleth\",\"colorbar\":{\"outlinewidth\":0,\"ticks\":\"\"}}],\"histogram2d\":[{\"type\":\"histogram2d\",\"colorbar\":{\"outlinewidth\":0,\"ticks\":\"\"},\"colorscale\":[[0.0,\"#0d0887\"],[0.1111111111111111,\"#46039f\"],[0.2222222222222222,\"#7201a8\"],[0.3333333333333333,\"#9c179e\"],[0.4444444444444444,\"#bd3786\"],[0.5555555555555556,\"#d8576b\"],[0.6666666666666666,\"#ed7953\"],[0.7777777777777778,\"#fb9f3a\"],[0.8888888888888888,\"#fdca26\"],[1.0,\"#f0f921\"]]}],\"heatmap\":[{\"type\":\"heatmap\",\"colorbar\":{\"outlinewidth\":0,\"ticks\":\"\"},\"colorscale\":[[0.0,\"#0d0887\"],[0.1111111111111111,\"#46039f\"],[0.2222222222222222,\"#7201a8\"],[0.3333333333333333,\"#9c179e\"],[0.4444444444444444,\"#bd3786\"],[0.5555555555555556,\"#d8576b\"],[0.6666666666666666,\"#ed7953\"],[0.7777777777777778,\"#fb9f3a\"],[0.8888888888888888,\"#fdca26\"],[1.0,\"#f0f921\"]]}],\"heatmapgl\":[{\"type\":\"heatmapgl\",\"colorbar\":{\"outlinewidth\":0,\"ticks\":\"\"},\"colorscale\":[[0.0,\"#0d0887\"],[0.1111111111111111,\"#46039f\"],[0.2222222222222222,\"#7201a8\"],[0.3333333333333333,\"#9c179e\"],[0.4444444444444444,\"#bd3786\"],[0.5555555555555556,\"#d8576b\"],[0.6666666666666666,\"#ed7953\"],[0.7777777777777778,\"#fb9f3a\"],[0.8888888888888888,\"#fdca26\"],[1.0,\"#f0f921\"]]}],\"contourcarpet\":[{\"type\":\"contourcarpet\",\"colorbar\":{\"outlinewidth\":0,\"ticks\":\"\"}}],\"contour\":[{\"type\":\"contour\",\"colorbar\":{\"outlinewidth\":0,\"ticks\":\"\"},\"colorscale\":[[0.0,\"#0d0887\"],[0.1111111111111111,\"#46039f\"],[0.2222222222222222,\"#7201a8\"],[0.3333333333333333,\"#9c179e\"],[0.4444444444444444,\"#bd3786\"],[0.5555555555555556,\"#d8576b\"],[0.6666666666666666,\"#ed7953\"],[0.7777777777777778,\"#fb9f3a\"],[0.8888888888888888,\"#fdca26\"],[1.0,\"#f0f921\"]]}],\"surface\":[{\"type\":\"surface\",\"colorbar\":{\"outlinewidth\":0,\"ticks\":\"\"},\"colorscale\":[[0.0,\"#0d0887\"],[0.1111111111111111,\"#46039f\"],[0.2222222222222222,\"#7201a8\"],[0.3333333333333333,\"#9c179e\"],[0.4444444444444444,\"#bd3786\"],[0.5555555555555556,\"#d8576b\"],[0.6666666666666666,\"#ed7953\"],[0.7777777777777778,\"#fb9f3a\"],[0.8888888888888888,\"#fdca26\"],[1.0,\"#f0f921\"]]}],\"mesh3d\":[{\"type\":\"mesh3d\",\"colorbar\":{\"outlinewidth\":0,\"ticks\":\"\"}}],\"scatter\":[{\"marker\":{\"line\":{\"color\":\"#283442\"}},\"type\":\"scatter\"}],\"parcoords\":[{\"type\":\"parcoords\",\"line\":{\"colorbar\":{\"outlinewidth\":0,\"ticks\":\"\"}}}],\"scatterpolargl\":[{\"type\":\"scatterpolargl\",\"marker\":{\"colorbar\":{\"outlinewidth\":0,\"ticks\":\"\"}}}],\"bar\":[{\"error_x\":{\"color\":\"#f2f5fa\"},\"error_y\":{\"color\":\"#f2f5fa\"},\"marker\":{\"line\":{\"color\":\"rgb(17,17,17)\",\"width\":0.5},\"pattern\":{\"fillmode\":\"overlay\",\"size\":10,\"solidity\":0.2}},\"type\":\"bar\"}],\"scattergeo\":[{\"type\":\"scattergeo\",\"marker\":{\"colorbar\":{\"outlinewidth\":0,\"ticks\":\"\"}}}],\"scatterpolar\":[{\"type\":\"scatterpolar\",\"marker\":{\"colorbar\":{\"outlinewidth\":0,\"ticks\":\"\"}}}],\"histogram\":[{\"marker\":{\"pattern\":{\"fillmode\":\"overlay\",\"size\":10,\"solidity\":0.2}},\"type\":\"histogram\"}],\"scattergl\":[{\"marker\":{\"line\":{\"color\":\"#283442\"}},\"type\":\"scattergl\"}],\"scatter3d\":[{\"type\":\"scatter3d\",\"line\":{\"colorbar\":{\"outlinewidth\":0,\"ticks\":\"\"}},\"marker\":{\"colorbar\":{\"outlinewidth\":0,\"ticks\":\"\"}}}],\"scattermapbox\":[{\"type\":\"scattermapbox\",\"marker\":{\"colorbar\":{\"outlinewidth\":0,\"ticks\":\"\"}}}],\"scatterternary\":[{\"type\":\"scatterternary\",\"marker\":{\"colorbar\":{\"outlinewidth\":0,\"ticks\":\"\"}}}],\"scattercarpet\":[{\"type\":\"scattercarpet\",\"marker\":{\"colorbar\":{\"outlinewidth\":0,\"ticks\":\"\"}}}],\"carpet\":[{\"aaxis\":{\"endlinecolor\":\"#A2B1C6\",\"gridcolor\":\"#506784\",\"linecolor\":\"#506784\",\"minorgridcolor\":\"#506784\",\"startlinecolor\":\"#A2B1C6\"},\"baxis\":{\"endlinecolor\":\"#A2B1C6\",\"gridcolor\":\"#506784\",\"linecolor\":\"#506784\",\"minorgridcolor\":\"#506784\",\"startlinecolor\":\"#A2B1C6\"},\"type\":\"carpet\"}],\"table\":[{\"cells\":{\"fill\":{\"color\":\"#506784\"},\"line\":{\"color\":\"rgb(17,17,17)\"}},\"header\":{\"fill\":{\"color\":\"#2a3f5f\"},\"line\":{\"color\":\"rgb(17,17,17)\"}},\"type\":\"table\"}],\"barpolar\":[{\"marker\":{\"line\":{\"color\":\"rgb(17,17,17)\",\"width\":0.5},\"pattern\":{\"fillmode\":\"overlay\",\"size\":10,\"solidity\":0.2}},\"type\":\"barpolar\"}],\"pie\":[{\"automargin\":true,\"type\":\"pie\"}]},\"layout\":{\"autotypenumbers\":\"strict\",\"colorway\":[\"#636efa\",\"#EF553B\",\"#00cc96\",\"#ab63fa\",\"#FFA15A\",\"#19d3f3\",\"#FF6692\",\"#B6E880\",\"#FF97FF\",\"#FECB52\"],\"font\":{\"color\":\"#f2f5fa\"},\"hovermode\":\"closest\",\"hoverlabel\":{\"align\":\"left\"},\"paper_bgcolor\":\"rgb(17,17,17)\",\"plot_bgcolor\":\"rgb(17,17,17)\",\"polar\":{\"bgcolor\":\"rgb(17,17,17)\",\"angularaxis\":{\"gridcolor\":\"#506784\",\"linecolor\":\"#506784\",\"ticks\":\"\"},\"radialaxis\":{\"gridcolor\":\"#506784\",\"linecolor\":\"#506784\",\"ticks\":\"\"}},\"ternary\":{\"bgcolor\":\"rgb(17,17,17)\",\"aaxis\":{\"gridcolor\":\"#506784\",\"linecolor\":\"#506784\",\"ticks\":\"\"},\"baxis\":{\"gridcolor\":\"#506784\",\"linecolor\":\"#506784\",\"ticks\":\"\"},\"caxis\":{\"gridcolor\":\"#506784\",\"linecolor\":\"#506784\",\"ticks\":\"\"}},\"coloraxis\":{\"colorbar\":{\"outlinewidth\":0,\"ticks\":\"\"}},\"colorscale\":{\"sequential\":[[0.0,\"#0d0887\"],[0.1111111111111111,\"#46039f\"],[0.2222222222222222,\"#7201a8\"],[0.3333333333333333,\"#9c179e\"],[0.4444444444444444,\"#bd3786\"],[0.5555555555555556,\"#d8576b\"],[0.6666666666666666,\"#ed7953\"],[0.7777777777777778,\"#fb9f3a\"],[0.8888888888888888,\"#fdca26\"],[1.0,\"#f0f921\"]],\"sequentialminus\":[[0.0,\"#0d0887\"],[0.1111111111111111,\"#46039f\"],[0.2222222222222222,\"#7201a8\"],[0.3333333333333333,\"#9c179e\"],[0.4444444444444444,\"#bd3786\"],[0.5555555555555556,\"#d8576b\"],[0.6666666666666666,\"#ed7953\"],[0.7777777777777778,\"#fb9f3a\"],[0.8888888888888888,\"#fdca26\"],[1.0,\"#f0f921\"]],\"diverging\":[[0,\"#8e0152\"],[0.1,\"#c51b7d\"],[0.2,\"#de77ae\"],[0.3,\"#f1b6da\"],[0.4,\"#fde0ef\"],[0.5,\"#f7f7f7\"],[0.6,\"#e6f5d0\"],[0.7,\"#b8e186\"],[0.8,\"#7fbc41\"],[0.9,\"#4d9221\"],[1,\"#276419\"]]},\"xaxis\":{\"gridcolor\":\"#283442\",\"linecolor\":\"#506784\",\"ticks\":\"\",\"title\":{\"standoff\":15},\"zerolinecolor\":\"#283442\",\"automargin\":true,\"zerolinewidth\":2},\"yaxis\":{\"gridcolor\":\"#283442\",\"linecolor\":\"#506784\",\"ticks\":\"\",\"title\":{\"standoff\":15},\"zerolinecolor\":\"#283442\",\"automargin\":true,\"zerolinewidth\":2},\"scene\":{\"xaxis\":{\"backgroundcolor\":\"rgb(17,17,17)\",\"gridcolor\":\"#506784\",\"linecolor\":\"#506784\",\"showbackground\":true,\"ticks\":\"\",\"zerolinecolor\":\"#C8D4E3\",\"gridwidth\":2},\"yaxis\":{\"backgroundcolor\":\"rgb(17,17,17)\",\"gridcolor\":\"#506784\",\"linecolor\":\"#506784\",\"showbackground\":true,\"ticks\":\"\",\"zerolinecolor\":\"#C8D4E3\",\"gridwidth\":2},\"zaxis\":{\"backgroundcolor\":\"rgb(17,17,17)\",\"gridcolor\":\"#506784\",\"linecolor\":\"#506784\",\"showbackground\":true,\"ticks\":\"\",\"zerolinecolor\":\"#C8D4E3\",\"gridwidth\":2}},\"shapedefaults\":{\"line\":{\"color\":\"#f2f5fa\"}},\"annotationdefaults\":{\"arrowcolor\":\"#f2f5fa\",\"arrowhead\":0,\"arrowwidth\":1},\"geo\":{\"bgcolor\":\"rgb(17,17,17)\",\"landcolor\":\"rgb(17,17,17)\",\"subunitcolor\":\"#506784\",\"showland\":true,\"showlakes\":true,\"lakecolor\":\"rgb(17,17,17)\"},\"title\":{\"x\":0.05},\"updatemenudefaults\":{\"bgcolor\":\"#506784\",\"borderwidth\":0},\"sliderdefaults\":{\"bgcolor\":\"#C8D4E3\",\"borderwidth\":1,\"bordercolor\":\"rgb(17,17,17)\",\"tickwidth\":0},\"mapbox\":{\"style\":\"dark\"}}},\"xaxis\":{\"anchor\":\"y\",\"domain\":[0.0,1.0],\"title\":{\"text\":\"name\"},\"nticks\":22},\"yaxis\":{\"anchor\":\"x\",\"domain\":[0.0,1.0],\"title\":{\"text\":\"position\"},\"nticks\":20,\"range\":[20.0,1]},\"legend\":{\"title\":{\"text\":\"driverName\"},\"tracegroupgap\":0},\"title\":{\"text\":\"Positions per race during the 2021 season\"},\"height\":500,\"width\":1000},                        {\"responsive\": true}                    ).then(function(){\n                            \nvar gd = document.getElementById('51c4b0b8-24fe-4eff-b501-8142f1e6368d');\nvar x = new MutationObserver(function (mutations, observer) {{\n        var display = window.getComputedStyle(gd).display;\n        if (!display || display === 'none') {{\n            console.log([gd, 'removed!']);\n            Plotly.purge(gd);\n            observer.disconnect();\n        }}\n}});\n\n// Listen for the removal of the full notebook cells\nvar notebookContainer = gd.closest('#notebook-container');\nif (notebookContainer) {{\n    x.observe(notebookContainer, {childList: true});\n}}\n\n// Listen for the clearing of the current output cell\nvar outputEl = gd.closest('.output');\nif (outputEl) {{\n    x.observe(outputEl, {childList: true});\n}}\n\n                        })                };                });            </script>        </div>"
     },
     "metadata": {},
     "output_type": "display_data"
    }
   ],
   "source": [
    "fig = px.line(df_driver_focus,\n",
    "              x='name',\n",
    "              y='position',\n",
    "              color='driverName',\n",
    "              color_discrete_map=drivers_color_map,\n",
    "              width=1000,\n",
    "              height=500,\n",
    "              title=f'Positions per race during the {year} season')\n",
    "fig.update_yaxes(nticks=int(df_pos_max['position'].max()))\n",
    "fig.update_yaxes(range=[df_pos_max['position'].max(), 1])\n",
    "fig.update_xaxes(nticks=int(df_driver_focus['round'].max()))\n",
    "fig.show()"
   ],
   "metadata": {
    "collapsed": false,
    "ExecuteTime": {
     "end_time": "2023-07-11T14:41:02.985181900Z",
     "start_time": "2023-07-11T14:41:02.889274900Z"
    }
   }
  },
  {
   "cell_type": "code",
   "execution_count": 51,
   "outputs": [],
   "source": [
    "df_focus_on_race = pd.merge(lapTimes,\n",
    "                            newResults[['raceId', 'driverId', 'driverName', 'constructorId', 'constructorName', 'name', 'year']],\n",
    "                            left_on=['raceId', 'driverId'],\n",
    "                            right_on=['raceId', 'driverId'])\n",
    "df_focus_on_race = df_focus_on_race[(df_focus_on_race['name'] == focusedRace) & (df_focus_on_race['driverName'].isin(driver_focused)) & (df_focus_on_race['year'] == year)]"
   ],
   "metadata": {
    "collapsed": false,
    "ExecuteTime": {
     "end_time": "2023-07-11T13:54:48.641653400Z",
     "start_time": "2023-07-11T13:54:48.327499300Z"
    }
   }
  },
  {
   "cell_type": "code",
   "execution_count": 69,
   "outputs": [
    {
     "data": {
      "application/vnd.plotly.v1+json": {
       "data": [
        {
         "hovertemplate": "driverName=Charles Leclerc<br>lap=%{x}<br>milliseconds=%{y}<extra></extra>",
         "legendgroup": "Charles Leclerc",
         "line": {
          "color": "#ED1C24",
          "dash": "solid"
         },
         "marker": {
          "symbol": "circle"
         },
         "mode": "lines+markers",
         "name": "Charles Leclerc",
         "orientation": "v",
         "showlegend": true,
         "x": [
          1,
          2,
          3,
          4,
          5,
          6,
          7,
          8,
          9,
          10,
          11,
          12,
          13,
          14,
          15,
          16,
          17
         ],
         "xaxis": "x",
         "y": [
          103351,
          98127,
          98699,
          98088,
          99097,
          98610,
          99288,
          98964,
          99141,
          98855,
          99344,
          99046,
          98658,
          99012,
          98844,
          98855,
          98963
         ],
         "yaxis": "y",
         "type": "scatter"
        },
        {
         "hovertemplate": "driverName=Max Verstappen<br>lap=%{x}<br>milliseconds=%{y}<extra></extra>",
         "legendgroup": "Max Verstappen",
         "line": {
          "color": "#1E5BC6",
          "dash": "solid"
         },
         "marker": {
          "symbol": "circle"
         },
         "mode": "lines+markers",
         "name": "Max Verstappen",
         "orientation": "v",
         "showlegend": true,
         "x": [
          1,
          2,
          3,
          4,
          5,
          6,
          7,
          8,
          9,
          10,
          11,
          12,
          13,
          14,
          15,
          16,
          17,
          18,
          19,
          20,
          21,
          22,
          23,
          24,
          25,
          26,
          27,
          28,
          29,
          30,
          31,
          32,
          33,
          34,
          35,
          36,
          37,
          38,
          39,
          40,
          41,
          42,
          43,
          44,
          45,
          46,
          47,
          48,
          49,
          50,
          51,
          52,
          53
         ],
         "xaxis": "x",
         "y": [
          104415,
          98330,
          98117,
          98390,
          98720,
          98634,
          99219,
          99159,
          99130,
          99043,
          99285,
          99109,
          99026,
          99276,
          99102,
          117773,
          105628,
          112410,
          157350,
          151527,
          97701,
          97774,
          98273,
          98009,
          98344,
          97950,
          97967,
          97696,
          97695,
          97491,
          97786,
          97804,
          97900,
          97911,
          98301,
          98053,
          98270,
          97683,
          98027,
          97838,
          97736,
          97836,
          97642,
          98019,
          97856,
          98242,
          98073,
          97945,
          98732,
          132092,
          99093,
          98288,
          98442
         ],
         "yaxis": "y",
         "type": "scatter"
        },
        {
         "hovertemplate": "driverName=Lewis Hamilton<br>lap=%{x}<br>milliseconds=%{y}<extra></extra>",
         "legendgroup": "Lewis Hamilton",
         "line": {
          "color": "#6CD3BF",
          "dash": "solid"
         },
         "marker": {
          "symbol": "circle"
         },
         "mode": "lines+markers",
         "name": "Lewis Hamilton",
         "orientation": "v",
         "showlegend": true,
         "x": [
          1,
          2,
          3,
          4,
          5,
          6,
          7,
          8,
          9,
          10,
          11,
          12,
          13,
          14,
          15,
          16,
          17,
          18,
          19,
          20,
          21,
          22,
          23,
          24,
          25,
          26,
          27,
          28,
          29,
          30,
          31,
          32,
          33,
          34,
          35,
          36,
          37,
          38,
          39,
          40,
          41,
          42,
          43,
          44,
          45,
          46,
          47,
          48,
          49,
          50,
          51,
          52,
          53
         ],
         "xaxis": "x",
         "y": [
          105421,
          99316,
          99620,
          99066,
          99608,
          99779,
          99135,
          98900,
          99031,
          99201,
          99499,
          99246,
          99373,
          99469,
          99335,
          99428,
          99772,
          124746,
          164819,
          149797,
          98102,
          98431,
          98892,
          98487,
          98256,
          98370,
          98044,
          97810,
          97961,
          97668,
          98109,
          99196,
          98485,
          98145,
          98282,
          98689,
          98034,
          98235,
          98612,
          98126,
          97815,
          98279,
          98257,
          98123,
          97890,
          98248,
          98589,
          98310,
          98748,
          131309,
          98712,
          98805,
          99119
         ],
         "yaxis": "y",
         "type": "scatter"
        }
       ],
       "layout": {
        "template": {
         "data": {
          "histogram2dcontour": [
           {
            "type": "histogram2dcontour",
            "colorbar": {
             "outlinewidth": 0,
             "ticks": ""
            },
            "colorscale": [
             [
              0.0,
              "#0d0887"
             ],
             [
              0.1111111111111111,
              "#46039f"
             ],
             [
              0.2222222222222222,
              "#7201a8"
             ],
             [
              0.3333333333333333,
              "#9c179e"
             ],
             [
              0.4444444444444444,
              "#bd3786"
             ],
             [
              0.5555555555555556,
              "#d8576b"
             ],
             [
              0.6666666666666666,
              "#ed7953"
             ],
             [
              0.7777777777777778,
              "#fb9f3a"
             ],
             [
              0.8888888888888888,
              "#fdca26"
             ],
             [
              1.0,
              "#f0f921"
             ]
            ]
           }
          ],
          "choropleth": [
           {
            "type": "choropleth",
            "colorbar": {
             "outlinewidth": 0,
             "ticks": ""
            }
           }
          ],
          "histogram2d": [
           {
            "type": "histogram2d",
            "colorbar": {
             "outlinewidth": 0,
             "ticks": ""
            },
            "colorscale": [
             [
              0.0,
              "#0d0887"
             ],
             [
              0.1111111111111111,
              "#46039f"
             ],
             [
              0.2222222222222222,
              "#7201a8"
             ],
             [
              0.3333333333333333,
              "#9c179e"
             ],
             [
              0.4444444444444444,
              "#bd3786"
             ],
             [
              0.5555555555555556,
              "#d8576b"
             ],
             [
              0.6666666666666666,
              "#ed7953"
             ],
             [
              0.7777777777777778,
              "#fb9f3a"
             ],
             [
              0.8888888888888888,
              "#fdca26"
             ],
             [
              1.0,
              "#f0f921"
             ]
            ]
           }
          ],
          "heatmap": [
           {
            "type": "heatmap",
            "colorbar": {
             "outlinewidth": 0,
             "ticks": ""
            },
            "colorscale": [
             [
              0.0,
              "#0d0887"
             ],
             [
              0.1111111111111111,
              "#46039f"
             ],
             [
              0.2222222222222222,
              "#7201a8"
             ],
             [
              0.3333333333333333,
              "#9c179e"
             ],
             [
              0.4444444444444444,
              "#bd3786"
             ],
             [
              0.5555555555555556,
              "#d8576b"
             ],
             [
              0.6666666666666666,
              "#ed7953"
             ],
             [
              0.7777777777777778,
              "#fb9f3a"
             ],
             [
              0.8888888888888888,
              "#fdca26"
             ],
             [
              1.0,
              "#f0f921"
             ]
            ]
           }
          ],
          "heatmapgl": [
           {
            "type": "heatmapgl",
            "colorbar": {
             "outlinewidth": 0,
             "ticks": ""
            },
            "colorscale": [
             [
              0.0,
              "#0d0887"
             ],
             [
              0.1111111111111111,
              "#46039f"
             ],
             [
              0.2222222222222222,
              "#7201a8"
             ],
             [
              0.3333333333333333,
              "#9c179e"
             ],
             [
              0.4444444444444444,
              "#bd3786"
             ],
             [
              0.5555555555555556,
              "#d8576b"
             ],
             [
              0.6666666666666666,
              "#ed7953"
             ],
             [
              0.7777777777777778,
              "#fb9f3a"
             ],
             [
              0.8888888888888888,
              "#fdca26"
             ],
             [
              1.0,
              "#f0f921"
             ]
            ]
           }
          ],
          "contourcarpet": [
           {
            "type": "contourcarpet",
            "colorbar": {
             "outlinewidth": 0,
             "ticks": ""
            }
           }
          ],
          "contour": [
           {
            "type": "contour",
            "colorbar": {
             "outlinewidth": 0,
             "ticks": ""
            },
            "colorscale": [
             [
              0.0,
              "#0d0887"
             ],
             [
              0.1111111111111111,
              "#46039f"
             ],
             [
              0.2222222222222222,
              "#7201a8"
             ],
             [
              0.3333333333333333,
              "#9c179e"
             ],
             [
              0.4444444444444444,
              "#bd3786"
             ],
             [
              0.5555555555555556,
              "#d8576b"
             ],
             [
              0.6666666666666666,
              "#ed7953"
             ],
             [
              0.7777777777777778,
              "#fb9f3a"
             ],
             [
              0.8888888888888888,
              "#fdca26"
             ],
             [
              1.0,
              "#f0f921"
             ]
            ]
           }
          ],
          "surface": [
           {
            "type": "surface",
            "colorbar": {
             "outlinewidth": 0,
             "ticks": ""
            },
            "colorscale": [
             [
              0.0,
              "#0d0887"
             ],
             [
              0.1111111111111111,
              "#46039f"
             ],
             [
              0.2222222222222222,
              "#7201a8"
             ],
             [
              0.3333333333333333,
              "#9c179e"
             ],
             [
              0.4444444444444444,
              "#bd3786"
             ],
             [
              0.5555555555555556,
              "#d8576b"
             ],
             [
              0.6666666666666666,
              "#ed7953"
             ],
             [
              0.7777777777777778,
              "#fb9f3a"
             ],
             [
              0.8888888888888888,
              "#fdca26"
             ],
             [
              1.0,
              "#f0f921"
             ]
            ]
           }
          ],
          "mesh3d": [
           {
            "type": "mesh3d",
            "colorbar": {
             "outlinewidth": 0,
             "ticks": ""
            }
           }
          ],
          "scatter": [
           {
            "marker": {
             "line": {
              "color": "#283442"
             }
            },
            "type": "scatter"
           }
          ],
          "parcoords": [
           {
            "type": "parcoords",
            "line": {
             "colorbar": {
              "outlinewidth": 0,
              "ticks": ""
             }
            }
           }
          ],
          "scatterpolargl": [
           {
            "type": "scatterpolargl",
            "marker": {
             "colorbar": {
              "outlinewidth": 0,
              "ticks": ""
             }
            }
           }
          ],
          "bar": [
           {
            "error_x": {
             "color": "#f2f5fa"
            },
            "error_y": {
             "color": "#f2f5fa"
            },
            "marker": {
             "line": {
              "color": "rgb(17,17,17)",
              "width": 0.5
             },
             "pattern": {
              "fillmode": "overlay",
              "size": 10,
              "solidity": 0.2
             }
            },
            "type": "bar"
           }
          ],
          "scattergeo": [
           {
            "type": "scattergeo",
            "marker": {
             "colorbar": {
              "outlinewidth": 0,
              "ticks": ""
             }
            }
           }
          ],
          "scatterpolar": [
           {
            "type": "scatterpolar",
            "marker": {
             "colorbar": {
              "outlinewidth": 0,
              "ticks": ""
             }
            }
           }
          ],
          "histogram": [
           {
            "marker": {
             "pattern": {
              "fillmode": "overlay",
              "size": 10,
              "solidity": 0.2
             }
            },
            "type": "histogram"
           }
          ],
          "scattergl": [
           {
            "marker": {
             "line": {
              "color": "#283442"
             }
            },
            "type": "scattergl"
           }
          ],
          "scatter3d": [
           {
            "type": "scatter3d",
            "line": {
             "colorbar": {
              "outlinewidth": 0,
              "ticks": ""
             }
            },
            "marker": {
             "colorbar": {
              "outlinewidth": 0,
              "ticks": ""
             }
            }
           }
          ],
          "scattermapbox": [
           {
            "type": "scattermapbox",
            "marker": {
             "colorbar": {
              "outlinewidth": 0,
              "ticks": ""
             }
            }
           }
          ],
          "scatterternary": [
           {
            "type": "scatterternary",
            "marker": {
             "colorbar": {
              "outlinewidth": 0,
              "ticks": ""
             }
            }
           }
          ],
          "scattercarpet": [
           {
            "type": "scattercarpet",
            "marker": {
             "colorbar": {
              "outlinewidth": 0,
              "ticks": ""
             }
            }
           }
          ],
          "carpet": [
           {
            "aaxis": {
             "endlinecolor": "#A2B1C6",
             "gridcolor": "#506784",
             "linecolor": "#506784",
             "minorgridcolor": "#506784",
             "startlinecolor": "#A2B1C6"
            },
            "baxis": {
             "endlinecolor": "#A2B1C6",
             "gridcolor": "#506784",
             "linecolor": "#506784",
             "minorgridcolor": "#506784",
             "startlinecolor": "#A2B1C6"
            },
            "type": "carpet"
           }
          ],
          "table": [
           {
            "cells": {
             "fill": {
              "color": "#506784"
             },
             "line": {
              "color": "rgb(17,17,17)"
             }
            },
            "header": {
             "fill": {
              "color": "#2a3f5f"
             },
             "line": {
              "color": "rgb(17,17,17)"
             }
            },
            "type": "table"
           }
          ],
          "barpolar": [
           {
            "marker": {
             "line": {
              "color": "rgb(17,17,17)",
              "width": 0.5
             },
             "pattern": {
              "fillmode": "overlay",
              "size": 10,
              "solidity": 0.2
             }
            },
            "type": "barpolar"
           }
          ],
          "pie": [
           {
            "automargin": true,
            "type": "pie"
           }
          ]
         },
         "layout": {
          "autotypenumbers": "strict",
          "colorway": [
           "#636efa",
           "#EF553B",
           "#00cc96",
           "#ab63fa",
           "#FFA15A",
           "#19d3f3",
           "#FF6692",
           "#B6E880",
           "#FF97FF",
           "#FECB52"
          ],
          "font": {
           "color": "#f2f5fa"
          },
          "hovermode": "closest",
          "hoverlabel": {
           "align": "left"
          },
          "paper_bgcolor": "rgb(17,17,17)",
          "plot_bgcolor": "rgb(17,17,17)",
          "polar": {
           "bgcolor": "rgb(17,17,17)",
           "angularaxis": {
            "gridcolor": "#506784",
            "linecolor": "#506784",
            "ticks": ""
           },
           "radialaxis": {
            "gridcolor": "#506784",
            "linecolor": "#506784",
            "ticks": ""
           }
          },
          "ternary": {
           "bgcolor": "rgb(17,17,17)",
           "aaxis": {
            "gridcolor": "#506784",
            "linecolor": "#506784",
            "ticks": ""
           },
           "baxis": {
            "gridcolor": "#506784",
            "linecolor": "#506784",
            "ticks": ""
           },
           "caxis": {
            "gridcolor": "#506784",
            "linecolor": "#506784",
            "ticks": ""
           }
          },
          "coloraxis": {
           "colorbar": {
            "outlinewidth": 0,
            "ticks": ""
           }
          },
          "colorscale": {
           "sequential": [
            [
             0.0,
             "#0d0887"
            ],
            [
             0.1111111111111111,
             "#46039f"
            ],
            [
             0.2222222222222222,
             "#7201a8"
            ],
            [
             0.3333333333333333,
             "#9c179e"
            ],
            [
             0.4444444444444444,
             "#bd3786"
            ],
            [
             0.5555555555555556,
             "#d8576b"
            ],
            [
             0.6666666666666666,
             "#ed7953"
            ],
            [
             0.7777777777777778,
             "#fb9f3a"
            ],
            [
             0.8888888888888888,
             "#fdca26"
            ],
            [
             1.0,
             "#f0f921"
            ]
           ],
           "sequentialminus": [
            [
             0.0,
             "#0d0887"
            ],
            [
             0.1111111111111111,
             "#46039f"
            ],
            [
             0.2222222222222222,
             "#7201a8"
            ],
            [
             0.3333333333333333,
             "#9c179e"
            ],
            [
             0.4444444444444444,
             "#bd3786"
            ],
            [
             0.5555555555555556,
             "#d8576b"
            ],
            [
             0.6666666666666666,
             "#ed7953"
            ],
            [
             0.7777777777777778,
             "#fb9f3a"
            ],
            [
             0.8888888888888888,
             "#fdca26"
            ],
            [
             1.0,
             "#f0f921"
            ]
           ],
           "diverging": [
            [
             0,
             "#8e0152"
            ],
            [
             0.1,
             "#c51b7d"
            ],
            [
             0.2,
             "#de77ae"
            ],
            [
             0.3,
             "#f1b6da"
            ],
            [
             0.4,
             "#fde0ef"
            ],
            [
             0.5,
             "#f7f7f7"
            ],
            [
             0.6,
             "#e6f5d0"
            ],
            [
             0.7,
             "#b8e186"
            ],
            [
             0.8,
             "#7fbc41"
            ],
            [
             0.9,
             "#4d9221"
            ],
            [
             1,
             "#276419"
            ]
           ]
          },
          "xaxis": {
           "gridcolor": "#283442",
           "linecolor": "#506784",
           "ticks": "",
           "title": {
            "standoff": 15
           },
           "zerolinecolor": "#283442",
           "automargin": true,
           "zerolinewidth": 2
          },
          "yaxis": {
           "gridcolor": "#283442",
           "linecolor": "#506784",
           "ticks": "",
           "title": {
            "standoff": 15
           },
           "zerolinecolor": "#283442",
           "automargin": true,
           "zerolinewidth": 2
          },
          "scene": {
           "xaxis": {
            "backgroundcolor": "rgb(17,17,17)",
            "gridcolor": "#506784",
            "linecolor": "#506784",
            "showbackground": true,
            "ticks": "",
            "zerolinecolor": "#C8D4E3",
            "gridwidth": 2
           },
           "yaxis": {
            "backgroundcolor": "rgb(17,17,17)",
            "gridcolor": "#506784",
            "linecolor": "#506784",
            "showbackground": true,
            "ticks": "",
            "zerolinecolor": "#C8D4E3",
            "gridwidth": 2
           },
           "zaxis": {
            "backgroundcolor": "rgb(17,17,17)",
            "gridcolor": "#506784",
            "linecolor": "#506784",
            "showbackground": true,
            "ticks": "",
            "zerolinecolor": "#C8D4E3",
            "gridwidth": 2
           }
          },
          "shapedefaults": {
           "line": {
            "color": "#f2f5fa"
           }
          },
          "annotationdefaults": {
           "arrowcolor": "#f2f5fa",
           "arrowhead": 0,
           "arrowwidth": 1
          },
          "geo": {
           "bgcolor": "rgb(17,17,17)",
           "landcolor": "rgb(17,17,17)",
           "subunitcolor": "#506784",
           "showland": true,
           "showlakes": true,
           "lakecolor": "rgb(17,17,17)"
          },
          "title": {
           "x": 0.05
          },
          "updatemenudefaults": {
           "bgcolor": "#506784",
           "borderwidth": 0
          },
          "sliderdefaults": {
           "bgcolor": "#C8D4E3",
           "borderwidth": 1,
           "bordercolor": "rgb(17,17,17)",
           "tickwidth": 0
          },
          "mapbox": {
           "style": "dark"
          }
         }
        },
        "xaxis": {
         "anchor": "y",
         "domain": [
          0.0,
          1.0
         ],
         "title": {
          "text": "lap"
         }
        },
        "yaxis": {
         "anchor": "x",
         "domain": [
          0.0,
          1.0
         ],
         "title": {
          "text": "milliseconds"
         }
        },
        "legend": {
         "title": {
          "text": "driverName"
         },
         "tracegroupgap": 0
        },
        "title": {
         "text": "Time per laps during the French Grand Prix race of 2021"
        }
       },
       "config": {
        "plotlyServerURL": "https://plot.ly"
       }
      },
      "text/html": "<div>                            <div id=\"91748680-9e1d-40e6-b090-6df23ef756d3\" class=\"plotly-graph-div\" style=\"height:525px; width:100%;\"></div>            <script type=\"text/javascript\">                require([\"plotly\"], function(Plotly) {                    window.PLOTLYENV=window.PLOTLYENV || {};                                    if (document.getElementById(\"91748680-9e1d-40e6-b090-6df23ef756d3\")) {                    Plotly.newPlot(                        \"91748680-9e1d-40e6-b090-6df23ef756d3\",                        [{\"hovertemplate\":\"driverName=Charles Leclerc<br>lap=%{x}<br>milliseconds=%{y}<extra></extra>\",\"legendgroup\":\"Charles Leclerc\",\"line\":{\"color\":\"#ED1C24\",\"dash\":\"solid\"},\"marker\":{\"symbol\":\"circle\"},\"mode\":\"lines+markers\",\"name\":\"Charles Leclerc\",\"orientation\":\"v\",\"showlegend\":true,\"x\":[1,2,3,4,5,6,7,8,9,10,11,12,13,14,15,16,17],\"xaxis\":\"x\",\"y\":[103351,98127,98699,98088,99097,98610,99288,98964,99141,98855,99344,99046,98658,99012,98844,98855,98963],\"yaxis\":\"y\",\"type\":\"scatter\"},{\"hovertemplate\":\"driverName=Max Verstappen<br>lap=%{x}<br>milliseconds=%{y}<extra></extra>\",\"legendgroup\":\"Max Verstappen\",\"line\":{\"color\":\"#1E5BC6\",\"dash\":\"solid\"},\"marker\":{\"symbol\":\"circle\"},\"mode\":\"lines+markers\",\"name\":\"Max Verstappen\",\"orientation\":\"v\",\"showlegend\":true,\"x\":[1,2,3,4,5,6,7,8,9,10,11,12,13,14,15,16,17,18,19,20,21,22,23,24,25,26,27,28,29,30,31,32,33,34,35,36,37,38,39,40,41,42,43,44,45,46,47,48,49,50,51,52,53],\"xaxis\":\"x\",\"y\":[104415,98330,98117,98390,98720,98634,99219,99159,99130,99043,99285,99109,99026,99276,99102,117773,105628,112410,157350,151527,97701,97774,98273,98009,98344,97950,97967,97696,97695,97491,97786,97804,97900,97911,98301,98053,98270,97683,98027,97838,97736,97836,97642,98019,97856,98242,98073,97945,98732,132092,99093,98288,98442],\"yaxis\":\"y\",\"type\":\"scatter\"},{\"hovertemplate\":\"driverName=Lewis Hamilton<br>lap=%{x}<br>milliseconds=%{y}<extra></extra>\",\"legendgroup\":\"Lewis Hamilton\",\"line\":{\"color\":\"#6CD3BF\",\"dash\":\"solid\"},\"marker\":{\"symbol\":\"circle\"},\"mode\":\"lines+markers\",\"name\":\"Lewis Hamilton\",\"orientation\":\"v\",\"showlegend\":true,\"x\":[1,2,3,4,5,6,7,8,9,10,11,12,13,14,15,16,17,18,19,20,21,22,23,24,25,26,27,28,29,30,31,32,33,34,35,36,37,38,39,40,41,42,43,44,45,46,47,48,49,50,51,52,53],\"xaxis\":\"x\",\"y\":[105421,99316,99620,99066,99608,99779,99135,98900,99031,99201,99499,99246,99373,99469,99335,99428,99772,124746,164819,149797,98102,98431,98892,98487,98256,98370,98044,97810,97961,97668,98109,99196,98485,98145,98282,98689,98034,98235,98612,98126,97815,98279,98257,98123,97890,98248,98589,98310,98748,131309,98712,98805,99119],\"yaxis\":\"y\",\"type\":\"scatter\"}],                        {\"template\":{\"data\":{\"histogram2dcontour\":[{\"type\":\"histogram2dcontour\",\"colorbar\":{\"outlinewidth\":0,\"ticks\":\"\"},\"colorscale\":[[0.0,\"#0d0887\"],[0.1111111111111111,\"#46039f\"],[0.2222222222222222,\"#7201a8\"],[0.3333333333333333,\"#9c179e\"],[0.4444444444444444,\"#bd3786\"],[0.5555555555555556,\"#d8576b\"],[0.6666666666666666,\"#ed7953\"],[0.7777777777777778,\"#fb9f3a\"],[0.8888888888888888,\"#fdca26\"],[1.0,\"#f0f921\"]]}],\"choropleth\":[{\"type\":\"choropleth\",\"colorbar\":{\"outlinewidth\":0,\"ticks\":\"\"}}],\"histogram2d\":[{\"type\":\"histogram2d\",\"colorbar\":{\"outlinewidth\":0,\"ticks\":\"\"},\"colorscale\":[[0.0,\"#0d0887\"],[0.1111111111111111,\"#46039f\"],[0.2222222222222222,\"#7201a8\"],[0.3333333333333333,\"#9c179e\"],[0.4444444444444444,\"#bd3786\"],[0.5555555555555556,\"#d8576b\"],[0.6666666666666666,\"#ed7953\"],[0.7777777777777778,\"#fb9f3a\"],[0.8888888888888888,\"#fdca26\"],[1.0,\"#f0f921\"]]}],\"heatmap\":[{\"type\":\"heatmap\",\"colorbar\":{\"outlinewidth\":0,\"ticks\":\"\"},\"colorscale\":[[0.0,\"#0d0887\"],[0.1111111111111111,\"#46039f\"],[0.2222222222222222,\"#7201a8\"],[0.3333333333333333,\"#9c179e\"],[0.4444444444444444,\"#bd3786\"],[0.5555555555555556,\"#d8576b\"],[0.6666666666666666,\"#ed7953\"],[0.7777777777777778,\"#fb9f3a\"],[0.8888888888888888,\"#fdca26\"],[1.0,\"#f0f921\"]]}],\"heatmapgl\":[{\"type\":\"heatmapgl\",\"colorbar\":{\"outlinewidth\":0,\"ticks\":\"\"},\"colorscale\":[[0.0,\"#0d0887\"],[0.1111111111111111,\"#46039f\"],[0.2222222222222222,\"#7201a8\"],[0.3333333333333333,\"#9c179e\"],[0.4444444444444444,\"#bd3786\"],[0.5555555555555556,\"#d8576b\"],[0.6666666666666666,\"#ed7953\"],[0.7777777777777778,\"#fb9f3a\"],[0.8888888888888888,\"#fdca26\"],[1.0,\"#f0f921\"]]}],\"contourcarpet\":[{\"type\":\"contourcarpet\",\"colorbar\":{\"outlinewidth\":0,\"ticks\":\"\"}}],\"contour\":[{\"type\":\"contour\",\"colorbar\":{\"outlinewidth\":0,\"ticks\":\"\"},\"colorscale\":[[0.0,\"#0d0887\"],[0.1111111111111111,\"#46039f\"],[0.2222222222222222,\"#7201a8\"],[0.3333333333333333,\"#9c179e\"],[0.4444444444444444,\"#bd3786\"],[0.5555555555555556,\"#d8576b\"],[0.6666666666666666,\"#ed7953\"],[0.7777777777777778,\"#fb9f3a\"],[0.8888888888888888,\"#fdca26\"],[1.0,\"#f0f921\"]]}],\"surface\":[{\"type\":\"surface\",\"colorbar\":{\"outlinewidth\":0,\"ticks\":\"\"},\"colorscale\":[[0.0,\"#0d0887\"],[0.1111111111111111,\"#46039f\"],[0.2222222222222222,\"#7201a8\"],[0.3333333333333333,\"#9c179e\"],[0.4444444444444444,\"#bd3786\"],[0.5555555555555556,\"#d8576b\"],[0.6666666666666666,\"#ed7953\"],[0.7777777777777778,\"#fb9f3a\"],[0.8888888888888888,\"#fdca26\"],[1.0,\"#f0f921\"]]}],\"mesh3d\":[{\"type\":\"mesh3d\",\"colorbar\":{\"outlinewidth\":0,\"ticks\":\"\"}}],\"scatter\":[{\"marker\":{\"line\":{\"color\":\"#283442\"}},\"type\":\"scatter\"}],\"parcoords\":[{\"type\":\"parcoords\",\"line\":{\"colorbar\":{\"outlinewidth\":0,\"ticks\":\"\"}}}],\"scatterpolargl\":[{\"type\":\"scatterpolargl\",\"marker\":{\"colorbar\":{\"outlinewidth\":0,\"ticks\":\"\"}}}],\"bar\":[{\"error_x\":{\"color\":\"#f2f5fa\"},\"error_y\":{\"color\":\"#f2f5fa\"},\"marker\":{\"line\":{\"color\":\"rgb(17,17,17)\",\"width\":0.5},\"pattern\":{\"fillmode\":\"overlay\",\"size\":10,\"solidity\":0.2}},\"type\":\"bar\"}],\"scattergeo\":[{\"type\":\"scattergeo\",\"marker\":{\"colorbar\":{\"outlinewidth\":0,\"ticks\":\"\"}}}],\"scatterpolar\":[{\"type\":\"scatterpolar\",\"marker\":{\"colorbar\":{\"outlinewidth\":0,\"ticks\":\"\"}}}],\"histogram\":[{\"marker\":{\"pattern\":{\"fillmode\":\"overlay\",\"size\":10,\"solidity\":0.2}},\"type\":\"histogram\"}],\"scattergl\":[{\"marker\":{\"line\":{\"color\":\"#283442\"}},\"type\":\"scattergl\"}],\"scatter3d\":[{\"type\":\"scatter3d\",\"line\":{\"colorbar\":{\"outlinewidth\":0,\"ticks\":\"\"}},\"marker\":{\"colorbar\":{\"outlinewidth\":0,\"ticks\":\"\"}}}],\"scattermapbox\":[{\"type\":\"scattermapbox\",\"marker\":{\"colorbar\":{\"outlinewidth\":0,\"ticks\":\"\"}}}],\"scatterternary\":[{\"type\":\"scatterternary\",\"marker\":{\"colorbar\":{\"outlinewidth\":0,\"ticks\":\"\"}}}],\"scattercarpet\":[{\"type\":\"scattercarpet\",\"marker\":{\"colorbar\":{\"outlinewidth\":0,\"ticks\":\"\"}}}],\"carpet\":[{\"aaxis\":{\"endlinecolor\":\"#A2B1C6\",\"gridcolor\":\"#506784\",\"linecolor\":\"#506784\",\"minorgridcolor\":\"#506784\",\"startlinecolor\":\"#A2B1C6\"},\"baxis\":{\"endlinecolor\":\"#A2B1C6\",\"gridcolor\":\"#506784\",\"linecolor\":\"#506784\",\"minorgridcolor\":\"#506784\",\"startlinecolor\":\"#A2B1C6\"},\"type\":\"carpet\"}],\"table\":[{\"cells\":{\"fill\":{\"color\":\"#506784\"},\"line\":{\"color\":\"rgb(17,17,17)\"}},\"header\":{\"fill\":{\"color\":\"#2a3f5f\"},\"line\":{\"color\":\"rgb(17,17,17)\"}},\"type\":\"table\"}],\"barpolar\":[{\"marker\":{\"line\":{\"color\":\"rgb(17,17,17)\",\"width\":0.5},\"pattern\":{\"fillmode\":\"overlay\",\"size\":10,\"solidity\":0.2}},\"type\":\"barpolar\"}],\"pie\":[{\"automargin\":true,\"type\":\"pie\"}]},\"layout\":{\"autotypenumbers\":\"strict\",\"colorway\":[\"#636efa\",\"#EF553B\",\"#00cc96\",\"#ab63fa\",\"#FFA15A\",\"#19d3f3\",\"#FF6692\",\"#B6E880\",\"#FF97FF\",\"#FECB52\"],\"font\":{\"color\":\"#f2f5fa\"},\"hovermode\":\"closest\",\"hoverlabel\":{\"align\":\"left\"},\"paper_bgcolor\":\"rgb(17,17,17)\",\"plot_bgcolor\":\"rgb(17,17,17)\",\"polar\":{\"bgcolor\":\"rgb(17,17,17)\",\"angularaxis\":{\"gridcolor\":\"#506784\",\"linecolor\":\"#506784\",\"ticks\":\"\"},\"radialaxis\":{\"gridcolor\":\"#506784\",\"linecolor\":\"#506784\",\"ticks\":\"\"}},\"ternary\":{\"bgcolor\":\"rgb(17,17,17)\",\"aaxis\":{\"gridcolor\":\"#506784\",\"linecolor\":\"#506784\",\"ticks\":\"\"},\"baxis\":{\"gridcolor\":\"#506784\",\"linecolor\":\"#506784\",\"ticks\":\"\"},\"caxis\":{\"gridcolor\":\"#506784\",\"linecolor\":\"#506784\",\"ticks\":\"\"}},\"coloraxis\":{\"colorbar\":{\"outlinewidth\":0,\"ticks\":\"\"}},\"colorscale\":{\"sequential\":[[0.0,\"#0d0887\"],[0.1111111111111111,\"#46039f\"],[0.2222222222222222,\"#7201a8\"],[0.3333333333333333,\"#9c179e\"],[0.4444444444444444,\"#bd3786\"],[0.5555555555555556,\"#d8576b\"],[0.6666666666666666,\"#ed7953\"],[0.7777777777777778,\"#fb9f3a\"],[0.8888888888888888,\"#fdca26\"],[1.0,\"#f0f921\"]],\"sequentialminus\":[[0.0,\"#0d0887\"],[0.1111111111111111,\"#46039f\"],[0.2222222222222222,\"#7201a8\"],[0.3333333333333333,\"#9c179e\"],[0.4444444444444444,\"#bd3786\"],[0.5555555555555556,\"#d8576b\"],[0.6666666666666666,\"#ed7953\"],[0.7777777777777778,\"#fb9f3a\"],[0.8888888888888888,\"#fdca26\"],[1.0,\"#f0f921\"]],\"diverging\":[[0,\"#8e0152\"],[0.1,\"#c51b7d\"],[0.2,\"#de77ae\"],[0.3,\"#f1b6da\"],[0.4,\"#fde0ef\"],[0.5,\"#f7f7f7\"],[0.6,\"#e6f5d0\"],[0.7,\"#b8e186\"],[0.8,\"#7fbc41\"],[0.9,\"#4d9221\"],[1,\"#276419\"]]},\"xaxis\":{\"gridcolor\":\"#283442\",\"linecolor\":\"#506784\",\"ticks\":\"\",\"title\":{\"standoff\":15},\"zerolinecolor\":\"#283442\",\"automargin\":true,\"zerolinewidth\":2},\"yaxis\":{\"gridcolor\":\"#283442\",\"linecolor\":\"#506784\",\"ticks\":\"\",\"title\":{\"standoff\":15},\"zerolinecolor\":\"#283442\",\"automargin\":true,\"zerolinewidth\":2},\"scene\":{\"xaxis\":{\"backgroundcolor\":\"rgb(17,17,17)\",\"gridcolor\":\"#506784\",\"linecolor\":\"#506784\",\"showbackground\":true,\"ticks\":\"\",\"zerolinecolor\":\"#C8D4E3\",\"gridwidth\":2},\"yaxis\":{\"backgroundcolor\":\"rgb(17,17,17)\",\"gridcolor\":\"#506784\",\"linecolor\":\"#506784\",\"showbackground\":true,\"ticks\":\"\",\"zerolinecolor\":\"#C8D4E3\",\"gridwidth\":2},\"zaxis\":{\"backgroundcolor\":\"rgb(17,17,17)\",\"gridcolor\":\"#506784\",\"linecolor\":\"#506784\",\"showbackground\":true,\"ticks\":\"\",\"zerolinecolor\":\"#C8D4E3\",\"gridwidth\":2}},\"shapedefaults\":{\"line\":{\"color\":\"#f2f5fa\"}},\"annotationdefaults\":{\"arrowcolor\":\"#f2f5fa\",\"arrowhead\":0,\"arrowwidth\":1},\"geo\":{\"bgcolor\":\"rgb(17,17,17)\",\"landcolor\":\"rgb(17,17,17)\",\"subunitcolor\":\"#506784\",\"showland\":true,\"showlakes\":true,\"lakecolor\":\"rgb(17,17,17)\"},\"title\":{\"x\":0.05},\"updatemenudefaults\":{\"bgcolor\":\"#506784\",\"borderwidth\":0},\"sliderdefaults\":{\"bgcolor\":\"#C8D4E3\",\"borderwidth\":1,\"bordercolor\":\"rgb(17,17,17)\",\"tickwidth\":0},\"mapbox\":{\"style\":\"dark\"}}},\"xaxis\":{\"anchor\":\"y\",\"domain\":[0.0,1.0],\"title\":{\"text\":\"lap\"}},\"yaxis\":{\"anchor\":\"x\",\"domain\":[0.0,1.0],\"title\":{\"text\":\"milliseconds\"}},\"legend\":{\"title\":{\"text\":\"driverName\"},\"tracegroupgap\":0},\"title\":{\"text\":\"Time per laps during the French Grand Prix race of 2021\"}},                        {\"responsive\": true}                    ).then(function(){\n                            \nvar gd = document.getElementById('91748680-9e1d-40e6-b090-6df23ef756d3');\nvar x = new MutationObserver(function (mutations, observer) {{\n        var display = window.getComputedStyle(gd).display;\n        if (!display || display === 'none') {{\n            console.log([gd, 'removed!']);\n            Plotly.purge(gd);\n            observer.disconnect();\n        }}\n}});\n\n// Listen for the removal of the full notebook cells\nvar notebookContainer = gd.closest('#notebook-container');\nif (notebookContainer) {{\n    x.observe(notebookContainer, {childList: true});\n}}\n\n// Listen for the clearing of the current output cell\nvar outputEl = gd.closest('.output');\nif (outputEl) {{\n    x.observe(outputEl, {childList: true});\n}}\n\n                        })                };                });            </script>        </div>"
     },
     "metadata": {},
     "output_type": "display_data"
    }
   ],
   "source": [
    "fig = px.line(df_focus_on_race,\n",
    "              x='lap',\n",
    "              y='milliseconds',\n",
    "              markers=True,\n",
    "              color='driverName',\n",
    "              color_discrete_map=drivers_color_map,\n",
    "              title=f'Time per laps during the {focusedRace} race of {year}')\n",
    "fig.show()"
   ],
   "metadata": {
    "collapsed": false,
    "ExecuteTime": {
     "end_time": "2023-07-11T14:38:04.030830100Z",
     "start_time": "2023-07-11T14:38:03.943292700Z"
    }
   }
  },
  {
   "cell_type": "code",
   "execution_count": 74,
   "outputs": [
    {
     "data": {
      "text/plain": "            driverName constructorName     points\n16       Robert Kubica      Alfa Romeo   0.000000\n14      Nikita Mazepin    Haas F1 Team   0.000000\n12     Mick Schumacher    Haas F1 Team   0.000000\n0   Antonio Giovinazzi      Alfa Romeo   0.136364\n13     Nicholas Latifi        Williams   0.318182\n7       Kimi Räikkönen      Alfa Romeo   0.500000\n6       George Russell        Williams   0.727273\n20        Yuki Tsunoda      AlphaTauri   1.454545\n8         Lance Stroll    Aston Martin   1.545455\n17    Sebastian Vettel    Aston Martin   1.954545\n4         Esteban Ocon  Alpine F1 Team   3.363636\n5      Fernando Alonso  Alpine F1 Team   3.681818\n15        Pierre Gasly      AlphaTauri   5.000000\n3     Daniel Ricciardo         McLaren   5.181818\n2      Charles Leclerc         Ferrari   7.227273\n9         Lando Norris         McLaren   7.272727\n1         Carlos Sainz         Ferrari   7.431818\n18        Sergio Pérez        Red Bull   8.636364\n19     Valtteri Bottas        Mercedes   9.954545\n10      Lewis Hamilton        Mercedes  17.522727\n11      Max Verstappen        Red Bull  17.659091",
      "text/html": "<div>\n<style scoped>\n    .dataframe tbody tr th:only-of-type {\n        vertical-align: middle;\n    }\n\n    .dataframe tbody tr th {\n        vertical-align: top;\n    }\n\n    .dataframe thead th {\n        text-align: right;\n    }\n</style>\n<table border=\"1\" class=\"dataframe\">\n  <thead>\n    <tr style=\"text-align: right;\">\n      <th></th>\n      <th>driverName</th>\n      <th>constructorName</th>\n      <th>points</th>\n    </tr>\n  </thead>\n  <tbody>\n    <tr>\n      <th>16</th>\n      <td>Robert Kubica</td>\n      <td>Alfa Romeo</td>\n      <td>0.000000</td>\n    </tr>\n    <tr>\n      <th>14</th>\n      <td>Nikita Mazepin</td>\n      <td>Haas F1 Team</td>\n      <td>0.000000</td>\n    </tr>\n    <tr>\n      <th>12</th>\n      <td>Mick Schumacher</td>\n      <td>Haas F1 Team</td>\n      <td>0.000000</td>\n    </tr>\n    <tr>\n      <th>0</th>\n      <td>Antonio Giovinazzi</td>\n      <td>Alfa Romeo</td>\n      <td>0.136364</td>\n    </tr>\n    <tr>\n      <th>13</th>\n      <td>Nicholas Latifi</td>\n      <td>Williams</td>\n      <td>0.318182</td>\n    </tr>\n    <tr>\n      <th>7</th>\n      <td>Kimi Räikkönen</td>\n      <td>Alfa Romeo</td>\n      <td>0.500000</td>\n    </tr>\n    <tr>\n      <th>6</th>\n      <td>George Russell</td>\n      <td>Williams</td>\n      <td>0.727273</td>\n    </tr>\n    <tr>\n      <th>20</th>\n      <td>Yuki Tsunoda</td>\n      <td>AlphaTauri</td>\n      <td>1.454545</td>\n    </tr>\n    <tr>\n      <th>8</th>\n      <td>Lance Stroll</td>\n      <td>Aston Martin</td>\n      <td>1.545455</td>\n    </tr>\n    <tr>\n      <th>17</th>\n      <td>Sebastian Vettel</td>\n      <td>Aston Martin</td>\n      <td>1.954545</td>\n    </tr>\n    <tr>\n      <th>4</th>\n      <td>Esteban Ocon</td>\n      <td>Alpine F1 Team</td>\n      <td>3.363636</td>\n    </tr>\n    <tr>\n      <th>5</th>\n      <td>Fernando Alonso</td>\n      <td>Alpine F1 Team</td>\n      <td>3.681818</td>\n    </tr>\n    <tr>\n      <th>15</th>\n      <td>Pierre Gasly</td>\n      <td>AlphaTauri</td>\n      <td>5.000000</td>\n    </tr>\n    <tr>\n      <th>3</th>\n      <td>Daniel Ricciardo</td>\n      <td>McLaren</td>\n      <td>5.181818</td>\n    </tr>\n    <tr>\n      <th>2</th>\n      <td>Charles Leclerc</td>\n      <td>Ferrari</td>\n      <td>7.227273</td>\n    </tr>\n    <tr>\n      <th>9</th>\n      <td>Lando Norris</td>\n      <td>McLaren</td>\n      <td>7.272727</td>\n    </tr>\n    <tr>\n      <th>1</th>\n      <td>Carlos Sainz</td>\n      <td>Ferrari</td>\n      <td>7.431818</td>\n    </tr>\n    <tr>\n      <th>18</th>\n      <td>Sergio Pérez</td>\n      <td>Red Bull</td>\n      <td>8.636364</td>\n    </tr>\n    <tr>\n      <th>19</th>\n      <td>Valtteri Bottas</td>\n      <td>Mercedes</td>\n      <td>9.954545</td>\n    </tr>\n    <tr>\n      <th>10</th>\n      <td>Lewis Hamilton</td>\n      <td>Mercedes</td>\n      <td>17.522727</td>\n    </tr>\n    <tr>\n      <th>11</th>\n      <td>Max Verstappen</td>\n      <td>Red Bull</td>\n      <td>17.659091</td>\n    </tr>\n  </tbody>\n</table>\n</div>"
     },
     "execution_count": 74,
     "metadata": {},
     "output_type": "execute_result"
    }
   ],
   "source": [
    "df_points_focus = newResults[(newResults['year'] == year)]\n",
    "df_points_focus = df_points_focus[['driverName', 'constructorName', 'points']]\n",
    "df_points_focus = df_points_focus.groupby(\"driverName\").agg(constructorName = ('constructorName', 'first'), points = ('points', 'mean')).reset_index()\n",
    "df_points_focus = df_points_focus.sort_values(\"points\", ascending=True)\n",
    "df_points_focus"
   ],
   "metadata": {
    "collapsed": false,
    "ExecuteTime": {
     "end_time": "2023-07-11T14:43:15.183877900Z",
     "start_time": "2023-07-11T14:43:15.105692700Z"
    }
   }
  },
  {
   "cell_type": "code",
   "execution_count": 75,
   "outputs": [
    {
     "data": {
      "application/vnd.plotly.v1+json": {
       "data": [
        {
         "alignmentgroup": "True",
         "hovertemplate": "constructorName=Alfa Romeo<br>driverName=%{x}<br>points=%{y}<extra></extra>",
         "legendgroup": "Alfa Romeo",
         "marker": {
          "color": "#B12039",
          "pattern": {
           "shape": ""
          }
         },
         "name": "Alfa Romeo",
         "offsetgroup": "Alfa Romeo",
         "orientation": "v",
         "showlegend": true,
         "textposition": "auto",
         "x": [
          "Robert Kubica",
          "Antonio Giovinazzi",
          "Kimi Räikkönen"
         ],
         "xaxis": "x",
         "y": [
          0.0,
          0.13636363636363635,
          0.5
         ],
         "yaxis": "y",
         "type": "bar"
        },
        {
         "alignmentgroup": "True",
         "hovertemplate": "constructorName=Haas F1 Team<br>driverName=%{x}<br>points=%{y}<extra></extra>",
         "legendgroup": "Haas F1 Team",
         "marker": {
          "color": "#B6BABD",
          "pattern": {
           "shape": ""
          }
         },
         "name": "Haas F1 Team",
         "offsetgroup": "Haas F1 Team",
         "orientation": "v",
         "showlegend": true,
         "textposition": "auto",
         "x": [
          "Nikita Mazepin",
          "Mick Schumacher"
         ],
         "xaxis": "x",
         "y": [
          0.0,
          0.0
         ],
         "yaxis": "y",
         "type": "bar"
        },
        {
         "alignmentgroup": "True",
         "hovertemplate": "constructorName=Williams<br>driverName=%{x}<br>points=%{y}<extra></extra>",
         "legendgroup": "Williams",
         "marker": {
          "color": "#37BEDD",
          "pattern": {
           "shape": ""
          }
         },
         "name": "Williams",
         "offsetgroup": "Williams",
         "orientation": "v",
         "showlegend": true,
         "textposition": "auto",
         "x": [
          "Nicholas Latifi",
          "George Russell"
         ],
         "xaxis": "x",
         "y": [
          0.3181818181818182,
          0.7272727272727273
         ],
         "yaxis": "y",
         "type": "bar"
        },
        {
         "alignmentgroup": "True",
         "hovertemplate": "constructorName=AlphaTauri<br>driverName=%{x}<br>points=%{y}<extra></extra>",
         "legendgroup": "AlphaTauri",
         "marker": {
          "color": "#4E7C9B",
          "pattern": {
           "shape": ""
          }
         },
         "name": "AlphaTauri",
         "offsetgroup": "AlphaTauri",
         "orientation": "v",
         "showlegend": true,
         "textposition": "auto",
         "x": [
          "Yuki Tsunoda",
          "Pierre Gasly"
         ],
         "xaxis": "x",
         "y": [
          1.4545454545454546,
          5.0
         ],
         "yaxis": "y",
         "type": "bar"
        },
        {
         "alignmentgroup": "True",
         "hovertemplate": "constructorName=Aston Martin<br>driverName=%{x}<br>points=%{y}<extra></extra>",
         "legendgroup": "Aston Martin",
         "marker": {
          "color": "#2D826D",
          "pattern": {
           "shape": ""
          }
         },
         "name": "Aston Martin",
         "offsetgroup": "Aston Martin",
         "orientation": "v",
         "showlegend": true,
         "textposition": "auto",
         "x": [
          "Lance Stroll",
          "Sebastian Vettel"
         ],
         "xaxis": "x",
         "y": [
          1.5454545454545454,
          1.9545454545454546
         ],
         "yaxis": "y",
         "type": "bar"
        },
        {
         "alignmentgroup": "True",
         "hovertemplate": "constructorName=Alpine F1 Team<br>driverName=%{x}<br>points=%{y}<extra></extra>",
         "legendgroup": "Alpine F1 Team",
         "marker": {
          "color": "#2293D1",
          "pattern": {
           "shape": ""
          }
         },
         "name": "Alpine F1 Team",
         "offsetgroup": "Alpine F1 Team",
         "orientation": "v",
         "showlegend": true,
         "textposition": "auto",
         "x": [
          "Esteban Ocon",
          "Fernando Alonso"
         ],
         "xaxis": "x",
         "y": [
          3.3636363636363638,
          3.6818181818181817
         ],
         "yaxis": "y",
         "type": "bar"
        },
        {
         "alignmentgroup": "True",
         "hovertemplate": "constructorName=McLaren<br>driverName=%{x}<br>points=%{y}<extra></extra>",
         "legendgroup": "McLaren",
         "marker": {
          "color": "#F58020",
          "pattern": {
           "shape": ""
          }
         },
         "name": "McLaren",
         "offsetgroup": "McLaren",
         "orientation": "v",
         "showlegend": true,
         "textposition": "auto",
         "x": [
          "Daniel Ricciardo",
          "Lando Norris"
         ],
         "xaxis": "x",
         "y": [
          5.181818181818182,
          7.2727272727272725
         ],
         "yaxis": "y",
         "type": "bar"
        },
        {
         "alignmentgroup": "True",
         "hovertemplate": "constructorName=Ferrari<br>driverName=%{x}<br>points=%{y}<extra></extra>",
         "legendgroup": "Ferrari",
         "marker": {
          "color": "#ED1C24",
          "pattern": {
           "shape": ""
          }
         },
         "name": "Ferrari",
         "offsetgroup": "Ferrari",
         "orientation": "v",
         "showlegend": true,
         "textposition": "auto",
         "x": [
          "Charles Leclerc",
          "Carlos Sainz"
         ],
         "xaxis": "x",
         "y": [
          7.2272727272727275,
          7.431818181818182
         ],
         "yaxis": "y",
         "type": "bar"
        },
        {
         "alignmentgroup": "True",
         "hovertemplate": "constructorName=Red Bull<br>driverName=%{x}<br>points=%{y}<extra></extra>",
         "legendgroup": "Red Bull",
         "marker": {
          "color": "#1E5BC6",
          "pattern": {
           "shape": ""
          }
         },
         "name": "Red Bull",
         "offsetgroup": "Red Bull",
         "orientation": "v",
         "showlegend": true,
         "textposition": "auto",
         "x": [
          "Sergio Pérez",
          "Max Verstappen"
         ],
         "xaxis": "x",
         "y": [
          8.636363636363637,
          17.65909090909091
         ],
         "yaxis": "y",
         "type": "bar"
        },
        {
         "alignmentgroup": "True",
         "hovertemplate": "constructorName=Mercedes<br>driverName=%{x}<br>points=%{y}<extra></extra>",
         "legendgroup": "Mercedes",
         "marker": {
          "color": "#6CD3BF",
          "pattern": {
           "shape": ""
          }
         },
         "name": "Mercedes",
         "offsetgroup": "Mercedes",
         "orientation": "v",
         "showlegend": true,
         "textposition": "auto",
         "x": [
          "Valtteri Bottas",
          "Lewis Hamilton"
         ],
         "xaxis": "x",
         "y": [
          9.954545454545455,
          17.522727272727273
         ],
         "yaxis": "y",
         "type": "bar"
        }
       ],
       "layout": {
        "template": {
         "data": {
          "histogram2dcontour": [
           {
            "type": "histogram2dcontour",
            "colorbar": {
             "outlinewidth": 0,
             "ticks": ""
            },
            "colorscale": [
             [
              0.0,
              "#0d0887"
             ],
             [
              0.1111111111111111,
              "#46039f"
             ],
             [
              0.2222222222222222,
              "#7201a8"
             ],
             [
              0.3333333333333333,
              "#9c179e"
             ],
             [
              0.4444444444444444,
              "#bd3786"
             ],
             [
              0.5555555555555556,
              "#d8576b"
             ],
             [
              0.6666666666666666,
              "#ed7953"
             ],
             [
              0.7777777777777778,
              "#fb9f3a"
             ],
             [
              0.8888888888888888,
              "#fdca26"
             ],
             [
              1.0,
              "#f0f921"
             ]
            ]
           }
          ],
          "choropleth": [
           {
            "type": "choropleth",
            "colorbar": {
             "outlinewidth": 0,
             "ticks": ""
            }
           }
          ],
          "histogram2d": [
           {
            "type": "histogram2d",
            "colorbar": {
             "outlinewidth": 0,
             "ticks": ""
            },
            "colorscale": [
             [
              0.0,
              "#0d0887"
             ],
             [
              0.1111111111111111,
              "#46039f"
             ],
             [
              0.2222222222222222,
              "#7201a8"
             ],
             [
              0.3333333333333333,
              "#9c179e"
             ],
             [
              0.4444444444444444,
              "#bd3786"
             ],
             [
              0.5555555555555556,
              "#d8576b"
             ],
             [
              0.6666666666666666,
              "#ed7953"
             ],
             [
              0.7777777777777778,
              "#fb9f3a"
             ],
             [
              0.8888888888888888,
              "#fdca26"
             ],
             [
              1.0,
              "#f0f921"
             ]
            ]
           }
          ],
          "heatmap": [
           {
            "type": "heatmap",
            "colorbar": {
             "outlinewidth": 0,
             "ticks": ""
            },
            "colorscale": [
             [
              0.0,
              "#0d0887"
             ],
             [
              0.1111111111111111,
              "#46039f"
             ],
             [
              0.2222222222222222,
              "#7201a8"
             ],
             [
              0.3333333333333333,
              "#9c179e"
             ],
             [
              0.4444444444444444,
              "#bd3786"
             ],
             [
              0.5555555555555556,
              "#d8576b"
             ],
             [
              0.6666666666666666,
              "#ed7953"
             ],
             [
              0.7777777777777778,
              "#fb9f3a"
             ],
             [
              0.8888888888888888,
              "#fdca26"
             ],
             [
              1.0,
              "#f0f921"
             ]
            ]
           }
          ],
          "heatmapgl": [
           {
            "type": "heatmapgl",
            "colorbar": {
             "outlinewidth": 0,
             "ticks": ""
            },
            "colorscale": [
             [
              0.0,
              "#0d0887"
             ],
             [
              0.1111111111111111,
              "#46039f"
             ],
             [
              0.2222222222222222,
              "#7201a8"
             ],
             [
              0.3333333333333333,
              "#9c179e"
             ],
             [
              0.4444444444444444,
              "#bd3786"
             ],
             [
              0.5555555555555556,
              "#d8576b"
             ],
             [
              0.6666666666666666,
              "#ed7953"
             ],
             [
              0.7777777777777778,
              "#fb9f3a"
             ],
             [
              0.8888888888888888,
              "#fdca26"
             ],
             [
              1.0,
              "#f0f921"
             ]
            ]
           }
          ],
          "contourcarpet": [
           {
            "type": "contourcarpet",
            "colorbar": {
             "outlinewidth": 0,
             "ticks": ""
            }
           }
          ],
          "contour": [
           {
            "type": "contour",
            "colorbar": {
             "outlinewidth": 0,
             "ticks": ""
            },
            "colorscale": [
             [
              0.0,
              "#0d0887"
             ],
             [
              0.1111111111111111,
              "#46039f"
             ],
             [
              0.2222222222222222,
              "#7201a8"
             ],
             [
              0.3333333333333333,
              "#9c179e"
             ],
             [
              0.4444444444444444,
              "#bd3786"
             ],
             [
              0.5555555555555556,
              "#d8576b"
             ],
             [
              0.6666666666666666,
              "#ed7953"
             ],
             [
              0.7777777777777778,
              "#fb9f3a"
             ],
             [
              0.8888888888888888,
              "#fdca26"
             ],
             [
              1.0,
              "#f0f921"
             ]
            ]
           }
          ],
          "surface": [
           {
            "type": "surface",
            "colorbar": {
             "outlinewidth": 0,
             "ticks": ""
            },
            "colorscale": [
             [
              0.0,
              "#0d0887"
             ],
             [
              0.1111111111111111,
              "#46039f"
             ],
             [
              0.2222222222222222,
              "#7201a8"
             ],
             [
              0.3333333333333333,
              "#9c179e"
             ],
             [
              0.4444444444444444,
              "#bd3786"
             ],
             [
              0.5555555555555556,
              "#d8576b"
             ],
             [
              0.6666666666666666,
              "#ed7953"
             ],
             [
              0.7777777777777778,
              "#fb9f3a"
             ],
             [
              0.8888888888888888,
              "#fdca26"
             ],
             [
              1.0,
              "#f0f921"
             ]
            ]
           }
          ],
          "mesh3d": [
           {
            "type": "mesh3d",
            "colorbar": {
             "outlinewidth": 0,
             "ticks": ""
            }
           }
          ],
          "scatter": [
           {
            "marker": {
             "line": {
              "color": "#283442"
             }
            },
            "type": "scatter"
           }
          ],
          "parcoords": [
           {
            "type": "parcoords",
            "line": {
             "colorbar": {
              "outlinewidth": 0,
              "ticks": ""
             }
            }
           }
          ],
          "scatterpolargl": [
           {
            "type": "scatterpolargl",
            "marker": {
             "colorbar": {
              "outlinewidth": 0,
              "ticks": ""
             }
            }
           }
          ],
          "bar": [
           {
            "error_x": {
             "color": "#f2f5fa"
            },
            "error_y": {
             "color": "#f2f5fa"
            },
            "marker": {
             "line": {
              "color": "rgb(17,17,17)",
              "width": 0.5
             },
             "pattern": {
              "fillmode": "overlay",
              "size": 10,
              "solidity": 0.2
             }
            },
            "type": "bar"
           }
          ],
          "scattergeo": [
           {
            "type": "scattergeo",
            "marker": {
             "colorbar": {
              "outlinewidth": 0,
              "ticks": ""
             }
            }
           }
          ],
          "scatterpolar": [
           {
            "type": "scatterpolar",
            "marker": {
             "colorbar": {
              "outlinewidth": 0,
              "ticks": ""
             }
            }
           }
          ],
          "histogram": [
           {
            "marker": {
             "pattern": {
              "fillmode": "overlay",
              "size": 10,
              "solidity": 0.2
             }
            },
            "type": "histogram"
           }
          ],
          "scattergl": [
           {
            "marker": {
             "line": {
              "color": "#283442"
             }
            },
            "type": "scattergl"
           }
          ],
          "scatter3d": [
           {
            "type": "scatter3d",
            "line": {
             "colorbar": {
              "outlinewidth": 0,
              "ticks": ""
             }
            },
            "marker": {
             "colorbar": {
              "outlinewidth": 0,
              "ticks": ""
             }
            }
           }
          ],
          "scattermapbox": [
           {
            "type": "scattermapbox",
            "marker": {
             "colorbar": {
              "outlinewidth": 0,
              "ticks": ""
             }
            }
           }
          ],
          "scatterternary": [
           {
            "type": "scatterternary",
            "marker": {
             "colorbar": {
              "outlinewidth": 0,
              "ticks": ""
             }
            }
           }
          ],
          "scattercarpet": [
           {
            "type": "scattercarpet",
            "marker": {
             "colorbar": {
              "outlinewidth": 0,
              "ticks": ""
             }
            }
           }
          ],
          "carpet": [
           {
            "aaxis": {
             "endlinecolor": "#A2B1C6",
             "gridcolor": "#506784",
             "linecolor": "#506784",
             "minorgridcolor": "#506784",
             "startlinecolor": "#A2B1C6"
            },
            "baxis": {
             "endlinecolor": "#A2B1C6",
             "gridcolor": "#506784",
             "linecolor": "#506784",
             "minorgridcolor": "#506784",
             "startlinecolor": "#A2B1C6"
            },
            "type": "carpet"
           }
          ],
          "table": [
           {
            "cells": {
             "fill": {
              "color": "#506784"
             },
             "line": {
              "color": "rgb(17,17,17)"
             }
            },
            "header": {
             "fill": {
              "color": "#2a3f5f"
             },
             "line": {
              "color": "rgb(17,17,17)"
             }
            },
            "type": "table"
           }
          ],
          "barpolar": [
           {
            "marker": {
             "line": {
              "color": "rgb(17,17,17)",
              "width": 0.5
             },
             "pattern": {
              "fillmode": "overlay",
              "size": 10,
              "solidity": 0.2
             }
            },
            "type": "barpolar"
           }
          ],
          "pie": [
           {
            "automargin": true,
            "type": "pie"
           }
          ]
         },
         "layout": {
          "autotypenumbers": "strict",
          "colorway": [
           "#636efa",
           "#EF553B",
           "#00cc96",
           "#ab63fa",
           "#FFA15A",
           "#19d3f3",
           "#FF6692",
           "#B6E880",
           "#FF97FF",
           "#FECB52"
          ],
          "font": {
           "color": "#f2f5fa"
          },
          "hovermode": "closest",
          "hoverlabel": {
           "align": "left"
          },
          "paper_bgcolor": "rgb(17,17,17)",
          "plot_bgcolor": "rgb(17,17,17)",
          "polar": {
           "bgcolor": "rgb(17,17,17)",
           "angularaxis": {
            "gridcolor": "#506784",
            "linecolor": "#506784",
            "ticks": ""
           },
           "radialaxis": {
            "gridcolor": "#506784",
            "linecolor": "#506784",
            "ticks": ""
           }
          },
          "ternary": {
           "bgcolor": "rgb(17,17,17)",
           "aaxis": {
            "gridcolor": "#506784",
            "linecolor": "#506784",
            "ticks": ""
           },
           "baxis": {
            "gridcolor": "#506784",
            "linecolor": "#506784",
            "ticks": ""
           },
           "caxis": {
            "gridcolor": "#506784",
            "linecolor": "#506784",
            "ticks": ""
           }
          },
          "coloraxis": {
           "colorbar": {
            "outlinewidth": 0,
            "ticks": ""
           }
          },
          "colorscale": {
           "sequential": [
            [
             0.0,
             "#0d0887"
            ],
            [
             0.1111111111111111,
             "#46039f"
            ],
            [
             0.2222222222222222,
             "#7201a8"
            ],
            [
             0.3333333333333333,
             "#9c179e"
            ],
            [
             0.4444444444444444,
             "#bd3786"
            ],
            [
             0.5555555555555556,
             "#d8576b"
            ],
            [
             0.6666666666666666,
             "#ed7953"
            ],
            [
             0.7777777777777778,
             "#fb9f3a"
            ],
            [
             0.8888888888888888,
             "#fdca26"
            ],
            [
             1.0,
             "#f0f921"
            ]
           ],
           "sequentialminus": [
            [
             0.0,
             "#0d0887"
            ],
            [
             0.1111111111111111,
             "#46039f"
            ],
            [
             0.2222222222222222,
             "#7201a8"
            ],
            [
             0.3333333333333333,
             "#9c179e"
            ],
            [
             0.4444444444444444,
             "#bd3786"
            ],
            [
             0.5555555555555556,
             "#d8576b"
            ],
            [
             0.6666666666666666,
             "#ed7953"
            ],
            [
             0.7777777777777778,
             "#fb9f3a"
            ],
            [
             0.8888888888888888,
             "#fdca26"
            ],
            [
             1.0,
             "#f0f921"
            ]
           ],
           "diverging": [
            [
             0,
             "#8e0152"
            ],
            [
             0.1,
             "#c51b7d"
            ],
            [
             0.2,
             "#de77ae"
            ],
            [
             0.3,
             "#f1b6da"
            ],
            [
             0.4,
             "#fde0ef"
            ],
            [
             0.5,
             "#f7f7f7"
            ],
            [
             0.6,
             "#e6f5d0"
            ],
            [
             0.7,
             "#b8e186"
            ],
            [
             0.8,
             "#7fbc41"
            ],
            [
             0.9,
             "#4d9221"
            ],
            [
             1,
             "#276419"
            ]
           ]
          },
          "xaxis": {
           "gridcolor": "#283442",
           "linecolor": "#506784",
           "ticks": "",
           "title": {
            "standoff": 15
           },
           "zerolinecolor": "#283442",
           "automargin": true,
           "zerolinewidth": 2
          },
          "yaxis": {
           "gridcolor": "#283442",
           "linecolor": "#506784",
           "ticks": "",
           "title": {
            "standoff": 15
           },
           "zerolinecolor": "#283442",
           "automargin": true,
           "zerolinewidth": 2
          },
          "scene": {
           "xaxis": {
            "backgroundcolor": "rgb(17,17,17)",
            "gridcolor": "#506784",
            "linecolor": "#506784",
            "showbackground": true,
            "ticks": "",
            "zerolinecolor": "#C8D4E3",
            "gridwidth": 2
           },
           "yaxis": {
            "backgroundcolor": "rgb(17,17,17)",
            "gridcolor": "#506784",
            "linecolor": "#506784",
            "showbackground": true,
            "ticks": "",
            "zerolinecolor": "#C8D4E3",
            "gridwidth": 2
           },
           "zaxis": {
            "backgroundcolor": "rgb(17,17,17)",
            "gridcolor": "#506784",
            "linecolor": "#506784",
            "showbackground": true,
            "ticks": "",
            "zerolinecolor": "#C8D4E3",
            "gridwidth": 2
           }
          },
          "shapedefaults": {
           "line": {
            "color": "#f2f5fa"
           }
          },
          "annotationdefaults": {
           "arrowcolor": "#f2f5fa",
           "arrowhead": 0,
           "arrowwidth": 1
          },
          "geo": {
           "bgcolor": "rgb(17,17,17)",
           "landcolor": "rgb(17,17,17)",
           "subunitcolor": "#506784",
           "showland": true,
           "showlakes": true,
           "lakecolor": "rgb(17,17,17)"
          },
          "title": {
           "x": 0.05
          },
          "updatemenudefaults": {
           "bgcolor": "#506784",
           "borderwidth": 0
          },
          "sliderdefaults": {
           "bgcolor": "#C8D4E3",
           "borderwidth": 1,
           "bordercolor": "rgb(17,17,17)",
           "tickwidth": 0
          },
          "mapbox": {
           "style": "dark"
          }
         }
        },
        "xaxis": {
         "anchor": "y",
         "domain": [
          0.0,
          1.0
         ],
         "title": {
          "text": "driverName"
         }
        },
        "yaxis": {
         "anchor": "x",
         "domain": [
          0.0,
          1.0
         ],
         "title": {
          "text": "points"
         }
        },
        "legend": {
         "title": {
          "text": "constructorName"
         },
         "tracegroupgap": 0
        },
        "title": {
         "text": "Mean of points per race during the 2021 season"
        },
        "barmode": "relative"
       },
       "config": {
        "plotlyServerURL": "https://plot.ly"
       }
      },
      "text/html": "<div>                            <div id=\"24a5c07f-4fa2-4547-8e28-c35b3f2b7c56\" class=\"plotly-graph-div\" style=\"height:525px; width:100%;\"></div>            <script type=\"text/javascript\">                require([\"plotly\"], function(Plotly) {                    window.PLOTLYENV=window.PLOTLYENV || {};                                    if (document.getElementById(\"24a5c07f-4fa2-4547-8e28-c35b3f2b7c56\")) {                    Plotly.newPlot(                        \"24a5c07f-4fa2-4547-8e28-c35b3f2b7c56\",                        [{\"alignmentgroup\":\"True\",\"hovertemplate\":\"constructorName=Alfa Romeo<br>driverName=%{x}<br>points=%{y}<extra></extra>\",\"legendgroup\":\"Alfa Romeo\",\"marker\":{\"color\":\"#B12039\",\"pattern\":{\"shape\":\"\"}},\"name\":\"Alfa Romeo\",\"offsetgroup\":\"Alfa Romeo\",\"orientation\":\"v\",\"showlegend\":true,\"textposition\":\"auto\",\"x\":[\"Robert Kubica\",\"Antonio Giovinazzi\",\"Kimi R\\u00e4ikk\\u00f6nen\"],\"xaxis\":\"x\",\"y\":[0.0,0.13636363636363635,0.5],\"yaxis\":\"y\",\"type\":\"bar\"},{\"alignmentgroup\":\"True\",\"hovertemplate\":\"constructorName=Haas F1 Team<br>driverName=%{x}<br>points=%{y}<extra></extra>\",\"legendgroup\":\"Haas F1 Team\",\"marker\":{\"color\":\"#B6BABD\",\"pattern\":{\"shape\":\"\"}},\"name\":\"Haas F1 Team\",\"offsetgroup\":\"Haas F1 Team\",\"orientation\":\"v\",\"showlegend\":true,\"textposition\":\"auto\",\"x\":[\"Nikita Mazepin\",\"Mick Schumacher\"],\"xaxis\":\"x\",\"y\":[0.0,0.0],\"yaxis\":\"y\",\"type\":\"bar\"},{\"alignmentgroup\":\"True\",\"hovertemplate\":\"constructorName=Williams<br>driverName=%{x}<br>points=%{y}<extra></extra>\",\"legendgroup\":\"Williams\",\"marker\":{\"color\":\"#37BEDD\",\"pattern\":{\"shape\":\"\"}},\"name\":\"Williams\",\"offsetgroup\":\"Williams\",\"orientation\":\"v\",\"showlegend\":true,\"textposition\":\"auto\",\"x\":[\"Nicholas Latifi\",\"George Russell\"],\"xaxis\":\"x\",\"y\":[0.3181818181818182,0.7272727272727273],\"yaxis\":\"y\",\"type\":\"bar\"},{\"alignmentgroup\":\"True\",\"hovertemplate\":\"constructorName=AlphaTauri<br>driverName=%{x}<br>points=%{y}<extra></extra>\",\"legendgroup\":\"AlphaTauri\",\"marker\":{\"color\":\"#4E7C9B\",\"pattern\":{\"shape\":\"\"}},\"name\":\"AlphaTauri\",\"offsetgroup\":\"AlphaTauri\",\"orientation\":\"v\",\"showlegend\":true,\"textposition\":\"auto\",\"x\":[\"Yuki Tsunoda\",\"Pierre Gasly\"],\"xaxis\":\"x\",\"y\":[1.4545454545454546,5.0],\"yaxis\":\"y\",\"type\":\"bar\"},{\"alignmentgroup\":\"True\",\"hovertemplate\":\"constructorName=Aston Martin<br>driverName=%{x}<br>points=%{y}<extra></extra>\",\"legendgroup\":\"Aston Martin\",\"marker\":{\"color\":\"#2D826D\",\"pattern\":{\"shape\":\"\"}},\"name\":\"Aston Martin\",\"offsetgroup\":\"Aston Martin\",\"orientation\":\"v\",\"showlegend\":true,\"textposition\":\"auto\",\"x\":[\"Lance Stroll\",\"Sebastian Vettel\"],\"xaxis\":\"x\",\"y\":[1.5454545454545454,1.9545454545454546],\"yaxis\":\"y\",\"type\":\"bar\"},{\"alignmentgroup\":\"True\",\"hovertemplate\":\"constructorName=Alpine F1 Team<br>driverName=%{x}<br>points=%{y}<extra></extra>\",\"legendgroup\":\"Alpine F1 Team\",\"marker\":{\"color\":\"#2293D1\",\"pattern\":{\"shape\":\"\"}},\"name\":\"Alpine F1 Team\",\"offsetgroup\":\"Alpine F1 Team\",\"orientation\":\"v\",\"showlegend\":true,\"textposition\":\"auto\",\"x\":[\"Esteban Ocon\",\"Fernando Alonso\"],\"xaxis\":\"x\",\"y\":[3.3636363636363638,3.6818181818181817],\"yaxis\":\"y\",\"type\":\"bar\"},{\"alignmentgroup\":\"True\",\"hovertemplate\":\"constructorName=McLaren<br>driverName=%{x}<br>points=%{y}<extra></extra>\",\"legendgroup\":\"McLaren\",\"marker\":{\"color\":\"#F58020\",\"pattern\":{\"shape\":\"\"}},\"name\":\"McLaren\",\"offsetgroup\":\"McLaren\",\"orientation\":\"v\",\"showlegend\":true,\"textposition\":\"auto\",\"x\":[\"Daniel Ricciardo\",\"Lando Norris\"],\"xaxis\":\"x\",\"y\":[5.181818181818182,7.2727272727272725],\"yaxis\":\"y\",\"type\":\"bar\"},{\"alignmentgroup\":\"True\",\"hovertemplate\":\"constructorName=Ferrari<br>driverName=%{x}<br>points=%{y}<extra></extra>\",\"legendgroup\":\"Ferrari\",\"marker\":{\"color\":\"#ED1C24\",\"pattern\":{\"shape\":\"\"}},\"name\":\"Ferrari\",\"offsetgroup\":\"Ferrari\",\"orientation\":\"v\",\"showlegend\":true,\"textposition\":\"auto\",\"x\":[\"Charles Leclerc\",\"Carlos Sainz\"],\"xaxis\":\"x\",\"y\":[7.2272727272727275,7.431818181818182],\"yaxis\":\"y\",\"type\":\"bar\"},{\"alignmentgroup\":\"True\",\"hovertemplate\":\"constructorName=Red Bull<br>driverName=%{x}<br>points=%{y}<extra></extra>\",\"legendgroup\":\"Red Bull\",\"marker\":{\"color\":\"#1E5BC6\",\"pattern\":{\"shape\":\"\"}},\"name\":\"Red Bull\",\"offsetgroup\":\"Red Bull\",\"orientation\":\"v\",\"showlegend\":true,\"textposition\":\"auto\",\"x\":[\"Sergio P\\u00e9rez\",\"Max Verstappen\"],\"xaxis\":\"x\",\"y\":[8.636363636363637,17.65909090909091],\"yaxis\":\"y\",\"type\":\"bar\"},{\"alignmentgroup\":\"True\",\"hovertemplate\":\"constructorName=Mercedes<br>driverName=%{x}<br>points=%{y}<extra></extra>\",\"legendgroup\":\"Mercedes\",\"marker\":{\"color\":\"#6CD3BF\",\"pattern\":{\"shape\":\"\"}},\"name\":\"Mercedes\",\"offsetgroup\":\"Mercedes\",\"orientation\":\"v\",\"showlegend\":true,\"textposition\":\"auto\",\"x\":[\"Valtteri Bottas\",\"Lewis Hamilton\"],\"xaxis\":\"x\",\"y\":[9.954545454545455,17.522727272727273],\"yaxis\":\"y\",\"type\":\"bar\"}],                        {\"template\":{\"data\":{\"histogram2dcontour\":[{\"type\":\"histogram2dcontour\",\"colorbar\":{\"outlinewidth\":0,\"ticks\":\"\"},\"colorscale\":[[0.0,\"#0d0887\"],[0.1111111111111111,\"#46039f\"],[0.2222222222222222,\"#7201a8\"],[0.3333333333333333,\"#9c179e\"],[0.4444444444444444,\"#bd3786\"],[0.5555555555555556,\"#d8576b\"],[0.6666666666666666,\"#ed7953\"],[0.7777777777777778,\"#fb9f3a\"],[0.8888888888888888,\"#fdca26\"],[1.0,\"#f0f921\"]]}],\"choropleth\":[{\"type\":\"choropleth\",\"colorbar\":{\"outlinewidth\":0,\"ticks\":\"\"}}],\"histogram2d\":[{\"type\":\"histogram2d\",\"colorbar\":{\"outlinewidth\":0,\"ticks\":\"\"},\"colorscale\":[[0.0,\"#0d0887\"],[0.1111111111111111,\"#46039f\"],[0.2222222222222222,\"#7201a8\"],[0.3333333333333333,\"#9c179e\"],[0.4444444444444444,\"#bd3786\"],[0.5555555555555556,\"#d8576b\"],[0.6666666666666666,\"#ed7953\"],[0.7777777777777778,\"#fb9f3a\"],[0.8888888888888888,\"#fdca26\"],[1.0,\"#f0f921\"]]}],\"heatmap\":[{\"type\":\"heatmap\",\"colorbar\":{\"outlinewidth\":0,\"ticks\":\"\"},\"colorscale\":[[0.0,\"#0d0887\"],[0.1111111111111111,\"#46039f\"],[0.2222222222222222,\"#7201a8\"],[0.3333333333333333,\"#9c179e\"],[0.4444444444444444,\"#bd3786\"],[0.5555555555555556,\"#d8576b\"],[0.6666666666666666,\"#ed7953\"],[0.7777777777777778,\"#fb9f3a\"],[0.8888888888888888,\"#fdca26\"],[1.0,\"#f0f921\"]]}],\"heatmapgl\":[{\"type\":\"heatmapgl\",\"colorbar\":{\"outlinewidth\":0,\"ticks\":\"\"},\"colorscale\":[[0.0,\"#0d0887\"],[0.1111111111111111,\"#46039f\"],[0.2222222222222222,\"#7201a8\"],[0.3333333333333333,\"#9c179e\"],[0.4444444444444444,\"#bd3786\"],[0.5555555555555556,\"#d8576b\"],[0.6666666666666666,\"#ed7953\"],[0.7777777777777778,\"#fb9f3a\"],[0.8888888888888888,\"#fdca26\"],[1.0,\"#f0f921\"]]}],\"contourcarpet\":[{\"type\":\"contourcarpet\",\"colorbar\":{\"outlinewidth\":0,\"ticks\":\"\"}}],\"contour\":[{\"type\":\"contour\",\"colorbar\":{\"outlinewidth\":0,\"ticks\":\"\"},\"colorscale\":[[0.0,\"#0d0887\"],[0.1111111111111111,\"#46039f\"],[0.2222222222222222,\"#7201a8\"],[0.3333333333333333,\"#9c179e\"],[0.4444444444444444,\"#bd3786\"],[0.5555555555555556,\"#d8576b\"],[0.6666666666666666,\"#ed7953\"],[0.7777777777777778,\"#fb9f3a\"],[0.8888888888888888,\"#fdca26\"],[1.0,\"#f0f921\"]]}],\"surface\":[{\"type\":\"surface\",\"colorbar\":{\"outlinewidth\":0,\"ticks\":\"\"},\"colorscale\":[[0.0,\"#0d0887\"],[0.1111111111111111,\"#46039f\"],[0.2222222222222222,\"#7201a8\"],[0.3333333333333333,\"#9c179e\"],[0.4444444444444444,\"#bd3786\"],[0.5555555555555556,\"#d8576b\"],[0.6666666666666666,\"#ed7953\"],[0.7777777777777778,\"#fb9f3a\"],[0.8888888888888888,\"#fdca26\"],[1.0,\"#f0f921\"]]}],\"mesh3d\":[{\"type\":\"mesh3d\",\"colorbar\":{\"outlinewidth\":0,\"ticks\":\"\"}}],\"scatter\":[{\"marker\":{\"line\":{\"color\":\"#283442\"}},\"type\":\"scatter\"}],\"parcoords\":[{\"type\":\"parcoords\",\"line\":{\"colorbar\":{\"outlinewidth\":0,\"ticks\":\"\"}}}],\"scatterpolargl\":[{\"type\":\"scatterpolargl\",\"marker\":{\"colorbar\":{\"outlinewidth\":0,\"ticks\":\"\"}}}],\"bar\":[{\"error_x\":{\"color\":\"#f2f5fa\"},\"error_y\":{\"color\":\"#f2f5fa\"},\"marker\":{\"line\":{\"color\":\"rgb(17,17,17)\",\"width\":0.5},\"pattern\":{\"fillmode\":\"overlay\",\"size\":10,\"solidity\":0.2}},\"type\":\"bar\"}],\"scattergeo\":[{\"type\":\"scattergeo\",\"marker\":{\"colorbar\":{\"outlinewidth\":0,\"ticks\":\"\"}}}],\"scatterpolar\":[{\"type\":\"scatterpolar\",\"marker\":{\"colorbar\":{\"outlinewidth\":0,\"ticks\":\"\"}}}],\"histogram\":[{\"marker\":{\"pattern\":{\"fillmode\":\"overlay\",\"size\":10,\"solidity\":0.2}},\"type\":\"histogram\"}],\"scattergl\":[{\"marker\":{\"line\":{\"color\":\"#283442\"}},\"type\":\"scattergl\"}],\"scatter3d\":[{\"type\":\"scatter3d\",\"line\":{\"colorbar\":{\"outlinewidth\":0,\"ticks\":\"\"}},\"marker\":{\"colorbar\":{\"outlinewidth\":0,\"ticks\":\"\"}}}],\"scattermapbox\":[{\"type\":\"scattermapbox\",\"marker\":{\"colorbar\":{\"outlinewidth\":0,\"ticks\":\"\"}}}],\"scatterternary\":[{\"type\":\"scatterternary\",\"marker\":{\"colorbar\":{\"outlinewidth\":0,\"ticks\":\"\"}}}],\"scattercarpet\":[{\"type\":\"scattercarpet\",\"marker\":{\"colorbar\":{\"outlinewidth\":0,\"ticks\":\"\"}}}],\"carpet\":[{\"aaxis\":{\"endlinecolor\":\"#A2B1C6\",\"gridcolor\":\"#506784\",\"linecolor\":\"#506784\",\"minorgridcolor\":\"#506784\",\"startlinecolor\":\"#A2B1C6\"},\"baxis\":{\"endlinecolor\":\"#A2B1C6\",\"gridcolor\":\"#506784\",\"linecolor\":\"#506784\",\"minorgridcolor\":\"#506784\",\"startlinecolor\":\"#A2B1C6\"},\"type\":\"carpet\"}],\"table\":[{\"cells\":{\"fill\":{\"color\":\"#506784\"},\"line\":{\"color\":\"rgb(17,17,17)\"}},\"header\":{\"fill\":{\"color\":\"#2a3f5f\"},\"line\":{\"color\":\"rgb(17,17,17)\"}},\"type\":\"table\"}],\"barpolar\":[{\"marker\":{\"line\":{\"color\":\"rgb(17,17,17)\",\"width\":0.5},\"pattern\":{\"fillmode\":\"overlay\",\"size\":10,\"solidity\":0.2}},\"type\":\"barpolar\"}],\"pie\":[{\"automargin\":true,\"type\":\"pie\"}]},\"layout\":{\"autotypenumbers\":\"strict\",\"colorway\":[\"#636efa\",\"#EF553B\",\"#00cc96\",\"#ab63fa\",\"#FFA15A\",\"#19d3f3\",\"#FF6692\",\"#B6E880\",\"#FF97FF\",\"#FECB52\"],\"font\":{\"color\":\"#f2f5fa\"},\"hovermode\":\"closest\",\"hoverlabel\":{\"align\":\"left\"},\"paper_bgcolor\":\"rgb(17,17,17)\",\"plot_bgcolor\":\"rgb(17,17,17)\",\"polar\":{\"bgcolor\":\"rgb(17,17,17)\",\"angularaxis\":{\"gridcolor\":\"#506784\",\"linecolor\":\"#506784\",\"ticks\":\"\"},\"radialaxis\":{\"gridcolor\":\"#506784\",\"linecolor\":\"#506784\",\"ticks\":\"\"}},\"ternary\":{\"bgcolor\":\"rgb(17,17,17)\",\"aaxis\":{\"gridcolor\":\"#506784\",\"linecolor\":\"#506784\",\"ticks\":\"\"},\"baxis\":{\"gridcolor\":\"#506784\",\"linecolor\":\"#506784\",\"ticks\":\"\"},\"caxis\":{\"gridcolor\":\"#506784\",\"linecolor\":\"#506784\",\"ticks\":\"\"}},\"coloraxis\":{\"colorbar\":{\"outlinewidth\":0,\"ticks\":\"\"}},\"colorscale\":{\"sequential\":[[0.0,\"#0d0887\"],[0.1111111111111111,\"#46039f\"],[0.2222222222222222,\"#7201a8\"],[0.3333333333333333,\"#9c179e\"],[0.4444444444444444,\"#bd3786\"],[0.5555555555555556,\"#d8576b\"],[0.6666666666666666,\"#ed7953\"],[0.7777777777777778,\"#fb9f3a\"],[0.8888888888888888,\"#fdca26\"],[1.0,\"#f0f921\"]],\"sequentialminus\":[[0.0,\"#0d0887\"],[0.1111111111111111,\"#46039f\"],[0.2222222222222222,\"#7201a8\"],[0.3333333333333333,\"#9c179e\"],[0.4444444444444444,\"#bd3786\"],[0.5555555555555556,\"#d8576b\"],[0.6666666666666666,\"#ed7953\"],[0.7777777777777778,\"#fb9f3a\"],[0.8888888888888888,\"#fdca26\"],[1.0,\"#f0f921\"]],\"diverging\":[[0,\"#8e0152\"],[0.1,\"#c51b7d\"],[0.2,\"#de77ae\"],[0.3,\"#f1b6da\"],[0.4,\"#fde0ef\"],[0.5,\"#f7f7f7\"],[0.6,\"#e6f5d0\"],[0.7,\"#b8e186\"],[0.8,\"#7fbc41\"],[0.9,\"#4d9221\"],[1,\"#276419\"]]},\"xaxis\":{\"gridcolor\":\"#283442\",\"linecolor\":\"#506784\",\"ticks\":\"\",\"title\":{\"standoff\":15},\"zerolinecolor\":\"#283442\",\"automargin\":true,\"zerolinewidth\":2},\"yaxis\":{\"gridcolor\":\"#283442\",\"linecolor\":\"#506784\",\"ticks\":\"\",\"title\":{\"standoff\":15},\"zerolinecolor\":\"#283442\",\"automargin\":true,\"zerolinewidth\":2},\"scene\":{\"xaxis\":{\"backgroundcolor\":\"rgb(17,17,17)\",\"gridcolor\":\"#506784\",\"linecolor\":\"#506784\",\"showbackground\":true,\"ticks\":\"\",\"zerolinecolor\":\"#C8D4E3\",\"gridwidth\":2},\"yaxis\":{\"backgroundcolor\":\"rgb(17,17,17)\",\"gridcolor\":\"#506784\",\"linecolor\":\"#506784\",\"showbackground\":true,\"ticks\":\"\",\"zerolinecolor\":\"#C8D4E3\",\"gridwidth\":2},\"zaxis\":{\"backgroundcolor\":\"rgb(17,17,17)\",\"gridcolor\":\"#506784\",\"linecolor\":\"#506784\",\"showbackground\":true,\"ticks\":\"\",\"zerolinecolor\":\"#C8D4E3\",\"gridwidth\":2}},\"shapedefaults\":{\"line\":{\"color\":\"#f2f5fa\"}},\"annotationdefaults\":{\"arrowcolor\":\"#f2f5fa\",\"arrowhead\":0,\"arrowwidth\":1},\"geo\":{\"bgcolor\":\"rgb(17,17,17)\",\"landcolor\":\"rgb(17,17,17)\",\"subunitcolor\":\"#506784\",\"showland\":true,\"showlakes\":true,\"lakecolor\":\"rgb(17,17,17)\"},\"title\":{\"x\":0.05},\"updatemenudefaults\":{\"bgcolor\":\"#506784\",\"borderwidth\":0},\"sliderdefaults\":{\"bgcolor\":\"#C8D4E3\",\"borderwidth\":1,\"bordercolor\":\"rgb(17,17,17)\",\"tickwidth\":0},\"mapbox\":{\"style\":\"dark\"}}},\"xaxis\":{\"anchor\":\"y\",\"domain\":[0.0,1.0],\"title\":{\"text\":\"driverName\"}},\"yaxis\":{\"anchor\":\"x\",\"domain\":[0.0,1.0],\"title\":{\"text\":\"points\"}},\"legend\":{\"title\":{\"text\":\"constructorName\"},\"tracegroupgap\":0},\"title\":{\"text\":\"Mean of points per race during the 2021 season\"},\"barmode\":\"relative\"},                        {\"responsive\": true}                    ).then(function(){\n                            \nvar gd = document.getElementById('24a5c07f-4fa2-4547-8e28-c35b3f2b7c56');\nvar x = new MutationObserver(function (mutations, observer) {{\n        var display = window.getComputedStyle(gd).display;\n        if (!display || display === 'none') {{\n            console.log([gd, 'removed!']);\n            Plotly.purge(gd);\n            observer.disconnect();\n        }}\n}});\n\n// Listen for the removal of the full notebook cells\nvar notebookContainer = gd.closest('#notebook-container');\nif (notebookContainer) {{\n    x.observe(notebookContainer, {childList: true});\n}}\n\n// Listen for the clearing of the current output cell\nvar outputEl = gd.closest('.output');\nif (outputEl) {{\n    x.observe(outputEl, {childList: true});\n}}\n\n                        })                };                });            </script>        </div>"
     },
     "metadata": {},
     "output_type": "display_data"
    }
   ],
   "source": [
    "#Mean of points per race\n",
    "fig = px.bar(df_points_focus,\n",
    "             x='driverName',\n",
    "             y='points',\n",
    "             color='constructorName',\n",
    "             color_discrete_map=constructor_color_map,\n",
    "             title=f'Mean of points per race during the {year} season')\n",
    "fig.show()"
   ],
   "metadata": {
    "collapsed": false,
    "ExecuteTime": {
     "end_time": "2023-07-11T14:43:18.159081600Z",
     "start_time": "2023-07-11T14:43:18.049679500Z"
    }
   }
  },
  {
   "cell_type": "code",
   "execution_count": 46,
   "outputs": [
    {
     "data": {
      "text/plain": "                driverName constructorName\nresultId                                  \n25425         Pierre Gasly      AlphaTauri\n25440      Valtteri Bottas      Alfa Romeo\n25441      Fernando Alonso  Alpine F1 Team\n25442     Daniel Ricciardo         McLaren\n25443      Nicholas Latifi        Williams\n...                    ...             ...\n25805         Yuki Tsunoda      AlphaTauri\n25823         Lando Norris         McLaren\n25824      Kevin Magnussen    Haas F1 Team\n25825     Daniel Ricciardo         McLaren\n25845      Fernando Alonso  Alpine F1 Team\n\n[64 rows x 2 columns]",
      "text/html": "<div>\n<style scoped>\n    .dataframe tbody tr th:only-of-type {\n        vertical-align: middle;\n    }\n\n    .dataframe tbody tr th {\n        vertical-align: top;\n    }\n\n    .dataframe thead th {\n        text-align: right;\n    }\n</style>\n<table border=\"1\" class=\"dataframe\">\n  <thead>\n    <tr style=\"text-align: right;\">\n      <th></th>\n      <th>driverName</th>\n      <th>constructorName</th>\n    </tr>\n    <tr>\n      <th>resultId</th>\n      <th></th>\n      <th></th>\n    </tr>\n  </thead>\n  <tbody>\n    <tr>\n      <th>25425</th>\n      <td>Pierre Gasly</td>\n      <td>AlphaTauri</td>\n    </tr>\n    <tr>\n      <th>25440</th>\n      <td>Valtteri Bottas</td>\n      <td>Alfa Romeo</td>\n    </tr>\n    <tr>\n      <th>25441</th>\n      <td>Fernando Alonso</td>\n      <td>Alpine F1 Team</td>\n    </tr>\n    <tr>\n      <th>25442</th>\n      <td>Daniel Ricciardo</td>\n      <td>McLaren</td>\n    </tr>\n    <tr>\n      <th>25443</th>\n      <td>Nicholas Latifi</td>\n      <td>Williams</td>\n    </tr>\n    <tr>\n      <th>...</th>\n      <td>...</td>\n      <td>...</td>\n    </tr>\n    <tr>\n      <th>25805</th>\n      <td>Yuki Tsunoda</td>\n      <td>AlphaTauri</td>\n    </tr>\n    <tr>\n      <th>25823</th>\n      <td>Lando Norris</td>\n      <td>McLaren</td>\n    </tr>\n    <tr>\n      <th>25824</th>\n      <td>Kevin Magnussen</td>\n      <td>Haas F1 Team</td>\n    </tr>\n    <tr>\n      <th>25825</th>\n      <td>Daniel Ricciardo</td>\n      <td>McLaren</td>\n    </tr>\n    <tr>\n      <th>25845</th>\n      <td>Fernando Alonso</td>\n      <td>Alpine F1 Team</td>\n    </tr>\n  </tbody>\n</table>\n<p>64 rows × 2 columns</p>\n</div>"
     },
     "execution_count": 46,
     "metadata": {},
     "output_type": "execute_result"
    }
   ],
   "source": [
    "df_nb_accident = newResults[(newResults['year'] == year) & (newResults['position'].isnull())]\n",
    "df_nb_accident = df_nb_accident[['driverName', 'constructorName']]"
   ],
   "metadata": {
    "collapsed": false,
    "ExecuteTime": {
     "end_time": "2023-07-11T13:50:41.223821100Z",
     "start_time": "2023-07-11T13:50:41.184411Z"
    }
   }
  },
  {
   "cell_type": "code",
   "execution_count": 47,
   "outputs": [
    {
     "data": {
      "text/plain": "          driverName constructorName  count\n6     George Russell        Mercedes      1\n11    Lewis Hamilton        Mercedes      1\n12    Max Verstappen        Red Bull      1\n9       Lance Stroll    Aston Martin      2\n17      Sergio Pérez        Red Bull      2\n4       Esteban Ocon  Alpine F1 Team      2\n16  Sebastian Vettel    Aston Martin      2\n10      Lando Norris         McLaren      2\n2    Charles Leclerc         Ferrari      3\n3   Daniel Ricciardo         McLaren      3\n15      Pierre Gasly      AlphaTauri      3\n13   Mick Schumacher    Haas F1 Team      3\n14   Nicholas Latifi        Williams      4\n0    Alexander Albon        Williams      4\n8    Kevin Magnussen    Haas F1 Team      4\n7        Guanyu Zhou      Alfa Romeo      5\n5    Fernando Alonso  Alpine F1 Team      5\n18   Valtteri Bottas      Alfa Romeo      5\n1       Carlos Sainz         Ferrari      6\n19      Yuki Tsunoda      AlphaTauri      6",
      "text/html": "<div>\n<style scoped>\n    .dataframe tbody tr th:only-of-type {\n        vertical-align: middle;\n    }\n\n    .dataframe tbody tr th {\n        vertical-align: top;\n    }\n\n    .dataframe thead th {\n        text-align: right;\n    }\n</style>\n<table border=\"1\" class=\"dataframe\">\n  <thead>\n    <tr style=\"text-align: right;\">\n      <th></th>\n      <th>driverName</th>\n      <th>constructorName</th>\n      <th>count</th>\n    </tr>\n  </thead>\n  <tbody>\n    <tr>\n      <th>6</th>\n      <td>George Russell</td>\n      <td>Mercedes</td>\n      <td>1</td>\n    </tr>\n    <tr>\n      <th>11</th>\n      <td>Lewis Hamilton</td>\n      <td>Mercedes</td>\n      <td>1</td>\n    </tr>\n    <tr>\n      <th>12</th>\n      <td>Max Verstappen</td>\n      <td>Red Bull</td>\n      <td>1</td>\n    </tr>\n    <tr>\n      <th>9</th>\n      <td>Lance Stroll</td>\n      <td>Aston Martin</td>\n      <td>2</td>\n    </tr>\n    <tr>\n      <th>17</th>\n      <td>Sergio Pérez</td>\n      <td>Red Bull</td>\n      <td>2</td>\n    </tr>\n    <tr>\n      <th>4</th>\n      <td>Esteban Ocon</td>\n      <td>Alpine F1 Team</td>\n      <td>2</td>\n    </tr>\n    <tr>\n      <th>16</th>\n      <td>Sebastian Vettel</td>\n      <td>Aston Martin</td>\n      <td>2</td>\n    </tr>\n    <tr>\n      <th>10</th>\n      <td>Lando Norris</td>\n      <td>McLaren</td>\n      <td>2</td>\n    </tr>\n    <tr>\n      <th>2</th>\n      <td>Charles Leclerc</td>\n      <td>Ferrari</td>\n      <td>3</td>\n    </tr>\n    <tr>\n      <th>3</th>\n      <td>Daniel Ricciardo</td>\n      <td>McLaren</td>\n      <td>3</td>\n    </tr>\n    <tr>\n      <th>15</th>\n      <td>Pierre Gasly</td>\n      <td>AlphaTauri</td>\n      <td>3</td>\n    </tr>\n    <tr>\n      <th>13</th>\n      <td>Mick Schumacher</td>\n      <td>Haas F1 Team</td>\n      <td>3</td>\n    </tr>\n    <tr>\n      <th>14</th>\n      <td>Nicholas Latifi</td>\n      <td>Williams</td>\n      <td>4</td>\n    </tr>\n    <tr>\n      <th>0</th>\n      <td>Alexander Albon</td>\n      <td>Williams</td>\n      <td>4</td>\n    </tr>\n    <tr>\n      <th>8</th>\n      <td>Kevin Magnussen</td>\n      <td>Haas F1 Team</td>\n      <td>4</td>\n    </tr>\n    <tr>\n      <th>7</th>\n      <td>Guanyu Zhou</td>\n      <td>Alfa Romeo</td>\n      <td>5</td>\n    </tr>\n    <tr>\n      <th>5</th>\n      <td>Fernando Alonso</td>\n      <td>Alpine F1 Team</td>\n      <td>5</td>\n    </tr>\n    <tr>\n      <th>18</th>\n      <td>Valtteri Bottas</td>\n      <td>Alfa Romeo</td>\n      <td>5</td>\n    </tr>\n    <tr>\n      <th>1</th>\n      <td>Carlos Sainz</td>\n      <td>Ferrari</td>\n      <td>6</td>\n    </tr>\n    <tr>\n      <th>19</th>\n      <td>Yuki Tsunoda</td>\n      <td>AlphaTauri</td>\n      <td>6</td>\n    </tr>\n  </tbody>\n</table>\n</div>"
     },
     "execution_count": 47,
     "metadata": {},
     "output_type": "execute_result"
    }
   ],
   "source": [
    "grouped_counts = df_nb_accident.groupby('driverName').agg(constructorName = ('constructorName', 'first'), count = ('driverName', 'size')).reset_index()\n",
    "grouped_counts = grouped_counts.sort_values('count', ascending=True)"
   ],
   "metadata": {
    "collapsed": false,
    "ExecuteTime": {
     "end_time": "2023-07-11T13:50:41.302513300Z",
     "start_time": "2023-07-11T13:50:41.208188800Z"
    }
   }
  },
  {
   "cell_type": "code",
   "execution_count": 76,
   "outputs": [
    {
     "data": {
      "application/vnd.plotly.v1+json": {
       "data": [
        {
         "alignmentgroup": "True",
         "hovertemplate": "constructorName=Mercedes<br>driverName=%{x}<br>count=%{y}<extra></extra>",
         "legendgroup": "Mercedes",
         "marker": {
          "color": "#6CD3BF",
          "pattern": {
           "shape": ""
          }
         },
         "name": "Mercedes",
         "offsetgroup": "Mercedes",
         "orientation": "v",
         "showlegend": true,
         "textposition": "auto",
         "x": [
          "George Russell",
          "Lewis Hamilton"
         ],
         "xaxis": "x",
         "y": [
          1,
          1
         ],
         "yaxis": "y",
         "type": "bar"
        },
        {
         "alignmentgroup": "True",
         "hovertemplate": "constructorName=Red Bull<br>driverName=%{x}<br>count=%{y}<extra></extra>",
         "legendgroup": "Red Bull",
         "marker": {
          "color": "#1E5BC6",
          "pattern": {
           "shape": ""
          }
         },
         "name": "Red Bull",
         "offsetgroup": "Red Bull",
         "orientation": "v",
         "showlegend": true,
         "textposition": "auto",
         "x": [
          "Max Verstappen",
          "Sergio Pérez"
         ],
         "xaxis": "x",
         "y": [
          1,
          2
         ],
         "yaxis": "y",
         "type": "bar"
        },
        {
         "alignmentgroup": "True",
         "hovertemplate": "constructorName=Aston Martin<br>driverName=%{x}<br>count=%{y}<extra></extra>",
         "legendgroup": "Aston Martin",
         "marker": {
          "color": "#2D826D",
          "pattern": {
           "shape": ""
          }
         },
         "name": "Aston Martin",
         "offsetgroup": "Aston Martin",
         "orientation": "v",
         "showlegend": true,
         "textposition": "auto",
         "x": [
          "Lance Stroll",
          "Sebastian Vettel"
         ],
         "xaxis": "x",
         "y": [
          2,
          2
         ],
         "yaxis": "y",
         "type": "bar"
        },
        {
         "alignmentgroup": "True",
         "hovertemplate": "constructorName=Alpine F1 Team<br>driverName=%{x}<br>count=%{y}<extra></extra>",
         "legendgroup": "Alpine F1 Team",
         "marker": {
          "color": "#2293D1",
          "pattern": {
           "shape": ""
          }
         },
         "name": "Alpine F1 Team",
         "offsetgroup": "Alpine F1 Team",
         "orientation": "v",
         "showlegend": true,
         "textposition": "auto",
         "x": [
          "Esteban Ocon",
          "Fernando Alonso"
         ],
         "xaxis": "x",
         "y": [
          2,
          5
         ],
         "yaxis": "y",
         "type": "bar"
        },
        {
         "alignmentgroup": "True",
         "hovertemplate": "constructorName=McLaren<br>driverName=%{x}<br>count=%{y}<extra></extra>",
         "legendgroup": "McLaren",
         "marker": {
          "color": "#F58020",
          "pattern": {
           "shape": ""
          }
         },
         "name": "McLaren",
         "offsetgroup": "McLaren",
         "orientation": "v",
         "showlegend": true,
         "textposition": "auto",
         "x": [
          "Lando Norris",
          "Daniel Ricciardo"
         ],
         "xaxis": "x",
         "y": [
          2,
          3
         ],
         "yaxis": "y",
         "type": "bar"
        },
        {
         "alignmentgroup": "True",
         "hovertemplate": "constructorName=Ferrari<br>driverName=%{x}<br>count=%{y}<extra></extra>",
         "legendgroup": "Ferrari",
         "marker": {
          "color": "#ED1C24",
          "pattern": {
           "shape": ""
          }
         },
         "name": "Ferrari",
         "offsetgroup": "Ferrari",
         "orientation": "v",
         "showlegend": true,
         "textposition": "auto",
         "x": [
          "Charles Leclerc",
          "Carlos Sainz"
         ],
         "xaxis": "x",
         "y": [
          3,
          6
         ],
         "yaxis": "y",
         "type": "bar"
        },
        {
         "alignmentgroup": "True",
         "hovertemplate": "constructorName=AlphaTauri<br>driverName=%{x}<br>count=%{y}<extra></extra>",
         "legendgroup": "AlphaTauri",
         "marker": {
          "color": "#4E7C9B",
          "pattern": {
           "shape": ""
          }
         },
         "name": "AlphaTauri",
         "offsetgroup": "AlphaTauri",
         "orientation": "v",
         "showlegend": true,
         "textposition": "auto",
         "x": [
          "Pierre Gasly",
          "Yuki Tsunoda"
         ],
         "xaxis": "x",
         "y": [
          3,
          6
         ],
         "yaxis": "y",
         "type": "bar"
        },
        {
         "alignmentgroup": "True",
         "hovertemplate": "constructorName=Haas F1 Team<br>driverName=%{x}<br>count=%{y}<extra></extra>",
         "legendgroup": "Haas F1 Team",
         "marker": {
          "color": "#B6BABD",
          "pattern": {
           "shape": ""
          }
         },
         "name": "Haas F1 Team",
         "offsetgroup": "Haas F1 Team",
         "orientation": "v",
         "showlegend": true,
         "textposition": "auto",
         "x": [
          "Mick Schumacher",
          "Kevin Magnussen"
         ],
         "xaxis": "x",
         "y": [
          3,
          4
         ],
         "yaxis": "y",
         "type": "bar"
        },
        {
         "alignmentgroup": "True",
         "hovertemplate": "constructorName=Williams<br>driverName=%{x}<br>count=%{y}<extra></extra>",
         "legendgroup": "Williams",
         "marker": {
          "color": "#37BEDD",
          "pattern": {
           "shape": ""
          }
         },
         "name": "Williams",
         "offsetgroup": "Williams",
         "orientation": "v",
         "showlegend": true,
         "textposition": "auto",
         "x": [
          "Nicholas Latifi",
          "Alexander Albon"
         ],
         "xaxis": "x",
         "y": [
          4,
          4
         ],
         "yaxis": "y",
         "type": "bar"
        },
        {
         "alignmentgroup": "True",
         "hovertemplate": "constructorName=Alfa Romeo<br>driverName=%{x}<br>count=%{y}<extra></extra>",
         "legendgroup": "Alfa Romeo",
         "marker": {
          "color": "#B12039",
          "pattern": {
           "shape": ""
          }
         },
         "name": "Alfa Romeo",
         "offsetgroup": "Alfa Romeo",
         "orientation": "v",
         "showlegend": true,
         "textposition": "auto",
         "x": [
          "Guanyu Zhou",
          "Valtteri Bottas"
         ],
         "xaxis": "x",
         "y": [
          5,
          5
         ],
         "yaxis": "y",
         "type": "bar"
        }
       ],
       "layout": {
        "template": {
         "data": {
          "histogram2dcontour": [
           {
            "type": "histogram2dcontour",
            "colorbar": {
             "outlinewidth": 0,
             "ticks": ""
            },
            "colorscale": [
             [
              0.0,
              "#0d0887"
             ],
             [
              0.1111111111111111,
              "#46039f"
             ],
             [
              0.2222222222222222,
              "#7201a8"
             ],
             [
              0.3333333333333333,
              "#9c179e"
             ],
             [
              0.4444444444444444,
              "#bd3786"
             ],
             [
              0.5555555555555556,
              "#d8576b"
             ],
             [
              0.6666666666666666,
              "#ed7953"
             ],
             [
              0.7777777777777778,
              "#fb9f3a"
             ],
             [
              0.8888888888888888,
              "#fdca26"
             ],
             [
              1.0,
              "#f0f921"
             ]
            ]
           }
          ],
          "choropleth": [
           {
            "type": "choropleth",
            "colorbar": {
             "outlinewidth": 0,
             "ticks": ""
            }
           }
          ],
          "histogram2d": [
           {
            "type": "histogram2d",
            "colorbar": {
             "outlinewidth": 0,
             "ticks": ""
            },
            "colorscale": [
             [
              0.0,
              "#0d0887"
             ],
             [
              0.1111111111111111,
              "#46039f"
             ],
             [
              0.2222222222222222,
              "#7201a8"
             ],
             [
              0.3333333333333333,
              "#9c179e"
             ],
             [
              0.4444444444444444,
              "#bd3786"
             ],
             [
              0.5555555555555556,
              "#d8576b"
             ],
             [
              0.6666666666666666,
              "#ed7953"
             ],
             [
              0.7777777777777778,
              "#fb9f3a"
             ],
             [
              0.8888888888888888,
              "#fdca26"
             ],
             [
              1.0,
              "#f0f921"
             ]
            ]
           }
          ],
          "heatmap": [
           {
            "type": "heatmap",
            "colorbar": {
             "outlinewidth": 0,
             "ticks": ""
            },
            "colorscale": [
             [
              0.0,
              "#0d0887"
             ],
             [
              0.1111111111111111,
              "#46039f"
             ],
             [
              0.2222222222222222,
              "#7201a8"
             ],
             [
              0.3333333333333333,
              "#9c179e"
             ],
             [
              0.4444444444444444,
              "#bd3786"
             ],
             [
              0.5555555555555556,
              "#d8576b"
             ],
             [
              0.6666666666666666,
              "#ed7953"
             ],
             [
              0.7777777777777778,
              "#fb9f3a"
             ],
             [
              0.8888888888888888,
              "#fdca26"
             ],
             [
              1.0,
              "#f0f921"
             ]
            ]
           }
          ],
          "heatmapgl": [
           {
            "type": "heatmapgl",
            "colorbar": {
             "outlinewidth": 0,
             "ticks": ""
            },
            "colorscale": [
             [
              0.0,
              "#0d0887"
             ],
             [
              0.1111111111111111,
              "#46039f"
             ],
             [
              0.2222222222222222,
              "#7201a8"
             ],
             [
              0.3333333333333333,
              "#9c179e"
             ],
             [
              0.4444444444444444,
              "#bd3786"
             ],
             [
              0.5555555555555556,
              "#d8576b"
             ],
             [
              0.6666666666666666,
              "#ed7953"
             ],
             [
              0.7777777777777778,
              "#fb9f3a"
             ],
             [
              0.8888888888888888,
              "#fdca26"
             ],
             [
              1.0,
              "#f0f921"
             ]
            ]
           }
          ],
          "contourcarpet": [
           {
            "type": "contourcarpet",
            "colorbar": {
             "outlinewidth": 0,
             "ticks": ""
            }
           }
          ],
          "contour": [
           {
            "type": "contour",
            "colorbar": {
             "outlinewidth": 0,
             "ticks": ""
            },
            "colorscale": [
             [
              0.0,
              "#0d0887"
             ],
             [
              0.1111111111111111,
              "#46039f"
             ],
             [
              0.2222222222222222,
              "#7201a8"
             ],
             [
              0.3333333333333333,
              "#9c179e"
             ],
             [
              0.4444444444444444,
              "#bd3786"
             ],
             [
              0.5555555555555556,
              "#d8576b"
             ],
             [
              0.6666666666666666,
              "#ed7953"
             ],
             [
              0.7777777777777778,
              "#fb9f3a"
             ],
             [
              0.8888888888888888,
              "#fdca26"
             ],
             [
              1.0,
              "#f0f921"
             ]
            ]
           }
          ],
          "surface": [
           {
            "type": "surface",
            "colorbar": {
             "outlinewidth": 0,
             "ticks": ""
            },
            "colorscale": [
             [
              0.0,
              "#0d0887"
             ],
             [
              0.1111111111111111,
              "#46039f"
             ],
             [
              0.2222222222222222,
              "#7201a8"
             ],
             [
              0.3333333333333333,
              "#9c179e"
             ],
             [
              0.4444444444444444,
              "#bd3786"
             ],
             [
              0.5555555555555556,
              "#d8576b"
             ],
             [
              0.6666666666666666,
              "#ed7953"
             ],
             [
              0.7777777777777778,
              "#fb9f3a"
             ],
             [
              0.8888888888888888,
              "#fdca26"
             ],
             [
              1.0,
              "#f0f921"
             ]
            ]
           }
          ],
          "mesh3d": [
           {
            "type": "mesh3d",
            "colorbar": {
             "outlinewidth": 0,
             "ticks": ""
            }
           }
          ],
          "scatter": [
           {
            "marker": {
             "line": {
              "color": "#283442"
             }
            },
            "type": "scatter"
           }
          ],
          "parcoords": [
           {
            "type": "parcoords",
            "line": {
             "colorbar": {
              "outlinewidth": 0,
              "ticks": ""
             }
            }
           }
          ],
          "scatterpolargl": [
           {
            "type": "scatterpolargl",
            "marker": {
             "colorbar": {
              "outlinewidth": 0,
              "ticks": ""
             }
            }
           }
          ],
          "bar": [
           {
            "error_x": {
             "color": "#f2f5fa"
            },
            "error_y": {
             "color": "#f2f5fa"
            },
            "marker": {
             "line": {
              "color": "rgb(17,17,17)",
              "width": 0.5
             },
             "pattern": {
              "fillmode": "overlay",
              "size": 10,
              "solidity": 0.2
             }
            },
            "type": "bar"
           }
          ],
          "scattergeo": [
           {
            "type": "scattergeo",
            "marker": {
             "colorbar": {
              "outlinewidth": 0,
              "ticks": ""
             }
            }
           }
          ],
          "scatterpolar": [
           {
            "type": "scatterpolar",
            "marker": {
             "colorbar": {
              "outlinewidth": 0,
              "ticks": ""
             }
            }
           }
          ],
          "histogram": [
           {
            "marker": {
             "pattern": {
              "fillmode": "overlay",
              "size": 10,
              "solidity": 0.2
             }
            },
            "type": "histogram"
           }
          ],
          "scattergl": [
           {
            "marker": {
             "line": {
              "color": "#283442"
             }
            },
            "type": "scattergl"
           }
          ],
          "scatter3d": [
           {
            "type": "scatter3d",
            "line": {
             "colorbar": {
              "outlinewidth": 0,
              "ticks": ""
             }
            },
            "marker": {
             "colorbar": {
              "outlinewidth": 0,
              "ticks": ""
             }
            }
           }
          ],
          "scattermapbox": [
           {
            "type": "scattermapbox",
            "marker": {
             "colorbar": {
              "outlinewidth": 0,
              "ticks": ""
             }
            }
           }
          ],
          "scatterternary": [
           {
            "type": "scatterternary",
            "marker": {
             "colorbar": {
              "outlinewidth": 0,
              "ticks": ""
             }
            }
           }
          ],
          "scattercarpet": [
           {
            "type": "scattercarpet",
            "marker": {
             "colorbar": {
              "outlinewidth": 0,
              "ticks": ""
             }
            }
           }
          ],
          "carpet": [
           {
            "aaxis": {
             "endlinecolor": "#A2B1C6",
             "gridcolor": "#506784",
             "linecolor": "#506784",
             "minorgridcolor": "#506784",
             "startlinecolor": "#A2B1C6"
            },
            "baxis": {
             "endlinecolor": "#A2B1C6",
             "gridcolor": "#506784",
             "linecolor": "#506784",
             "minorgridcolor": "#506784",
             "startlinecolor": "#A2B1C6"
            },
            "type": "carpet"
           }
          ],
          "table": [
           {
            "cells": {
             "fill": {
              "color": "#506784"
             },
             "line": {
              "color": "rgb(17,17,17)"
             }
            },
            "header": {
             "fill": {
              "color": "#2a3f5f"
             },
             "line": {
              "color": "rgb(17,17,17)"
             }
            },
            "type": "table"
           }
          ],
          "barpolar": [
           {
            "marker": {
             "line": {
              "color": "rgb(17,17,17)",
              "width": 0.5
             },
             "pattern": {
              "fillmode": "overlay",
              "size": 10,
              "solidity": 0.2
             }
            },
            "type": "barpolar"
           }
          ],
          "pie": [
           {
            "automargin": true,
            "type": "pie"
           }
          ]
         },
         "layout": {
          "autotypenumbers": "strict",
          "colorway": [
           "#636efa",
           "#EF553B",
           "#00cc96",
           "#ab63fa",
           "#FFA15A",
           "#19d3f3",
           "#FF6692",
           "#B6E880",
           "#FF97FF",
           "#FECB52"
          ],
          "font": {
           "color": "#f2f5fa"
          },
          "hovermode": "closest",
          "hoverlabel": {
           "align": "left"
          },
          "paper_bgcolor": "rgb(17,17,17)",
          "plot_bgcolor": "rgb(17,17,17)",
          "polar": {
           "bgcolor": "rgb(17,17,17)",
           "angularaxis": {
            "gridcolor": "#506784",
            "linecolor": "#506784",
            "ticks": ""
           },
           "radialaxis": {
            "gridcolor": "#506784",
            "linecolor": "#506784",
            "ticks": ""
           }
          },
          "ternary": {
           "bgcolor": "rgb(17,17,17)",
           "aaxis": {
            "gridcolor": "#506784",
            "linecolor": "#506784",
            "ticks": ""
           },
           "baxis": {
            "gridcolor": "#506784",
            "linecolor": "#506784",
            "ticks": ""
           },
           "caxis": {
            "gridcolor": "#506784",
            "linecolor": "#506784",
            "ticks": ""
           }
          },
          "coloraxis": {
           "colorbar": {
            "outlinewidth": 0,
            "ticks": ""
           }
          },
          "colorscale": {
           "sequential": [
            [
             0.0,
             "#0d0887"
            ],
            [
             0.1111111111111111,
             "#46039f"
            ],
            [
             0.2222222222222222,
             "#7201a8"
            ],
            [
             0.3333333333333333,
             "#9c179e"
            ],
            [
             0.4444444444444444,
             "#bd3786"
            ],
            [
             0.5555555555555556,
             "#d8576b"
            ],
            [
             0.6666666666666666,
             "#ed7953"
            ],
            [
             0.7777777777777778,
             "#fb9f3a"
            ],
            [
             0.8888888888888888,
             "#fdca26"
            ],
            [
             1.0,
             "#f0f921"
            ]
           ],
           "sequentialminus": [
            [
             0.0,
             "#0d0887"
            ],
            [
             0.1111111111111111,
             "#46039f"
            ],
            [
             0.2222222222222222,
             "#7201a8"
            ],
            [
             0.3333333333333333,
             "#9c179e"
            ],
            [
             0.4444444444444444,
             "#bd3786"
            ],
            [
             0.5555555555555556,
             "#d8576b"
            ],
            [
             0.6666666666666666,
             "#ed7953"
            ],
            [
             0.7777777777777778,
             "#fb9f3a"
            ],
            [
             0.8888888888888888,
             "#fdca26"
            ],
            [
             1.0,
             "#f0f921"
            ]
           ],
           "diverging": [
            [
             0,
             "#8e0152"
            ],
            [
             0.1,
             "#c51b7d"
            ],
            [
             0.2,
             "#de77ae"
            ],
            [
             0.3,
             "#f1b6da"
            ],
            [
             0.4,
             "#fde0ef"
            ],
            [
             0.5,
             "#f7f7f7"
            ],
            [
             0.6,
             "#e6f5d0"
            ],
            [
             0.7,
             "#b8e186"
            ],
            [
             0.8,
             "#7fbc41"
            ],
            [
             0.9,
             "#4d9221"
            ],
            [
             1,
             "#276419"
            ]
           ]
          },
          "xaxis": {
           "gridcolor": "#283442",
           "linecolor": "#506784",
           "ticks": "",
           "title": {
            "standoff": 15
           },
           "zerolinecolor": "#283442",
           "automargin": true,
           "zerolinewidth": 2
          },
          "yaxis": {
           "gridcolor": "#283442",
           "linecolor": "#506784",
           "ticks": "",
           "title": {
            "standoff": 15
           },
           "zerolinecolor": "#283442",
           "automargin": true,
           "zerolinewidth": 2
          },
          "scene": {
           "xaxis": {
            "backgroundcolor": "rgb(17,17,17)",
            "gridcolor": "#506784",
            "linecolor": "#506784",
            "showbackground": true,
            "ticks": "",
            "zerolinecolor": "#C8D4E3",
            "gridwidth": 2
           },
           "yaxis": {
            "backgroundcolor": "rgb(17,17,17)",
            "gridcolor": "#506784",
            "linecolor": "#506784",
            "showbackground": true,
            "ticks": "",
            "zerolinecolor": "#C8D4E3",
            "gridwidth": 2
           },
           "zaxis": {
            "backgroundcolor": "rgb(17,17,17)",
            "gridcolor": "#506784",
            "linecolor": "#506784",
            "showbackground": true,
            "ticks": "",
            "zerolinecolor": "#C8D4E3",
            "gridwidth": 2
           }
          },
          "shapedefaults": {
           "line": {
            "color": "#f2f5fa"
           }
          },
          "annotationdefaults": {
           "arrowcolor": "#f2f5fa",
           "arrowhead": 0,
           "arrowwidth": 1
          },
          "geo": {
           "bgcolor": "rgb(17,17,17)",
           "landcolor": "rgb(17,17,17)",
           "subunitcolor": "#506784",
           "showland": true,
           "showlakes": true,
           "lakecolor": "rgb(17,17,17)"
          },
          "title": {
           "x": 0.05
          },
          "updatemenudefaults": {
           "bgcolor": "#506784",
           "borderwidth": 0
          },
          "sliderdefaults": {
           "bgcolor": "#C8D4E3",
           "borderwidth": 1,
           "bordercolor": "rgb(17,17,17)",
           "tickwidth": 0
          },
          "mapbox": {
           "style": "dark"
          }
         }
        },
        "xaxis": {
         "anchor": "y",
         "domain": [
          0.0,
          1.0
         ],
         "title": {
          "text": "driverName"
         }
        },
        "yaxis": {
         "anchor": "x",
         "domain": [
          0.0,
          1.0
         ],
         "title": {
          "text": "count"
         }
        },
        "legend": {
         "title": {
          "text": "constructorName"
         },
         "tracegroupgap": 0
        },
        "title": {
         "text": "Number of unfinished races per driver during the 2021 season"
        },
        "barmode": "relative"
       },
       "config": {
        "plotlyServerURL": "https://plot.ly"
       }
      },
      "text/html": "<div>                            <div id=\"f995f68e-5e29-4ff5-a902-85b268967680\" class=\"plotly-graph-div\" style=\"height:525px; width:100%;\"></div>            <script type=\"text/javascript\">                require([\"plotly\"], function(Plotly) {                    window.PLOTLYENV=window.PLOTLYENV || {};                                    if (document.getElementById(\"f995f68e-5e29-4ff5-a902-85b268967680\")) {                    Plotly.newPlot(                        \"f995f68e-5e29-4ff5-a902-85b268967680\",                        [{\"alignmentgroup\":\"True\",\"hovertemplate\":\"constructorName=Mercedes<br>driverName=%{x}<br>count=%{y}<extra></extra>\",\"legendgroup\":\"Mercedes\",\"marker\":{\"color\":\"#6CD3BF\",\"pattern\":{\"shape\":\"\"}},\"name\":\"Mercedes\",\"offsetgroup\":\"Mercedes\",\"orientation\":\"v\",\"showlegend\":true,\"textposition\":\"auto\",\"x\":[\"George Russell\",\"Lewis Hamilton\"],\"xaxis\":\"x\",\"y\":[1,1],\"yaxis\":\"y\",\"type\":\"bar\"},{\"alignmentgroup\":\"True\",\"hovertemplate\":\"constructorName=Red Bull<br>driverName=%{x}<br>count=%{y}<extra></extra>\",\"legendgroup\":\"Red Bull\",\"marker\":{\"color\":\"#1E5BC6\",\"pattern\":{\"shape\":\"\"}},\"name\":\"Red Bull\",\"offsetgroup\":\"Red Bull\",\"orientation\":\"v\",\"showlegend\":true,\"textposition\":\"auto\",\"x\":[\"Max Verstappen\",\"Sergio P\\u00e9rez\"],\"xaxis\":\"x\",\"y\":[1,2],\"yaxis\":\"y\",\"type\":\"bar\"},{\"alignmentgroup\":\"True\",\"hovertemplate\":\"constructorName=Aston Martin<br>driverName=%{x}<br>count=%{y}<extra></extra>\",\"legendgroup\":\"Aston Martin\",\"marker\":{\"color\":\"#2D826D\",\"pattern\":{\"shape\":\"\"}},\"name\":\"Aston Martin\",\"offsetgroup\":\"Aston Martin\",\"orientation\":\"v\",\"showlegend\":true,\"textposition\":\"auto\",\"x\":[\"Lance Stroll\",\"Sebastian Vettel\"],\"xaxis\":\"x\",\"y\":[2,2],\"yaxis\":\"y\",\"type\":\"bar\"},{\"alignmentgroup\":\"True\",\"hovertemplate\":\"constructorName=Alpine F1 Team<br>driverName=%{x}<br>count=%{y}<extra></extra>\",\"legendgroup\":\"Alpine F1 Team\",\"marker\":{\"color\":\"#2293D1\",\"pattern\":{\"shape\":\"\"}},\"name\":\"Alpine F1 Team\",\"offsetgroup\":\"Alpine F1 Team\",\"orientation\":\"v\",\"showlegend\":true,\"textposition\":\"auto\",\"x\":[\"Esteban Ocon\",\"Fernando Alonso\"],\"xaxis\":\"x\",\"y\":[2,5],\"yaxis\":\"y\",\"type\":\"bar\"},{\"alignmentgroup\":\"True\",\"hovertemplate\":\"constructorName=McLaren<br>driverName=%{x}<br>count=%{y}<extra></extra>\",\"legendgroup\":\"McLaren\",\"marker\":{\"color\":\"#F58020\",\"pattern\":{\"shape\":\"\"}},\"name\":\"McLaren\",\"offsetgroup\":\"McLaren\",\"orientation\":\"v\",\"showlegend\":true,\"textposition\":\"auto\",\"x\":[\"Lando Norris\",\"Daniel Ricciardo\"],\"xaxis\":\"x\",\"y\":[2,3],\"yaxis\":\"y\",\"type\":\"bar\"},{\"alignmentgroup\":\"True\",\"hovertemplate\":\"constructorName=Ferrari<br>driverName=%{x}<br>count=%{y}<extra></extra>\",\"legendgroup\":\"Ferrari\",\"marker\":{\"color\":\"#ED1C24\",\"pattern\":{\"shape\":\"\"}},\"name\":\"Ferrari\",\"offsetgroup\":\"Ferrari\",\"orientation\":\"v\",\"showlegend\":true,\"textposition\":\"auto\",\"x\":[\"Charles Leclerc\",\"Carlos Sainz\"],\"xaxis\":\"x\",\"y\":[3,6],\"yaxis\":\"y\",\"type\":\"bar\"},{\"alignmentgroup\":\"True\",\"hovertemplate\":\"constructorName=AlphaTauri<br>driverName=%{x}<br>count=%{y}<extra></extra>\",\"legendgroup\":\"AlphaTauri\",\"marker\":{\"color\":\"#4E7C9B\",\"pattern\":{\"shape\":\"\"}},\"name\":\"AlphaTauri\",\"offsetgroup\":\"AlphaTauri\",\"orientation\":\"v\",\"showlegend\":true,\"textposition\":\"auto\",\"x\":[\"Pierre Gasly\",\"Yuki Tsunoda\"],\"xaxis\":\"x\",\"y\":[3,6],\"yaxis\":\"y\",\"type\":\"bar\"},{\"alignmentgroup\":\"True\",\"hovertemplate\":\"constructorName=Haas F1 Team<br>driverName=%{x}<br>count=%{y}<extra></extra>\",\"legendgroup\":\"Haas F1 Team\",\"marker\":{\"color\":\"#B6BABD\",\"pattern\":{\"shape\":\"\"}},\"name\":\"Haas F1 Team\",\"offsetgroup\":\"Haas F1 Team\",\"orientation\":\"v\",\"showlegend\":true,\"textposition\":\"auto\",\"x\":[\"Mick Schumacher\",\"Kevin Magnussen\"],\"xaxis\":\"x\",\"y\":[3,4],\"yaxis\":\"y\",\"type\":\"bar\"},{\"alignmentgroup\":\"True\",\"hovertemplate\":\"constructorName=Williams<br>driverName=%{x}<br>count=%{y}<extra></extra>\",\"legendgroup\":\"Williams\",\"marker\":{\"color\":\"#37BEDD\",\"pattern\":{\"shape\":\"\"}},\"name\":\"Williams\",\"offsetgroup\":\"Williams\",\"orientation\":\"v\",\"showlegend\":true,\"textposition\":\"auto\",\"x\":[\"Nicholas Latifi\",\"Alexander Albon\"],\"xaxis\":\"x\",\"y\":[4,4],\"yaxis\":\"y\",\"type\":\"bar\"},{\"alignmentgroup\":\"True\",\"hovertemplate\":\"constructorName=Alfa Romeo<br>driverName=%{x}<br>count=%{y}<extra></extra>\",\"legendgroup\":\"Alfa Romeo\",\"marker\":{\"color\":\"#B12039\",\"pattern\":{\"shape\":\"\"}},\"name\":\"Alfa Romeo\",\"offsetgroup\":\"Alfa Romeo\",\"orientation\":\"v\",\"showlegend\":true,\"textposition\":\"auto\",\"x\":[\"Guanyu Zhou\",\"Valtteri Bottas\"],\"xaxis\":\"x\",\"y\":[5,5],\"yaxis\":\"y\",\"type\":\"bar\"}],                        {\"template\":{\"data\":{\"histogram2dcontour\":[{\"type\":\"histogram2dcontour\",\"colorbar\":{\"outlinewidth\":0,\"ticks\":\"\"},\"colorscale\":[[0.0,\"#0d0887\"],[0.1111111111111111,\"#46039f\"],[0.2222222222222222,\"#7201a8\"],[0.3333333333333333,\"#9c179e\"],[0.4444444444444444,\"#bd3786\"],[0.5555555555555556,\"#d8576b\"],[0.6666666666666666,\"#ed7953\"],[0.7777777777777778,\"#fb9f3a\"],[0.8888888888888888,\"#fdca26\"],[1.0,\"#f0f921\"]]}],\"choropleth\":[{\"type\":\"choropleth\",\"colorbar\":{\"outlinewidth\":0,\"ticks\":\"\"}}],\"histogram2d\":[{\"type\":\"histogram2d\",\"colorbar\":{\"outlinewidth\":0,\"ticks\":\"\"},\"colorscale\":[[0.0,\"#0d0887\"],[0.1111111111111111,\"#46039f\"],[0.2222222222222222,\"#7201a8\"],[0.3333333333333333,\"#9c179e\"],[0.4444444444444444,\"#bd3786\"],[0.5555555555555556,\"#d8576b\"],[0.6666666666666666,\"#ed7953\"],[0.7777777777777778,\"#fb9f3a\"],[0.8888888888888888,\"#fdca26\"],[1.0,\"#f0f921\"]]}],\"heatmap\":[{\"type\":\"heatmap\",\"colorbar\":{\"outlinewidth\":0,\"ticks\":\"\"},\"colorscale\":[[0.0,\"#0d0887\"],[0.1111111111111111,\"#46039f\"],[0.2222222222222222,\"#7201a8\"],[0.3333333333333333,\"#9c179e\"],[0.4444444444444444,\"#bd3786\"],[0.5555555555555556,\"#d8576b\"],[0.6666666666666666,\"#ed7953\"],[0.7777777777777778,\"#fb9f3a\"],[0.8888888888888888,\"#fdca26\"],[1.0,\"#f0f921\"]]}],\"heatmapgl\":[{\"type\":\"heatmapgl\",\"colorbar\":{\"outlinewidth\":0,\"ticks\":\"\"},\"colorscale\":[[0.0,\"#0d0887\"],[0.1111111111111111,\"#46039f\"],[0.2222222222222222,\"#7201a8\"],[0.3333333333333333,\"#9c179e\"],[0.4444444444444444,\"#bd3786\"],[0.5555555555555556,\"#d8576b\"],[0.6666666666666666,\"#ed7953\"],[0.7777777777777778,\"#fb9f3a\"],[0.8888888888888888,\"#fdca26\"],[1.0,\"#f0f921\"]]}],\"contourcarpet\":[{\"type\":\"contourcarpet\",\"colorbar\":{\"outlinewidth\":0,\"ticks\":\"\"}}],\"contour\":[{\"type\":\"contour\",\"colorbar\":{\"outlinewidth\":0,\"ticks\":\"\"},\"colorscale\":[[0.0,\"#0d0887\"],[0.1111111111111111,\"#46039f\"],[0.2222222222222222,\"#7201a8\"],[0.3333333333333333,\"#9c179e\"],[0.4444444444444444,\"#bd3786\"],[0.5555555555555556,\"#d8576b\"],[0.6666666666666666,\"#ed7953\"],[0.7777777777777778,\"#fb9f3a\"],[0.8888888888888888,\"#fdca26\"],[1.0,\"#f0f921\"]]}],\"surface\":[{\"type\":\"surface\",\"colorbar\":{\"outlinewidth\":0,\"ticks\":\"\"},\"colorscale\":[[0.0,\"#0d0887\"],[0.1111111111111111,\"#46039f\"],[0.2222222222222222,\"#7201a8\"],[0.3333333333333333,\"#9c179e\"],[0.4444444444444444,\"#bd3786\"],[0.5555555555555556,\"#d8576b\"],[0.6666666666666666,\"#ed7953\"],[0.7777777777777778,\"#fb9f3a\"],[0.8888888888888888,\"#fdca26\"],[1.0,\"#f0f921\"]]}],\"mesh3d\":[{\"type\":\"mesh3d\",\"colorbar\":{\"outlinewidth\":0,\"ticks\":\"\"}}],\"scatter\":[{\"marker\":{\"line\":{\"color\":\"#283442\"}},\"type\":\"scatter\"}],\"parcoords\":[{\"type\":\"parcoords\",\"line\":{\"colorbar\":{\"outlinewidth\":0,\"ticks\":\"\"}}}],\"scatterpolargl\":[{\"type\":\"scatterpolargl\",\"marker\":{\"colorbar\":{\"outlinewidth\":0,\"ticks\":\"\"}}}],\"bar\":[{\"error_x\":{\"color\":\"#f2f5fa\"},\"error_y\":{\"color\":\"#f2f5fa\"},\"marker\":{\"line\":{\"color\":\"rgb(17,17,17)\",\"width\":0.5},\"pattern\":{\"fillmode\":\"overlay\",\"size\":10,\"solidity\":0.2}},\"type\":\"bar\"}],\"scattergeo\":[{\"type\":\"scattergeo\",\"marker\":{\"colorbar\":{\"outlinewidth\":0,\"ticks\":\"\"}}}],\"scatterpolar\":[{\"type\":\"scatterpolar\",\"marker\":{\"colorbar\":{\"outlinewidth\":0,\"ticks\":\"\"}}}],\"histogram\":[{\"marker\":{\"pattern\":{\"fillmode\":\"overlay\",\"size\":10,\"solidity\":0.2}},\"type\":\"histogram\"}],\"scattergl\":[{\"marker\":{\"line\":{\"color\":\"#283442\"}},\"type\":\"scattergl\"}],\"scatter3d\":[{\"type\":\"scatter3d\",\"line\":{\"colorbar\":{\"outlinewidth\":0,\"ticks\":\"\"}},\"marker\":{\"colorbar\":{\"outlinewidth\":0,\"ticks\":\"\"}}}],\"scattermapbox\":[{\"type\":\"scattermapbox\",\"marker\":{\"colorbar\":{\"outlinewidth\":0,\"ticks\":\"\"}}}],\"scatterternary\":[{\"type\":\"scatterternary\",\"marker\":{\"colorbar\":{\"outlinewidth\":0,\"ticks\":\"\"}}}],\"scattercarpet\":[{\"type\":\"scattercarpet\",\"marker\":{\"colorbar\":{\"outlinewidth\":0,\"ticks\":\"\"}}}],\"carpet\":[{\"aaxis\":{\"endlinecolor\":\"#A2B1C6\",\"gridcolor\":\"#506784\",\"linecolor\":\"#506784\",\"minorgridcolor\":\"#506784\",\"startlinecolor\":\"#A2B1C6\"},\"baxis\":{\"endlinecolor\":\"#A2B1C6\",\"gridcolor\":\"#506784\",\"linecolor\":\"#506784\",\"minorgridcolor\":\"#506784\",\"startlinecolor\":\"#A2B1C6\"},\"type\":\"carpet\"}],\"table\":[{\"cells\":{\"fill\":{\"color\":\"#506784\"},\"line\":{\"color\":\"rgb(17,17,17)\"}},\"header\":{\"fill\":{\"color\":\"#2a3f5f\"},\"line\":{\"color\":\"rgb(17,17,17)\"}},\"type\":\"table\"}],\"barpolar\":[{\"marker\":{\"line\":{\"color\":\"rgb(17,17,17)\",\"width\":0.5},\"pattern\":{\"fillmode\":\"overlay\",\"size\":10,\"solidity\":0.2}},\"type\":\"barpolar\"}],\"pie\":[{\"automargin\":true,\"type\":\"pie\"}]},\"layout\":{\"autotypenumbers\":\"strict\",\"colorway\":[\"#636efa\",\"#EF553B\",\"#00cc96\",\"#ab63fa\",\"#FFA15A\",\"#19d3f3\",\"#FF6692\",\"#B6E880\",\"#FF97FF\",\"#FECB52\"],\"font\":{\"color\":\"#f2f5fa\"},\"hovermode\":\"closest\",\"hoverlabel\":{\"align\":\"left\"},\"paper_bgcolor\":\"rgb(17,17,17)\",\"plot_bgcolor\":\"rgb(17,17,17)\",\"polar\":{\"bgcolor\":\"rgb(17,17,17)\",\"angularaxis\":{\"gridcolor\":\"#506784\",\"linecolor\":\"#506784\",\"ticks\":\"\"},\"radialaxis\":{\"gridcolor\":\"#506784\",\"linecolor\":\"#506784\",\"ticks\":\"\"}},\"ternary\":{\"bgcolor\":\"rgb(17,17,17)\",\"aaxis\":{\"gridcolor\":\"#506784\",\"linecolor\":\"#506784\",\"ticks\":\"\"},\"baxis\":{\"gridcolor\":\"#506784\",\"linecolor\":\"#506784\",\"ticks\":\"\"},\"caxis\":{\"gridcolor\":\"#506784\",\"linecolor\":\"#506784\",\"ticks\":\"\"}},\"coloraxis\":{\"colorbar\":{\"outlinewidth\":0,\"ticks\":\"\"}},\"colorscale\":{\"sequential\":[[0.0,\"#0d0887\"],[0.1111111111111111,\"#46039f\"],[0.2222222222222222,\"#7201a8\"],[0.3333333333333333,\"#9c179e\"],[0.4444444444444444,\"#bd3786\"],[0.5555555555555556,\"#d8576b\"],[0.6666666666666666,\"#ed7953\"],[0.7777777777777778,\"#fb9f3a\"],[0.8888888888888888,\"#fdca26\"],[1.0,\"#f0f921\"]],\"sequentialminus\":[[0.0,\"#0d0887\"],[0.1111111111111111,\"#46039f\"],[0.2222222222222222,\"#7201a8\"],[0.3333333333333333,\"#9c179e\"],[0.4444444444444444,\"#bd3786\"],[0.5555555555555556,\"#d8576b\"],[0.6666666666666666,\"#ed7953\"],[0.7777777777777778,\"#fb9f3a\"],[0.8888888888888888,\"#fdca26\"],[1.0,\"#f0f921\"]],\"diverging\":[[0,\"#8e0152\"],[0.1,\"#c51b7d\"],[0.2,\"#de77ae\"],[0.3,\"#f1b6da\"],[0.4,\"#fde0ef\"],[0.5,\"#f7f7f7\"],[0.6,\"#e6f5d0\"],[0.7,\"#b8e186\"],[0.8,\"#7fbc41\"],[0.9,\"#4d9221\"],[1,\"#276419\"]]},\"xaxis\":{\"gridcolor\":\"#283442\",\"linecolor\":\"#506784\",\"ticks\":\"\",\"title\":{\"standoff\":15},\"zerolinecolor\":\"#283442\",\"automargin\":true,\"zerolinewidth\":2},\"yaxis\":{\"gridcolor\":\"#283442\",\"linecolor\":\"#506784\",\"ticks\":\"\",\"title\":{\"standoff\":15},\"zerolinecolor\":\"#283442\",\"automargin\":true,\"zerolinewidth\":2},\"scene\":{\"xaxis\":{\"backgroundcolor\":\"rgb(17,17,17)\",\"gridcolor\":\"#506784\",\"linecolor\":\"#506784\",\"showbackground\":true,\"ticks\":\"\",\"zerolinecolor\":\"#C8D4E3\",\"gridwidth\":2},\"yaxis\":{\"backgroundcolor\":\"rgb(17,17,17)\",\"gridcolor\":\"#506784\",\"linecolor\":\"#506784\",\"showbackground\":true,\"ticks\":\"\",\"zerolinecolor\":\"#C8D4E3\",\"gridwidth\":2},\"zaxis\":{\"backgroundcolor\":\"rgb(17,17,17)\",\"gridcolor\":\"#506784\",\"linecolor\":\"#506784\",\"showbackground\":true,\"ticks\":\"\",\"zerolinecolor\":\"#C8D4E3\",\"gridwidth\":2}},\"shapedefaults\":{\"line\":{\"color\":\"#f2f5fa\"}},\"annotationdefaults\":{\"arrowcolor\":\"#f2f5fa\",\"arrowhead\":0,\"arrowwidth\":1},\"geo\":{\"bgcolor\":\"rgb(17,17,17)\",\"landcolor\":\"rgb(17,17,17)\",\"subunitcolor\":\"#506784\",\"showland\":true,\"showlakes\":true,\"lakecolor\":\"rgb(17,17,17)\"},\"title\":{\"x\":0.05},\"updatemenudefaults\":{\"bgcolor\":\"#506784\",\"borderwidth\":0},\"sliderdefaults\":{\"bgcolor\":\"#C8D4E3\",\"borderwidth\":1,\"bordercolor\":\"rgb(17,17,17)\",\"tickwidth\":0},\"mapbox\":{\"style\":\"dark\"}}},\"xaxis\":{\"anchor\":\"y\",\"domain\":[0.0,1.0],\"title\":{\"text\":\"driverName\"}},\"yaxis\":{\"anchor\":\"x\",\"domain\":[0.0,1.0],\"title\":{\"text\":\"count\"}},\"legend\":{\"title\":{\"text\":\"constructorName\"},\"tracegroupgap\":0},\"title\":{\"text\":\"Number of unfinished races per driver during the 2021 season\"},\"barmode\":\"relative\"},                        {\"responsive\": true}                    ).then(function(){\n                            \nvar gd = document.getElementById('f995f68e-5e29-4ff5-a902-85b268967680');\nvar x = new MutationObserver(function (mutations, observer) {{\n        var display = window.getComputedStyle(gd).display;\n        if (!display || display === 'none') {{\n            console.log([gd, 'removed!']);\n            Plotly.purge(gd);\n            observer.disconnect();\n        }}\n}});\n\n// Listen for the removal of the full notebook cells\nvar notebookContainer = gd.closest('#notebook-container');\nif (notebookContainer) {{\n    x.observe(notebookContainer, {childList: true});\n}}\n\n// Listen for the clearing of the current output cell\nvar outputEl = gd.closest('.output');\nif (outputEl) {{\n    x.observe(outputEl, {childList: true});\n}}\n\n                        })                };                });            </script>        </div>"
     },
     "metadata": {},
     "output_type": "display_data"
    }
   ],
   "source": [
    "# Number of unfinished race per driver\n",
    "fig = px.bar(grouped_counts,\n",
    "             x='driverName',\n",
    "             y='count',\n",
    "             color='constructorName',\n",
    "             color_discrete_map=constructor_color_map,\n",
    "             title=f'Number of unfinished races per driver during the {year} season')\n",
    "fig.show()"
   ],
   "metadata": {
    "collapsed": false,
    "ExecuteTime": {
     "end_time": "2023-07-11T14:51:13.627718700Z",
     "start_time": "2023-07-11T14:51:12.831910Z"
    }
   }
  },
  {
   "cell_type": "code",
   "execution_count": 58,
   "outputs": [
    {
     "name": "stdout",
     "output_type": "stream",
     "text": [
      "               driverName        q1        q2        q3\n",
      "resultId                                               \n",
      "25406     Charles Leclerc  1:44.378  1:44.336  1:44.992\n",
      "25407        Carlos Sainz  1:44.378  1:44.336  1:44.992\n",
      "25408      Lewis Hamilton  1:44.378  1:44.336  1:44.992\n",
      "25409      George Russell  1:44.378  1:44.336  1:44.992\n",
      "25410     Kevin Magnussen  1:44.378  1:44.336  1:44.992\n",
      "...                   ...       ...       ...       ...\n",
      "25841     Mick Schumacher  1:31.279  1:28.954  1:29.711\n",
      "25842     Kevin Magnussen  1:31.279  1:28.954  1:29.711\n",
      "25843      Lewis Hamilton  1:31.279  1:28.954  1:29.711\n",
      "25844     Nicholas Latifi  1:31.279  1:28.954  1:29.711\n",
      "25845     Fernando Alonso  1:31.279  1:28.954  1:29.711\n",
      "\n",
      "[440 rows x 4 columns]\n"
     ]
    }
   ],
   "source": [
    "df_focus_on_quali = pd.merge(newResults, qualifying, left_on='raceId', right_index=True, how='left')\n",
    "df_focus_on_quali = df_focus_on_quali[(df_focus_on_quali['year'] == year)]\n",
    "df_focus_on_quali = df_focus_on_quali[['driverName','q1', 'q2', 'q3']]\n",
    "print(df_focus_on_quali)"
   ],
   "metadata": {
    "collapsed": false,
    "ExecuteTime": {
     "end_time": "2023-07-11T14:01:26.010961300Z",
     "start_time": "2023-07-11T14:01:25.948496900Z"
    }
   }
  },
  {
   "cell_type": "code",
   "execution_count": 56,
   "outputs": [
    {
     "name": "stdout",
     "output_type": "stream",
     "text": [
      "                  Q1_count\n",
      "driverName                \n",
      "Alexander Albon         21\n",
      "Carlos Sainz            22\n",
      "Charles Leclerc         22\n",
      "Daniel Ricciardo        22\n",
      "Esteban Ocon            22\n",
      "Fernando Alonso         22\n",
      "George Russell          22\n",
      "Guanyu Zhou             22\n",
      "Kevin Magnussen         22\n",
      "Lance Stroll            22\n",
      "Lando Norris            22\n",
      "Lewis Hamilton          22\n",
      "Max Verstappen          22\n",
      "Mick Schumacher         22\n",
      "Nicholas Latifi         22\n",
      "Nico Hülkenberg          2\n",
      "Nyck de Vries            1\n",
      "Pierre Gasly            22\n",
      "Sebastian Vettel        20\n",
      "Sergio Pérez            22\n",
      "Valtteri Bottas         22\n",
      "Yuki Tsunoda            22\n"
     ]
    }
   ],
   "source": [
    "nb_q1 = df_focus_on_quali.groupby('driverName').agg(Q1_count = ('q1', 'size'))\n",
    "print(nb_q1)"
   ],
   "metadata": {
    "collapsed": false,
    "ExecuteTime": {
     "end_time": "2023-07-11T13:59:24.046888800Z",
     "start_time": "2023-07-11T13:59:23.984358700Z"
    }
   }
  },
  {
   "cell_type": "code",
   "execution_count": 60,
   "outputs": [
    {
     "name": "stdout",
     "output_type": "stream",
     "text": [
      "                  Q2_count\n",
      "driverName                \n",
      "Alexander Albon         17\n",
      "Carlos Sainz            17\n",
      "Charles Leclerc         17\n",
      "Daniel Ricciardo        17\n",
      "Esteban Ocon            17\n",
      "Fernando Alonso         17\n",
      "George Russell          17\n",
      "Guanyu Zhou             17\n",
      "Kevin Magnussen         17\n",
      "Lance Stroll            17\n",
      "Lando Norris            17\n",
      "Lewis Hamilton          17\n",
      "Max Verstappen          17\n",
      "Mick Schumacher         17\n",
      "Nicholas Latifi         17\n",
      "Nico Hülkenberg          2\n",
      "Pierre Gasly            17\n",
      "Sebastian Vettel        15\n",
      "Sergio Pérez            17\n",
      "Valtteri Bottas         17\n",
      "Yuki Tsunoda            17\n"
     ]
    }
   ],
   "source": [
    "nb_q2 = df_focus_on_quali.dropna(subset=['q2']).groupby('driverName').agg(Q2_count = ('q2', 'size'))\n",
    "print(nb_q2)"
   ],
   "metadata": {
    "collapsed": false,
    "ExecuteTime": {
     "end_time": "2023-07-11T14:15:23.314630800Z",
     "start_time": "2023-07-11T14:15:23.282631Z"
    }
   }
  }
 ],
 "metadata": {
  "kernelspec": {
   "display_name": "Python 3",
   "language": "python",
   "name": "python3"
  },
  "language_info": {
   "codemirror_mode": {
    "name": "ipython",
    "version": 2
   },
   "file_extension": ".py",
   "mimetype": "text/x-python",
   "name": "python",
   "nbconvert_exporter": "python",
   "pygments_lexer": "ipython2",
   "version": "2.7.6"
  }
 },
 "nbformat": 4,
 "nbformat_minor": 0
}
